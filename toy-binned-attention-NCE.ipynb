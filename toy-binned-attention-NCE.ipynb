{
 "cells": [
  {
   "cell_type": "markdown",
   "metadata": {},
   "source": [
    "Attention Layer with Contrastive Learning"
   ]
  },
  {
   "cell_type": "code",
   "execution_count": 3,
   "metadata": {},
   "outputs": [],
   "source": [
    "#https://github.com/Stonesjtu/Pytorch-NCE/blob/master/nce/nce_loss.py"
   ]
  },
  {
   "cell_type": "code",
   "execution_count": 1,
   "metadata": {},
   "outputs": [
    {
     "name": "stdout",
     "output_type": "stream",
     "text": [
      "PyTorch version: 1.8.0\n"
     ]
    }
   ],
   "source": [
    "from __future__ import absolute_import, division, print_function\n",
    "\n",
    "import math\n",
    "import os\n",
    "\n",
    "import numpy as np\n",
    "import pandas\n",
    "\n",
    "import scipy\n",
    "import seaborn as sns\n",
    "\n",
    "from time import time,sleep\n",
    "\n",
    "import matplotlib.pyplot as plt\n",
    "%matplotlib inline\n",
    "import torch\n",
    "import torch.nn as nn\n",
    "import torch.nn.functional as F\n",
    "\n",
    "from pathlib import Path\n",
    "\n",
    "import warnings\n",
    "warnings.filterwarnings('ignore')\n",
    "\n",
    "mypal = sns.color_palette('Set2')\n",
    "emp_color = mypal[0]\n",
    "pred_color = mypal[1]\n",
    "print (\"PyTorch version: \" + torch.__version__)\n"
   ]
  },
  {
   "cell_type": "code",
   "execution_count": 2,
   "metadata": {},
   "outputs": [],
   "source": [
    "from data.utils import SimpleDataset\n",
    "\n",
    "from utils.metrics import NLL_reg, point_loss, get_CI_raw\n",
    "from utils.trainer_helpers import batch_t_categorize, wt_avg\n",
    "\n"
   ]
  },
  {
   "cell_type": "markdown",
   "metadata": {},
   "source": [
    "## Cox-gompertz linear setting\n",
    "\n",
    "Load framingham dataset"
   ]
  },
  {
   "cell_type": "code",
   "execution_count": 3,
   "metadata": {
    "scrolled": true
   },
   "outputs": [
    {
     "data": {
      "text/plain": [
       "(4, 0.41815)"
      ]
     },
     "execution_count": 3,
     "metadata": {},
     "output_type": "execute_result"
    }
   ],
   "source": [
    "from data.simulation import simulation_cox_weibull_all, single_subj_true_dist_cox_gompertz\n",
    "\n",
    "file_path = '/data/zidi/framingham/'\n",
    "result_path_root = '/data/zidi/ACSurv/results/toy_bin/e40'\n",
    "# file_path = '/Users/ZidiXiu/Dropbox/Research/framingham/data/'\n",
    "# result_path_root = \"/Users/ZidiXiu/Dropbox/Research/ContrastiveSurvival/results\"+'/toy'\n",
    "\n",
    "cut_bound = 6\n",
    "df= simulation_cox_weibull_all(n=20000, censor_bound=68)\n",
    "\n",
    "# change to non-ohe \n",
    "cat0_level = df['ohe'][0]\n",
    "cat1_level = df['ohe'][1]\n",
    "\n",
    "# cat0 = 0*df['x'][:,2] + 1*df['x'][:,3]+ 2*df['x'][:,4]+ 3*df['x'][:,5]\n",
    "cat0 = np.sum(np.array([level*df['x'][:, 2+level] for level in range(cat0_level)]),0).reshape(-1,1)\n",
    "cat1 = np.sum(np.array([level*df['x'][:, 2+cat0_level+level] for level in range(cat1_level)]),0).reshape(-1,1)\n",
    "\n",
    "\n",
    "df['x'] = np.concatenate((df['x'][:,df['cts_idx']], cat0, cat1), axis=1)\n",
    "nsamples, ncov= df['x'].shape\n",
    "\n",
    "cov_list = np.array(['AGE','RANDON', 'cat0','cat1'])\n",
    "cts_idx = df['cts_idx']\n",
    "cts_var = cov_list[cts_idx]\n",
    "cat_idx = np.setdiff1d(np.arange(ncov), cts_idx)\n",
    "cat_var = cov_list[cat_idx]\n",
    "\n",
    "\n",
    "true_beta = df['coef']\n",
    "ncov, np.mean(df['e'])"
   ]
  },
  {
   "cell_type": "code",
   "execution_count": 4,
   "metadata": {},
   "outputs": [
    {
     "data": {
      "text/plain": [
       "<AxesSubplot:ylabel='Density'>"
      ]
     },
     "execution_count": 4,
     "metadata": {},
     "output_type": "execute_result"
    },
    {
     "data": {
      "image/png": "[encoded data removed]",
      "text/plain": [
       "<Figure size 432x288 with 1 Axes>"
      ]
     },
     "metadata": {
      "needs_background": "light"
     },
     "output_type": "display_data"
    }
   ],
   "source": [
    "sns.distplot(df['T'])"
   ]
  },
  {
   "cell_type": "code",
   "execution_count": 5,
   "metadata": {},
   "outputs": [
    {
     "name": "stdout",
     "output_type": "stream",
     "text": [
      "observed fold:0.4176854421360534\n",
      "observed fold:0.41907904604769763\n"
     ]
    }
   ],
   "source": [
    "from data.utils import *\n",
    "nsamples, ncov= df['x'].shape\n",
    "np.random.seed(123)\n",
    "all_idx = np.arange(nsamples)\n",
    "all_idx = np.random.permutation(all_idx)\n",
    "train_idx = all_idx[:int(2*nsamples/3)]\n",
    "valid_idx = all_idx[int(2*nsamples/3):]\n",
    "\n",
    "train = formatted_data(df['x'], df['t'], df['e'], train_idx)\n",
    "valid = formatted_data(df['x'], df['t'], df['e'], valid_idx)\n",
    "\n",
    "train_size = train['x'].shape[0]\n",
    "val_size = valid['x'].shape[0]\n",
    "\n",
    "del df"
   ]
  },
  {
   "cell_type": "code",
   "execution_count": 6,
   "metadata": {},
   "outputs": [
    {
     "data": {
      "text/plain": [
       "(array([ 0.        ,  7.50932559, 15.01865118, 22.52797677, 30.03730236,\n",
       "        37.54662795, 45.05595354, 52.56527913, 60.07460473, 67.58393032,\n",
       "        68.        ]),\n",
       " 68.0,\n",
       " 67.58393031622197)"
      ]
     },
     "execution_count": 6,
     "metadata": {},
     "output_type": "execute_result"
    }
   ],
   "source": [
    "nbin=10\n",
    "# tt = np.percentile(train['t'][train['e']==1],np.linspace(0.,100.,nbin, endpoint=True))\n",
    "tt = np.linspace(0.,np.max(train['t'][train['e']==1]),nbin, endpoint=True)\n",
    "\n",
    "# based on whether we have censoring after the largest observed t\n",
    "loss_of_info = np.mean(train['t']>np.max(train['t'][train['e']==1]))\n",
    "\n",
    "# need to convert t to different size of bins\n",
    "if loss_of_info > 0.0001:\n",
    "    nbin = nbin + 1\n",
    "    # add the largest observed censoring time inside\n",
    "    tt = np.append(tt,np.max(train['t']))\n",
    "#     event_tt_prob = risk_t_bin_prob(train['t'], train['e'], tt)\n",
    "t_max = np.max(train['t'][train['e']==1])\n",
    "t_all_max = np.max(train['t'])\n",
    "tt, t_all_max, t_max"
   ]
  },
  {
   "cell_type": "code",
   "execution_count": 7,
   "metadata": {},
   "outputs": [
    {
     "data": {
      "text/plain": [
       "[<matplotlib.lines.Line2D at 0x7fd7e9a45a30>]"
      ]
     },
     "execution_count": 7,
     "metadata": {},
     "output_type": "execute_result"
    },
    {
     "data": {
      "image/png": "[encoded data removed]",
      "text/plain": [
       "<Figure size 432x288 with 1 Axes>"
      ]
     },
     "metadata": {
      "needs_background": "light"
     },
     "output_type": "display_data"
    }
   ],
   "source": [
    "sns.distplot(train['t'][train['e']==1])\n",
    "plt.plot(tt, np.zeros(len(tt)),'o')"
   ]
  },
  {
   "cell_type": "markdown",
   "metadata": {},
   "source": [
    "### Embedding the covariates into $\\mathbb{R}^m$\n",
    "- for each continuous variable, first find $m$ landmarkers, then interpolate values in between\n",
    "- for each categorical variable, find the matched embedding vector with $m$ dimensions\n",
    "\n",
    "Define landmarkers for each continuous variable### Embedding the covariates into $\\mathbb{R}^m$"
   ]
  },
  {
   "cell_type": "code",
   "execution_count": 8,
   "metadata": {},
   "outputs": [],
   "source": [
    "def landmarks_init(dataset, m, cts_var=None, cts_idx = None, device='cpu'):\n",
    "    '''\n",
    "    continuous_idx: \n",
    "    \n",
    "    '''\n",
    "    if type(cts_var) == type(None):\n",
    "        cts_idx = np.arange(dataset['x'].shape[1])\n",
    "        cts_var = cts_idx\n",
    "    \n",
    "    # creat landmarks as traditional dictionary\n",
    "    x_landmarks = {}\n",
    "\n",
    "    [x_landmarks.update({var: torch.tensor(np.percentile(dataset['x'][:,c_idx], np.linspace(0,100,m))).to(device).contiguous()}) for c_idx, var in zip(cts_idx, cts_var)]\n",
    "\n",
    "    # save the initialized landmarks as a torch parameter dictionary\n",
    "    x_emb_landmarks = nn.ParameterDict({})\n",
    "    for var in cts_var:\n",
    "        m = len(x_landmarks[var])\n",
    "        x_emb_landmark = torch.eye(m)\n",
    "        new_dict = nn.ParameterDict({var:torch.nn.Parameter(x_emb_landmark)})\n",
    "        x_emb_landmarks.update(new_dict)\n",
    "        \n",
    "    return x_landmarks, x_emb_landmarks\n",
    "\n",
    "# x_landmarks, x_emb_landmarks = landmarks_init(train, m, continuous_variables)\n",
    "# x_landmarks, x_emb_landmarks"
   ]
  },
  {
   "cell_type": "code",
   "execution_count": 9,
   "metadata": {},
   "outputs": [],
   "source": [
    "# x_landmarks, x_emb_landmarks = landmarks_init(train, 10, cts_var, cts_idx, device='cuda')\n",
    "# x_landmarks, x_emb_landmarks"
   ]
  },
  {
   "cell_type": "code",
   "execution_count": 10,
   "metadata": {},
   "outputs": [],
   "source": [
    "# x_landmarks.keys(), x_emb_landmarks.keys()"
   ]
  },
  {
   "cell_type": "markdown",
   "metadata": {},
   "source": [
    "### Linear Interpolation for continuous variables\n",
    "\n",
    "$x_b \\le x < x_{b+1}$, $\\text{emb}(x) = \\text{emb}(x_b) + \\frac{\\text{emb}(x_{b+1}) - \\text{emb}(x_b)}{x_{b+1}-x_b}(x-x_{b})$"
   ]
  },
  {
   "cell_type": "code",
   "execution_count": 33,
   "metadata": {
    "scrolled": true
   },
   "outputs": [],
   "source": [
    "\n",
    "# def linear_interpolation_np(x, x_landmarks):\n",
    "#     # apply numpy package\n",
    "#     m = len(x_landmarks)\n",
    "#     x_emb_landmarks = np.eye(m)\n",
    "#     # returns index\n",
    "#     # a[i-1] < v <= a[i]\n",
    "#     indx = np.searchsorted(x_landmarks, x)\n",
    "#     # combine the first two indices, and the last two indices\n",
    "#     # to include the unobserved minimum and maximum value\n",
    "#     # combines [0,1], and [m-1, m]\n",
    "#     indx = np.where(indx==0, 1, indx)\n",
    "#     indx = np.where(indx==m, m-1, indx)\n",
    "\n",
    "#     # linear interpolation\n",
    "#     def helper(idx, x0):\n",
    "#         return x_emb_landmarks[idx-1] + (x0-x_landmarks[idx-1])*(x_emb_landmarks[idx] - x_emb_landmarks[idx-1])/(x_landmarks[idx]-x_landmarks[idx-1])\n",
    "    \n",
    "#     out = [helper(idx,x0) for idx, x0 in zip(indx, x)]\n",
    "#     print(np.vstack(out))\n",
    "\n",
    "\n",
    "def linear_interpolation_var(x, x_landmark, x_emb_landmark):\n",
    "    # written for torch\n",
    "    # returns index\n",
    "    # a[i-1] < v <= a[i]\n",
    "    indx = torch.searchsorted(x_landmark, x)\n",
    "    # combine the first two indices, and the last two indices\n",
    "    # to include the unobserved minimum and maximum value\n",
    "    # combines [0,1], and [m-1, m]\n",
    "    indx = torch.where(indx==0, 1, indx)\n",
    "    indx = torch.where(indx==m, m-1, indx)\n",
    "\n",
    "    coef = (x_emb_landmark[indx] - x_emb_landmark[indx-1])/(x_landmark[indx] - x_landmark[indx-1]).view(len(x),1)\n",
    "    out = x_emb_landmark[indx-1] + coef*(x-x_landmark[indx-1]).view(len(x),1)    # linear interpolation\n",
    "    return out"
   ]
  },
  {
   "cell_type": "code",
   "execution_count": 34,
   "metadata": {},
   "outputs": [],
   "source": [
    "# x_landmarks, x_emb_landmarks = landmarks_init(train, 10, cts_var, cts_idx, device='cuda')"
   ]
  },
  {
   "cell_type": "code",
   "execution_count": 35,
   "metadata": {},
   "outputs": [],
   "source": [
    "def cts_interpolation(x, x_landmarks, x_emb_landmarks, cts_var=None, cts_idx=None):\n",
    "    \n",
    "#     m = len(x_landmarks[0])\n",
    "    if type(cts_var) == type(None):\n",
    "        cts_var = x_landmarks.keys()\n",
    "    # find values variable by variable\n",
    "    res = []\n",
    "    for c_idx, var in zip(cts_idx, cts_var):\n",
    "        m = len(x_landmarks[var])\n",
    "        cur_emb = linear_interpolation_var(x[:,c_idx], x_landmarks[var], x_emb_landmarks[var])\n",
    "        # reshape to dimension [batch_size, 1, m]\n",
    "        res.append(cur_emb.view(-1,1,m))\n",
    "        \n",
    "    return torch.cat(res, 1)\n",
    "#     return torch.cat(res, 1)"
   ]
  },
  {
   "cell_type": "markdown",
   "metadata": {},
   "source": [
    "### Embedding categorical variables\n",
    "\n",
    "Embed each level ($l$) of categorical variable, i.e., mapping each digit label to a length-m embedding vector, the $l$-th row of the embedding matrix."
   ]
  },
  {
   "cell_type": "code",
   "execution_count": 36,
   "metadata": {},
   "outputs": [],
   "source": [
    "# save variable name and levels as a dictionary\n",
    "# x_levels = {}\n",
    "# [x_levels.update({var:len(np.unique(df['x'][:,var]))}) for var in categorical_variables]\n",
    "\n",
    "def level_init(dataset, m, cat_var=None, cat_idx=None):\n",
    "#     if type(categorical_variables)==type(None):\n",
    "#         categorical_variables = np.arange(len(x_levels))\n",
    "    x_levels = {} \n",
    "    [x_levels.update({var:len(np.unique(dataset['x'][:,c_idx]))}) for c_idx, var in zip(cat_idx, cat_var)]\n",
    "    # save the initialized landmarks as a dictionary\n",
    "    x_emb_levels = nn.ParameterDict({})\n",
    "    for var in cat_var:\n",
    "        level = x_levels[var]\n",
    "        # randomly pick one position as 1\n",
    "        idx = np.random.choice(m)\n",
    "        x_emb_level = torch.zeros(level, m)\n",
    "#         x_emb_level = F.softmax(torch.rand(level, m),dim=-1)\n",
    "\n",
    "        for l in range(level):\n",
    "            idx = np.random.choice(m)\n",
    "            x_emb_level[l, idx] = 1.0\n",
    "    \n",
    "        new_dict = nn.ParameterDict({var:torch.nn.Parameter(x_emb_level)})\n",
    "        x_emb_levels.update(new_dict)\n",
    "    return x_levels, x_emb_levels"
   ]
  },
  {
   "cell_type": "code",
   "execution_count": 37,
   "metadata": {},
   "outputs": [],
   "source": [
    "def cat_interpolation(x, x_emb_levels, cat_var=None, cat_idx = None):\n",
    "    if type(cat_var) == type(None):\n",
    "        cat_var = x_emb_levels.keys()\n",
    "    # find values variable by variable\n",
    "    res = []\n",
    "    for c_idx, var in zip(cat_idx, cat_var):\n",
    "        cur_emb = x_emb_levels[var][x[:,c_idx].long()]\n",
    "        # reshape to dimension [batch_size, 1, m]\n",
    "        res.append(cur_emb.view(-1,1,m))\n",
    "        \n",
    "    return torch.cat(res, 1)\n",
    "    "
   ]
  },
  {
   "cell_type": "markdown",
   "metadata": {},
   "source": [
    "Linear interpolation batch by batch"
   ]
  },
  {
   "cell_type": "code",
   "execution_count": 38,
   "metadata": {},
   "outputs": [],
   "source": [
    "# m = 10\n",
    "# device='cpu'\n",
    "# # Initiate landmarks with trainable paramters\n",
    "# x_landmarks, x_emb_landmarks = landmarks_init(train, m, cts_var, cts_idx, device)\n",
    "# x_levels, x_emb_levels = level_init(train, m, cat_var, cat_idx, device)\n",
    "\n",
    "# \n",
    "# \n",
    "def cov_embedding(x, m, cts_var=None, cts_idx = None, x_landmarks=None, x_emb_landmarks=None,\n",
    "                  cat_var=[], cat_idx = [], x_levels=None, x_emb_levels=None):\n",
    "    '''\n",
    "    Do the transformation within each minibatch\n",
    "\n",
    "    m: length of the embedding vector for each covariates\n",
    "\n",
    "    cts_var: list of the names of continuous variables\n",
    "    cat_var: list of the names of categorical variables\n",
    "\n",
    "    x_landmarks: dictionary with continuous names as keys, and the percentile landmarks as items\n",
    "    x_emb_landmarks: dictionary with continuous names as keys, and the embedding landmarks as items\n",
    "\n",
    "    x_levels: dictionary with categorical names as keys, and the number of levels per covariate as items\n",
    "    x_emb_levels: dictionary with categorical names as keys, and the embedding vectors as items\n",
    "    '''\n",
    "    x_emb = []\n",
    "    var_list = []\n",
    "    if type(cts_var) != type(None):\n",
    "        x_emb.append(cts_interpolation(x, x_landmarks, x_emb_landmarks, cts_var, cts_idx))\n",
    "        var_list.extend(list(x_emb_landmarks.keys()))\n",
    "        \n",
    "    if len(cat_var) >0:\n",
    "        x_emb.append(cat_interpolation(x, x_emb_levels, cat_var, cat_idx))\n",
    "        var_list.extend(list(x_emb_levels.keys()))\n",
    "    \n",
    "    x_emb = torch.cat(x_emb, 1)\n",
    "#     cur_var_list = torch.cat(var_list)\n",
    "#     print(var_list)\n",
    "    return x_emb, var_list\n",
    "        "
   ]
  },
  {
   "cell_type": "code",
   "execution_count": 39,
   "metadata": {},
   "outputs": [],
   "source": [
    "class Embedding(nn.Module):\n",
    "    '''\n",
    "    create embedding paramters\n",
    "    '''\n",
    "    def __init__(self, dataset, cts_var, cts_idx, cat_var=[], cat_idx=[], dropout=0.0, m=10, device='cuda'):\n",
    "        super(Embedding, self).__init__()\n",
    "        self.m = m\n",
    "        self.cts_var, self.cts_idx, self.cat_var, self.cat_idx =  cts_var, cts_idx, cat_var, cat_idx\n",
    "        # Initiate landmarks with trainable paramters\n",
    "        self.x_landmarks, self.x_emb_landmarks = landmarks_init(dataset, m, cts_var, cts_idx, device)\n",
    "        if len(cat_idx) > 0:\n",
    "            self.x_levels, self.x_emb_levels = level_init(dataset, m, cat_var, cat_idx)\n",
    "        else:\n",
    "            self.x_levels, self.x_emb_levels = None, None\n",
    "        self.dropout = nn.Dropout(p=dropout)\n",
    "        \n",
    "    def forward(self, x, mask=None):\n",
    "        x_emb, var_list = cov_embedding(x.float(), self.m,\\\n",
    "                                        self.cts_var, self.cts_idx, self.x_landmarks, self.x_emb_landmarks,\\\n",
    "                                        self.cat_var, self.cat_idx, self.x_levels, self.x_emb_levels)\n",
    "        return self.dropout(x_emb)\n",
    "\n"
   ]
  },
  {
   "cell_type": "code",
   "execution_count": 40,
   "metadata": {},
   "outputs": [],
   "source": [
    "class Linear(nn.Module):\n",
    "    '''\n",
    "    create linear combinations for different embedded vectors\n",
    "    '''\n",
    "    def __init__(self, dropout):\n",
    "        super(Linear, self).__init__()\n",
    "#         self.weights = torch.nn.Parameter(F.softmax(torch.rand(ncov), dim=-1))\n",
    "        self.flatten = nn.Flatten()\n",
    "        self.dropout = nn.Dropout(p=dropout)\n",
    "    def forward(self, x_emb):\n",
    "        # with shape [batch_size, ncov, m]\n",
    "#         x_emb = x_emb.permute(0,2,1)\n",
    "        # now it has shape [batch_size, m, ncov]\n",
    "        # comparing to an image, m is like the channel\n",
    "        return self.flatten(self.dropout(x_emb))\n",
    "    \n",
    "class LinearAtt(nn.Module):\n",
    "    '''\n",
    "    create linear combinations for different embedded vectors\n",
    "    '''\n",
    "    def __init__(self, ncov, dropout):\n",
    "        super(LinearAtt, self).__init__()\n",
    "#         self.weights = torch.nn.Parameter(F.softmax(torch.rand(ncov), dim=-1))\n",
    "#         self.flatten = nn.Flatten()\n",
    "#         self.dropout = nn.Dropout(p=dropout)\n",
    "        self.weights = torch.nn.Parameter(F.softmax(torch.rand(ncov), dim=-1))\n",
    "\n",
    "    def forward(self, x_emb):\n",
    "        # with shape [batch_size, ncov, m]\n",
    "        x_emb = x_emb.permute(0,2,1)\n",
    "        # now it has shape [batch_size, m, ncov]\n",
    "        # comparing to an image, m is like the channel\n",
    "        return (x_emb * self.weights).sum(-1)\n",
    "        "
   ]
  },
  {
   "cell_type": "code",
   "execution_count": 41,
   "metadata": {},
   "outputs": [],
   "source": [
    "import torch.nn as nn\n",
    "import torch.nn.functional as F\n",
    "import torch\n",
    "\n",
    "import math\n",
    "import numpy as np\n",
    "\n",
    "class Attention(nn.Module):\n",
    "    \"\"\"\n",
    "    Compute 'Scaled Dot Product Attention\n",
    "    \"\"\"\n",
    "    def __init__(self, dropout=0.1):\n",
    "        super(Attention, self).__init__()\n",
    "        self.flatten = nn.Flatten()\n",
    "        self.dropout = nn.Dropout(p=dropout)\n",
    "    def forward(self, query, key, value, mask=None):\n",
    "\n",
    "        # scores = torch.matmul(query, key.transpose(-2, -1)) \\\n",
    "        #          / math.sqrt(query.size(-1))\n",
    "        \n",
    "        # f(query, key)\n",
    "        # query: d \\times m\n",
    "        # (d x m ) x (m x d)\n",
    "        # d \\times d\n",
    "        scores = torch.exp(torch.matmul(query, key.transpose(-2, -1))) \\\n",
    "                 / math.sqrt(query.size(-1))\n",
    "\n",
    "        if mask is not None:\n",
    "            scores = scores.masked_fill(mask == 0, -1e9)\n",
    "\n",
    "        p_attn = F.softmax(scores, dim=-1)\n",
    "\n",
    "#         if dropout is not None:\n",
    "        p_attn = self.dropout(p_attn)\n",
    "        output = torch.matmul(p_attn, value)\n",
    "        \n",
    "        return self.flatten(output), p_attn\n",
    "            "
   ]
  },
  {
   "cell_type": "code",
   "execution_count": 42,
   "metadata": {},
   "outputs": [],
   "source": [
    "import torch\n",
    "from torch import nn, optim\n",
    "import numpy as np\n",
    "\n",
    "# Type hinting\n",
    "from typing import Union, List, Optional, Any, Tuple\n",
    "from torch import FloatTensor, LongTensor\n",
    "\n",
    "    \n",
    "class DecMLP(nn.Module):\n",
    "    def __init__(self, input_size=2, output_size=2, h_dim=[32,32]):\n",
    "        super(DecMLP, self).__init__()\n",
    "        net = []\n",
    "        hs = [input_size] + h_dim + [output_size]\n",
    "        for h0, h1 in zip(hs, hs[1:]):\n",
    "            net.extend([\n",
    "                nn.Linear(h0, h1),\n",
    "                nn.ReLU(),\n",
    "            ])\n",
    "        net.pop()  # pop the last ReLU for the output layer\n",
    "        self.net = nn.Sequential(*net)\n",
    "#         self.out = torch.nn.Softmax(dim=1)\n",
    "        \n",
    "    def forward(self, x):\n",
    "        z = self.net(x)\n",
    "        # reshape to original shape?\n",
    "        return z\n",
    "class DecMLP_bin(nn.Module):\n",
    "    def __init__(self, input_size=2, output_size=1, h_dim=[32,32], dropout=0.1):\n",
    "        super(DecMLP_bin, self).__init__()\n",
    "        net = []\n",
    "        hs = [input_size] + h_dim + [output_size]\n",
    "        for h0, h1 in zip(hs, hs[1:]):\n",
    "            net.extend([\n",
    "                nn.Linear(h0, h1),\n",
    "                nn.Dropout(p=dropout),\n",
    "                nn.ReLU(),\n",
    "            ])\n",
    "        net.pop()  # pop the last ReLU for the output layer\n",
    "        self.net = nn.Sequential(*net)\n",
    "        self.out = torch.nn.Softmax(dim=1)\n",
    "        \n",
    "    def forward(self, x):\n",
    "        z = self.net(x)\n",
    "        return self.out(z)    \n",
    "\n",
    "class SimpleMLP(nn.Module):\n",
    "    def __init__(self, input_size=2, output_size=1, h_dim=[32,32]):\n",
    "        super(SimpleMLP, self).__init__()\n",
    "        net = []\n",
    "        hs = [input_size] + h_dim + [output_size]\n",
    "        for h0, h1 in zip(hs, hs[1:]):\n",
    "            net.extend([\n",
    "                nn.Linear(h0, h1),\n",
    "                nn.ReLU(),\n",
    "            ])\n",
    "        net.pop()  # pop the last ReLU for the output layer\n",
    "        self.net = nn.Sequential(*net)\n",
    "        self.out = torch.nn.Sigmoid()\n",
    "        \n",
    "    def forward(self, x):\n",
    "        z = self.net(x)\n",
    "        return self.out(z)"
   ]
  },
  {
   "cell_type": "code",
   "execution_count": 43,
   "metadata": {},
   "outputs": [],
   "source": [
    "ncov = train['x'].shape[1]\n",
    "covList = np.arange(ncov)\n",
    "\n",
    "trainData = SimpleDataset(train['x'], train['t'], train['e'])\n",
    "pair1 = DataLoader(trainData, batch_size=500,shuffle=True)\n",
    "pair2 = DataLoader(trainData, batch_size=500,shuffle=True)\n",
    "\n",
    "validData = SimpleDataset(valid['x'], valid['t'], valid['e'])\n",
    "v_pair1 = DataLoader(validData, batch_size=1000,shuffle=True)\n",
    "# v_pair2 = DataLoader(validData, batch_size=500,shuffle=True)\n"
   ]
  },
  {
   "cell_type": "code",
   "execution_count": 44,
   "metadata": {},
   "outputs": [
    {
     "data": {
      "text/plain": [
       "'/data/zidi/ACSurv/results/toy_bin/e40'"
      ]
     },
     "execution_count": 44,
     "metadata": {},
     "output_type": "execute_result"
    }
   ],
   "source": [
    "result_path_root"
   ]
  },
  {
   "cell_type": "code",
   "execution_count": 45,
   "metadata": {
    "scrolled": true
   },
   "outputs": [
    {
     "name": "stdout",
     "output_type": "stream",
     "text": [
      "Embedding(\n",
      "  (x_emb_landmarks): ParameterDict(\n",
      "      (AGE): Parameter containing: [torch.cuda.FloatTensor of size 10x10 (GPU 1)]\n",
      "      (RANDON): Parameter containing: [torch.cuda.FloatTensor of size 10x10 (GPU 1)]\n",
      "  )\n",
      "  (x_emb_levels): ParameterDict(\n",
      "      (cat0): Parameter containing: [torch.cuda.FloatTensor of size 5x10 (GPU 1)]\n",
      "      (cat1): Parameter containing: [torch.cuda.FloatTensor of size 50x10 (GPU 1)]\n",
      "  )\n",
      "  (dropout): Dropout(p=0.0, inplace=False)\n",
      ") Attention(\n",
      "  (flatten): Flatten(start_dim=1, end_dim=-1)\n",
      "  (dropout): Dropout(p=0.1, inplace=False)\n",
      ") SimpleMLP(\n",
      "  (net): Sequential(\n",
      "    (0): Linear(in_features=80, out_features=512, bias=True)\n",
      "    (1): ReLU()\n",
      "    (2): Linear(in_features=512, out_features=512, bias=True)\n",
      "    (3): ReLU()\n",
      "    (4): Linear(in_features=512, out_features=1, bias=True)\n",
      "  )\n",
      "  (out): Sigmoid()\n",
      ") DecMLP_bin(\n",
      "  (net): Sequential(\n",
      "    (0): Linear(in_features=40, out_features=512, bias=True)\n",
      "    (1): Dropout(p=0.1, inplace=False)\n",
      "    (2): ReLU()\n",
      "    (3): Linear(in_features=512, out_features=512, bias=True)\n",
      "    (4): Dropout(p=0.1, inplace=False)\n",
      "    (5): ReLU()\n",
      "    (6): Linear(in_features=512, out_features=11, bias=True)\n",
      "    (7): Dropout(p=0.1, inplace=False)\n",
      "  )\n",
      "  (out): Softmax(dim=1)\n",
      ")\n"
     ]
    }
   ],
   "source": [
    "m=10\n",
    "zdim = m\n",
    "epochs = 1000\n",
    "device = 'cuda'\n",
    "model_name = 'AttCtra'\n",
    "device = torch.device('cuda' if torch.cuda.is_available() else 'cpu')\n",
    "torch.cuda.set_device(1)\n",
    "\n",
    "# point estimation loss function and weight\n",
    "loss_type='MSE'\n",
    "lambda_ = 0\n",
    "ctr_learning = True\n",
    "ctr_wt = 1\n",
    "# bined time\n",
    "tt = torch.tensor(tt).to(device)\n",
    "\n",
    "result_path = result_path_root+'/saved_models/'\n",
    "Path(result_path).mkdir(parents=True, exist_ok=True)\n",
    "\n",
    "'''covariate embedding'''\n",
    "embedding = Embedding(train, cts_var, cts_idx, cat_var, cat_idx, m=m)\n",
    "\n",
    "'''attention network'''\n",
    "# attention = LinearAtt(ncov=ncov, dropout=0.1)\n",
    "attention = Attention(dropout=0.1)\n",
    "\n",
    "'''contrastive learning'''\n",
    "# input is pair of latent Z\n",
    "clf = SimpleMLP(input_size = 2*zdim*ncov, output_size = 1, h_dim=[512, 512])\n",
    "\n",
    "\n",
    "'''decoding the embedded vectors'''\n",
    "# decoder = DecMLP(input_size = zdim*ncov, output_size = 1, h_dim=[512, 512])\n",
    "decoder = DecMLP_bin(input_size = zdim*ncov, output_size = nbin, h_dim=[512,512])\n",
    "\n",
    "embedding.to(device)\n",
    "clf.to(device)\n",
    "# attention.to(device)\n",
    "decoder.to(device)\n",
    "\n",
    "# define optimizer\n",
    "opt_emb = optim.Adam(embedding.parameters(), lr=1e-3)\n",
    "opt_dec = optim.Adam(decoder.parameters(), lr=1e-4)\n",
    "opt_clf = optim.Adam(clf.parameters(), lr=1e-4)\n",
    "\n",
    "# opt_att = optim.Adam(attention.parameters(), lr=1e-4)\n",
    "\n",
    "emb_path = result_path+model_name+'_emb_'+str(ctr_wt)+'.pt'\n",
    "dec_path = result_path+model_name+'_dec_'+str(ctr_wt)+'.pt'\n",
    "\n",
    "clf_path = result_path+model_name+'_clf_'+str(ctr_wt)+'.pt'\n",
    "\n",
    "# att_path = result_path+model_name+'_att.pt'\n",
    "print(embedding, attention, clf, decoder)"
   ]
  },
  {
   "cell_type": "code",
   "execution_count": 46,
   "metadata": {
    "scrolled": true
   },
   "outputs": [
    {
     "data": {
      "text/plain": [
       "Text(0.5, 1.0, 'AGE embedding')"
      ]
     },
     "execution_count": 46,
     "metadata": {},
     "output_type": "execute_result"
    },
    {
     "data": {
      "image/png": "[encoded data removed]",
      "text/plain": [
       "<Figure size 432x288 with 2 Axes>"
      ]
     },
     "metadata": {
      "needs_background": "light"
     },
     "output_type": "display_data"
    }
   ],
   "source": [
    "ax = sns.heatmap(embedding.x_emb_landmarks['AGE'].detach().cpu().numpy())\n",
    "plt.title('AGE embedding')"
   ]
  },
  {
   "cell_type": "code",
   "execution_count": 47,
   "metadata": {},
   "outputs": [
    {
     "data": {
      "text/plain": [
       "Text(0.5, 1.0, 'RANDON embedding')"
      ]
     },
     "execution_count": 47,
     "metadata": {},
     "output_type": "execute_result"
    },
    {
     "data": {
      "image/png": "[encoded data removed]",
      "text/plain": [
       "<Figure size 432x288 with 2 Axes>"
      ]
     },
     "metadata": {
      "needs_background": "light"
     },
     "output_type": "display_data"
    }
   ],
   "source": [
    "ax = sns.heatmap(embedding.x_emb_landmarks['RANDON'].detach().cpu().numpy())\n",
    "plt.title('RANDON embedding')"
   ]
  },
  {
   "cell_type": "code",
   "execution_count": 48,
   "metadata": {
    "scrolled": false
   },
   "outputs": [
    {
     "data": {
      "text/plain": [
       "Text(0.5, 1.0, 'CAT0 embedding')"
      ]
     },
     "execution_count": 48,
     "metadata": {},
     "output_type": "execute_result"
    },
    {
     "data": {
      "image/png": "[encoded data removed]",
      "text/plain": [
       "<Figure size 432x288 with 2 Axes>"
      ]
     },
     "metadata": {
      "needs_background": "light"
     },
     "output_type": "display_data"
    }
   ],
   "source": [
    "ax = sns.heatmap(embedding.x_emb_levels['cat0'].detach().cpu().numpy())\n",
    "plt.title('CAT0 embedding')"
   ]
  },
  {
   "cell_type": "code",
   "execution_count": 49,
   "metadata": {
    "scrolled": true
   },
   "outputs": [
    {
     "data": {
      "text/plain": [
       "Text(0.5, 1.0, 'CAT1 embedding')"
      ]
     },
     "execution_count": 49,
     "metadata": {},
     "output_type": "execute_result"
    },
    {
     "data": {
      "image/png": "[encoded data removed]",
      "text/plain": [
       "<Figure size 432x288 with 2 Axes>"
      ]
     },
     "metadata": {
      "needs_background": "light"
     },
     "output_type": "display_data"
    }
   ],
   "source": [
    "ax = sns.heatmap(embedding.x_emb_levels['cat1'].detach().cpu().numpy())\n",
    "plt.title('CAT1 embedding')"
   ]
  },
  {
   "cell_type": "code",
   "execution_count": 50,
   "metadata": {
    "scrolled": false
   },
   "outputs": [],
   "source": [
    "# sns.barplot(np.arange(ncov),attention.weights.detach().cpu().numpy())\n",
    "# plt.title('Linear Attention Weights')"
   ]
  },
  {
   "cell_type": "code",
   "execution_count": 53,
   "metadata": {
    "scrolled": true
   },
   "outputs": [
    {
     "name": "stdout",
     "output_type": "stream",
     "text": [
      "epoch1\n",
      "====> Train NLL: 2.154 \t Valid NLL: 1.040 CI: 0.800 event loss: 72.103 \t censoring loss : 19.388 \t Improved: *\n",
      "epoch2\n",
      "====> Train NLL: 2.006 \t Valid NLL: 0.965 CI: 0.817 event loss: 59.625 \t censoring loss : 17.128 \t Improved: *\n",
      "epoch3\n",
      "====> Train NLL: 1.865 \t Valid NLL: 0.888 CI: 0.837 event loss: 43.758 \t censoring loss : 12.651 \t Improved: *\n",
      "epoch4\n",
      "====> Train NLL: 1.724 \t Valid NLL: 0.816 CI: 0.855 event loss: 32.495 \t censoring loss : 9.436 \t Improved: *\n",
      "epoch5\n",
      "====> Train NLL: 1.609 \t Valid NLL: 0.759 CI: 0.868 event loss: 27.298 \t censoring loss : 7.242 \t Improved: *\n",
      "epoch6\n",
      "====> Train NLL: 1.525 \t Valid NLL: 0.719 CI: 0.876 event loss: 24.713 \t censoring loss : 5.334 \t Improved: *\n",
      "epoch7\n",
      "====> Train NLL: 1.464 \t Valid NLL: 0.689 CI: 0.881 event loss: 24.166 \t censoring loss : 4.647 \t Improved: *\n",
      "epoch8\n",
      "====> Train NLL: 1.420 \t Valid NLL: 0.667 CI: 0.885 event loss: 23.283 \t censoring loss : 4.070 \t Improved: *\n",
      "epoch9\n",
      "====> Train NLL: 1.377 \t Valid NLL: 0.651 CI: 0.888 event loss: 22.539 \t censoring loss : 3.648 \t Improved: *\n",
      "epoch10\n",
      "4.652934960401107\n"
     ]
    },
    {
     "data": {
      "image/png": "[encoded data removed]",
      "text/plain": [
       "<Figure size 864x288 with 2 Axes>"
      ]
     },
     "metadata": {
      "needs_background": "light"
     },
     "output_type": "display_data"
    },
    {
     "name": "stdout",
     "output_type": "stream",
     "text": [
      "====> Train NLL: 1.363 \t Valid NLL: 0.636 CI: 0.891 event loss: 21.574 \t censoring loss : 3.160 \t Improved: *\n",
      "epoch11\n",
      "====> Train NLL: 1.330 \t Valid NLL: 0.624 CI: 0.893 event loss: 20.895 \t censoring loss : 3.026 \t Improved: *\n",
      "epoch12\n",
      "====> Train NLL: 1.320 \t Valid NLL: 0.616 CI: 0.894 event loss: 21.037 \t censoring loss : 2.969 \t Improved: *\n",
      "epoch13\n",
      "====> Train NLL: 1.313 \t Valid NLL: 0.608 CI: 0.895 event loss: 20.594 \t censoring loss : 2.706 \t Improved: *\n",
      "epoch14\n",
      "====> Train NLL: 1.300 \t Valid NLL: 0.603 CI: 0.896 event loss: 20.457 \t censoring loss : 2.586 \t Improved: *\n",
      "epoch15\n",
      "====> Train NLL: 1.286 \t Valid NLL: 0.597 CI: 0.897 event loss: 20.447 \t censoring loss : 2.620 \t Improved: *\n",
      "epoch16\n",
      "====> Train NLL: 1.276 \t Valid NLL: 0.594 CI: 0.897 event loss: 20.273 \t censoring loss : 2.420 \t Improved: *\n",
      "epoch17\n",
      "====> Train NLL: 1.278 \t Valid NLL: 0.591 CI: 0.897 event loss: 20.128 \t censoring loss : 2.432 \t Improved: *\n",
      "epoch18\n",
      "====> Train NLL: 1.266 \t Valid NLL: 0.588 CI: 0.898 event loss: 20.156 \t censoring loss : 2.408 \t Improved: *\n",
      "epoch19\n",
      "====> Train NLL: 1.260 \t Valid NLL: 0.588 CI: 0.898 event loss: 19.747 \t censoring loss : 2.278 \t Improved: *\n",
      "epoch20\n",
      "10.869238715224292\n"
     ]
    },
    {
     "data": {
      "image/png": "[encoded data removed]",
      "text/plain": [
       "<Figure size 864x288 with 2 Axes>"
      ]
     },
     "metadata": {
      "needs_background": "light"
     },
     "output_type": "display_data"
    },
    {
     "name": "stdout",
     "output_type": "stream",
     "text": [
      "====> Train NLL: 1.266 \t Valid NLL: 0.586 CI: 0.898 event loss: 19.963 \t censoring loss : 2.398 \t Improved: *\n",
      "epoch21\n",
      "====> Train NLL: 1.259 \t Valid NLL: 0.584 CI: 0.898 event loss: 20.109 \t censoring loss : 2.173 \t Improved: *\n",
      "epoch22\n",
      "====> Train NLL: 1.255 \t Valid NLL: 0.583 CI: 0.898 event loss: 20.238 \t censoring loss : 2.232 \t Improved: *\n",
      "epoch23\n",
      "====> Train NLL: 1.255 \t Valid NLL: 0.582 CI: 0.898 event loss: 20.405 \t censoring loss : 2.341 \t Improved: *\n",
      "epoch24\n",
      "====> Train NLL: 1.252 \t Valid NLL: 0.580 CI: 0.898 event loss: 20.353 \t censoring loss : 2.294 \t Improved: *\n",
      "epoch25\n",
      "====> Train NLL: 1.250 \t Valid NLL: 0.580 CI: 0.898 event loss: 20.809 \t censoring loss : 2.368 \t Improved: *\n",
      "epoch26\n",
      "====> Train NLL: 1.246 \t Valid NLL: 0.578 CI: 0.898 event loss: 20.303 \t censoring loss : 2.331 \t Improved: *\n",
      "epoch27\n",
      "====> Train NLL: 1.244 \t Valid NLL: 0.578 CI: 0.898 event loss: 20.386 \t censoring loss : 2.363 \t Improved:  \n",
      "epoch28\n",
      "====> Train NLL: 1.246 \t Valid NLL: 0.578 CI: 0.898 event loss: 21.301 \t censoring loss : 2.531 \t Improved:  \n",
      "epoch29\n",
      "====> Train NLL: 1.245 \t Valid NLL: 0.579 CI: 0.898 event loss: 20.178 \t censoring loss : 2.187 \t Improved:  \n",
      "epoch30\n",
      "10.89515683940138\n"
     ]
    },
    {
     "data": {
      "image/png": "[encoded data removed]",
      "text/plain": [
       "<Figure size 864x288 with 2 Axes>"
      ]
     },
     "metadata": {
      "needs_background": "light"
     },
     "output_type": "display_data"
    },
    {
     "name": "stdout",
     "output_type": "stream",
     "text": [
      "====> Train NLL: 1.240 \t Valid NLL: 0.577 CI: 0.898 event loss: 20.976 \t censoring loss : 2.321 \t Improved: *\n",
      "epoch31\n",
      "====> Train NLL: 1.243 \t Valid NLL: 0.576 CI: 0.898 event loss: 20.626 \t censoring loss : 2.198 \t Improved: *\n",
      "epoch32\n",
      "====> Train NLL: 1.234 \t Valid NLL: 0.576 CI: 0.898 event loss: 20.293 \t censoring loss : 2.361 \t Improved: *\n",
      "epoch33\n",
      "====> Train NLL: 1.233 \t Valid NLL: 0.575 CI: 0.898 event loss: 19.990 \t censoring loss : 2.176 \t Improved: *\n",
      "epoch34\n",
      "====> Train NLL: 1.231 \t Valid NLL: 0.575 CI: 0.898 event loss: 20.583 \t censoring loss : 2.280 \t Improved:  \n",
      "epoch35\n",
      "====> Train NLL: 1.231 \t Valid NLL: 0.575 CI: 0.898 event loss: 20.302 \t censoring loss : 2.181 \t Improved:  \n",
      "epoch36\n",
      "====> Train NLL: 1.228 \t Valid NLL: 0.575 CI: 0.898 event loss: 20.285 \t censoring loss : 2.329 \t Improved:  \n",
      "epoch37\n",
      "====> Train NLL: 1.239 \t Valid NLL: 0.575 CI: 0.898 event loss: 20.778 \t censoring loss : 2.356 \t Improved:  \n",
      "epoch38\n",
      "====> Train NLL: 1.233 \t Valid NLL: 0.575 CI: 0.898 event loss: 20.783 \t censoring loss : 2.306 \t Improved:  \n",
      "epoch39\n",
      "====> Train NLL: 1.230 \t Valid NLL: 0.573 CI: 0.898 event loss: 20.754 \t censoring loss : 2.314 \t Improved:  \n",
      "epoch40\n",
      "2.8311321206873767\n"
     ]
    },
    {
     "data": {
      "image/png": "[encoded data removed]",
      "text/plain": [
       "<Figure size 864x288 with 2 Axes>"
      ]
     },
     "metadata": {
      "needs_background": "light"
     },
     "output_type": "display_data"
    },
    {
     "name": "stdout",
     "output_type": "stream",
     "text": [
      "====> Train NLL: 1.230 \t Valid NLL: 0.574 CI: 0.898 event loss: 20.464 \t censoring loss : 2.296 \t Improved:  \n",
      "epoch41\n",
      "====> Train NLL: 1.229 \t Valid NLL: 0.573 CI: 0.898 event loss: 19.981 \t censoring loss : 2.157 \t Improved: *\n",
      "epoch42\n"
     ]
    },
    {
     "ename": "KeyboardInterrupt",
     "evalue": "",
     "output_type": "error",
     "traceback": [
      "\u001b[0;31m---------------------------------------------------------------------------\u001b[0m",
      "\u001b[0;31mKeyboardInterrupt\u001b[0m                         Traceback (most recent call last)",
      "\u001b[0;32m<ipython-input-53-32e6a152bb80>\u001b[0m in \u001b[0;36m<module>\u001b[0;34m\u001b[0m\n\u001b[1;32m    109\u001b[0m         \u001b[0mp_raw\u001b[0m \u001b[0;34m=\u001b[0m \u001b[0mdecoder\u001b[0m\u001b[0;34m(\u001b[0m\u001b[0mz\u001b[0m\u001b[0;34m.\u001b[0m\u001b[0mfloat\u001b[0m\u001b[0;34m(\u001b[0m\u001b[0;34m)\u001b[0m\u001b[0;34m)\u001b[0m\u001b[0;34m\u001b[0m\u001b[0;34m\u001b[0m\u001b[0m\n\u001b[1;32m    110\u001b[0m \u001b[0;34m\u001b[0m\u001b[0m\n\u001b[0;32m--> 111\u001b[0;31m         \u001b[0mloss_NLL\u001b[0m \u001b[0;34m=\u001b[0m \u001b[0mNLL_reg\u001b[0m\u001b[0;34m(\u001b[0m\u001b[0mp_raw\u001b[0m\u001b[0;34m,\u001b[0m \u001b[0my\u001b[0m\u001b[0;34m,\u001b[0m \u001b[0me\u001b[0m\u001b[0;34m,\u001b[0m \u001b[0mtt\u001b[0m\u001b[0;34m)\u001b[0m\u001b[0;34m\u001b[0m\u001b[0;34m\u001b[0m\u001b[0m\n\u001b[0m\u001b[1;32m    112\u001b[0m \u001b[0;34m\u001b[0m\u001b[0m\n\u001b[1;32m    113\u001b[0m         \u001b[0;31m# weighted average\u001b[0m\u001b[0;34m\u001b[0m\u001b[0;34m\u001b[0m\u001b[0;34m\u001b[0m\u001b[0m\n",
      "\u001b[0;32m/data/zidi/ACSurv/ACSurv/utils/metrics.py\u001b[0m in \u001b[0;36mNLL_reg\u001b[0;34m(p_raw, y, e, tt, collapsed)\u001b[0m\n\u001b[1;32m     20\u001b[0m \u001b[0;32mdef\u001b[0m \u001b[0mNLL_reg\u001b[0m\u001b[0;34m(\u001b[0m\u001b[0mp_raw\u001b[0m\u001b[0;34m,\u001b[0m \u001b[0my\u001b[0m\u001b[0;34m,\u001b[0m \u001b[0me\u001b[0m\u001b[0;34m,\u001b[0m \u001b[0mtt\u001b[0m\u001b[0;34m,\u001b[0m \u001b[0mcollapsed\u001b[0m\u001b[0;34m=\u001b[0m\u001b[0;32mTrue\u001b[0m\u001b[0;34m)\u001b[0m\u001b[0;34m:\u001b[0m\u001b[0;34m\u001b[0m\u001b[0;34m\u001b[0m\u001b[0m\n\u001b[1;32m     21\u001b[0m     \u001b[0;31m# using likelihood to regularize the performance\u001b[0m\u001b[0;34m\u001b[0m\u001b[0;34m\u001b[0m\u001b[0;34m\u001b[0m\u001b[0m\n\u001b[0;32m---> 22\u001b[0;31m     \u001b[0my_cat\u001b[0m \u001b[0;34m=\u001b[0m \u001b[0mbatch_t_categorize\u001b[0m\u001b[0;34m(\u001b[0m\u001b[0my\u001b[0m\u001b[0;34m,\u001b[0m \u001b[0me\u001b[0m\u001b[0;34m,\u001b[0m \u001b[0mtt\u001b[0m\u001b[0;34m)\u001b[0m\u001b[0;34m\u001b[0m\u001b[0;34m\u001b[0m\u001b[0m\n\u001b[0m\u001b[1;32m     23\u001b[0m     \u001b[0;31m#         keep_idx = torch.where(y <= t_max)[0]\u001b[0m\u001b[0;34m\u001b[0m\u001b[0;34m\u001b[0m\u001b[0;34m\u001b[0m\u001b[0m\n\u001b[1;32m     24\u001b[0m \u001b[0;34m\u001b[0m\u001b[0m\n",
      "\u001b[0;32m/data/zidi/ACSurv/ACSurv/utils/trainer_helpers.py\u001b[0m in \u001b[0;36mbatch_t_categorize\u001b[0;34m(batch_t, batch_e, tt)\u001b[0m\n\u001b[1;32m     57\u001b[0m     \u001b[0mnbin\u001b[0m \u001b[0;34m=\u001b[0m \u001b[0mlen\u001b[0m\u001b[0;34m(\u001b[0m\u001b[0mtt\u001b[0m\u001b[0;34m)\u001b[0m\u001b[0;34m\u001b[0m\u001b[0;34m\u001b[0m\u001b[0m\n\u001b[1;32m     58\u001b[0m     \u001b[0mnbatch\u001b[0m \u001b[0;34m=\u001b[0m \u001b[0mbatch_t\u001b[0m\u001b[0;34m.\u001b[0m\u001b[0mshape\u001b[0m\u001b[0;34m[\u001b[0m\u001b[0;36m0\u001b[0m\u001b[0;34m]\u001b[0m\u001b[0;34m\u001b[0m\u001b[0;34m\u001b[0m\u001b[0m\n\u001b[0;32m---> 59\u001b[0;31m     \u001b[0mall_cat\u001b[0m \u001b[0;34m=\u001b[0m \u001b[0;34m[\u001b[0m\u001b[0mt_categorize\u001b[0m\u001b[0;34m(\u001b[0m\u001b[0mbatch_t\u001b[0m\u001b[0;34m[\u001b[0m\u001b[0mobs\u001b[0m\u001b[0;34m]\u001b[0m\u001b[0;34m,\u001b[0m \u001b[0mbatch_e\u001b[0m\u001b[0;34m[\u001b[0m\u001b[0mobs\u001b[0m\u001b[0;34m]\u001b[0m\u001b[0;34m,\u001b[0m \u001b[0mtt\u001b[0m\u001b[0;34m)\u001b[0m \u001b[0;32mfor\u001b[0m \u001b[0mobs\u001b[0m \u001b[0;32min\u001b[0m \u001b[0mnp\u001b[0m\u001b[0;34m.\u001b[0m\u001b[0marange\u001b[0m\u001b[0;34m(\u001b[0m\u001b[0mnbatch\u001b[0m\u001b[0;34m)\u001b[0m\u001b[0;34m]\u001b[0m\u001b[0;34m\u001b[0m\u001b[0;34m\u001b[0m\u001b[0m\n\u001b[0m\u001b[1;32m     60\u001b[0m     \u001b[0;32mreturn\u001b[0m \u001b[0mtorch\u001b[0m\u001b[0;34m.\u001b[0m\u001b[0mvstack\u001b[0m\u001b[0;34m(\u001b[0m\u001b[0mall_cat\u001b[0m\u001b[0;34m)\u001b[0m\u001b[0;34m\u001b[0m\u001b[0;34m\u001b[0m\u001b[0m\n\u001b[1;32m     61\u001b[0m \u001b[0;34m\u001b[0m\u001b[0m\n",
      "\u001b[0;32m/data/zidi/ACSurv/ACSurv/utils/trainer_helpers.py\u001b[0m in \u001b[0;36m<listcomp>\u001b[0;34m(.0)\u001b[0m\n\u001b[1;32m     57\u001b[0m     \u001b[0mnbin\u001b[0m \u001b[0;34m=\u001b[0m \u001b[0mlen\u001b[0m\u001b[0;34m(\u001b[0m\u001b[0mtt\u001b[0m\u001b[0;34m)\u001b[0m\u001b[0;34m\u001b[0m\u001b[0;34m\u001b[0m\u001b[0m\n\u001b[1;32m     58\u001b[0m     \u001b[0mnbatch\u001b[0m \u001b[0;34m=\u001b[0m \u001b[0mbatch_t\u001b[0m\u001b[0;34m.\u001b[0m\u001b[0mshape\u001b[0m\u001b[0;34m[\u001b[0m\u001b[0;36m0\u001b[0m\u001b[0;34m]\u001b[0m\u001b[0;34m\u001b[0m\u001b[0;34m\u001b[0m\u001b[0m\n\u001b[0;32m---> 59\u001b[0;31m     \u001b[0mall_cat\u001b[0m \u001b[0;34m=\u001b[0m \u001b[0;34m[\u001b[0m\u001b[0mt_categorize\u001b[0m\u001b[0;34m(\u001b[0m\u001b[0mbatch_t\u001b[0m\u001b[0;34m[\u001b[0m\u001b[0mobs\u001b[0m\u001b[0;34m]\u001b[0m\u001b[0;34m,\u001b[0m \u001b[0mbatch_e\u001b[0m\u001b[0;34m[\u001b[0m\u001b[0mobs\u001b[0m\u001b[0;34m]\u001b[0m\u001b[0;34m,\u001b[0m \u001b[0mtt\u001b[0m\u001b[0;34m)\u001b[0m \u001b[0;32mfor\u001b[0m \u001b[0mobs\u001b[0m \u001b[0;32min\u001b[0m \u001b[0mnp\u001b[0m\u001b[0;34m.\u001b[0m\u001b[0marange\u001b[0m\u001b[0;34m(\u001b[0m\u001b[0mnbatch\u001b[0m\u001b[0;34m)\u001b[0m\u001b[0;34m]\u001b[0m\u001b[0;34m\u001b[0m\u001b[0;34m\u001b[0m\u001b[0m\n\u001b[0m\u001b[1;32m     60\u001b[0m     \u001b[0;32mreturn\u001b[0m \u001b[0mtorch\u001b[0m\u001b[0;34m.\u001b[0m\u001b[0mvstack\u001b[0m\u001b[0;34m(\u001b[0m\u001b[0mall_cat\u001b[0m\u001b[0;34m)\u001b[0m\u001b[0;34m\u001b[0m\u001b[0;34m\u001b[0m\u001b[0m\n\u001b[1;32m     61\u001b[0m \u001b[0;34m\u001b[0m\u001b[0m\n",
      "\u001b[0;32m/data/zidi/ACSurv/ACSurv/utils/trainer_helpers.py\u001b[0m in \u001b[0;36mt_categorize\u001b[0;34m(t_, e_, tt)\u001b[0m\n\u001b[1;32m     49\u001b[0m \u001b[0;32mdef\u001b[0m \u001b[0mt_categorize\u001b[0m\u001b[0;34m(\u001b[0m\u001b[0mt_\u001b[0m\u001b[0;34m,\u001b[0m \u001b[0me_\u001b[0m\u001b[0;34m,\u001b[0m \u001b[0mtt\u001b[0m\u001b[0;34m)\u001b[0m\u001b[0;34m:\u001b[0m\u001b[0;34m\u001b[0m\u001b[0;34m\u001b[0m\u001b[0m\n\u001b[1;32m     50\u001b[0m     \u001b[0;32mif\u001b[0m \u001b[0me_\u001b[0m \u001b[0;34m==\u001b[0m \u001b[0;36m1\u001b[0m\u001b[0;34m:\u001b[0m\u001b[0;34m\u001b[0m\u001b[0;34m\u001b[0m\u001b[0m\n\u001b[0;32m---> 51\u001b[0;31m         \u001b[0mt_cat\u001b[0m \u001b[0;34m=\u001b[0m \u001b[0mt_label\u001b[0m\u001b[0;34m(\u001b[0m\u001b[0mt_\u001b[0m\u001b[0;34m,\u001b[0m\u001b[0mtt\u001b[0m\u001b[0;34m)\u001b[0m\u001b[0;34m\u001b[0m\u001b[0;34m\u001b[0m\u001b[0m\n\u001b[0m\u001b[1;32m     52\u001b[0m     \u001b[0;32melse\u001b[0m\u001b[0;34m:\u001b[0m\u001b[0;34m\u001b[0m\u001b[0;34m\u001b[0m\u001b[0m\n\u001b[1;32m     53\u001b[0m         \u001b[0mt_cat\u001b[0m \u001b[0;34m=\u001b[0m \u001b[0mt_label_censor\u001b[0m\u001b[0;34m(\u001b[0m\u001b[0mt_\u001b[0m\u001b[0;34m,\u001b[0m \u001b[0mtt\u001b[0m\u001b[0;34m)\u001b[0m\u001b[0;34m\u001b[0m\u001b[0;34m\u001b[0m\u001b[0m\n",
      "\u001b[0;32m/data/zidi/ACSurv/ACSurv/utils/trainer_helpers.py\u001b[0m in \u001b[0;36mt_label\u001b[0;34m(t_, tt)\u001b[0m\n\u001b[1;32m     32\u001b[0m     \u001b[0mt_diff\u001b[0m \u001b[0;34m=\u001b[0m \u001b[0mt_\u001b[0m\u001b[0;34m-\u001b[0m\u001b[0mtt\u001b[0m\u001b[0;34m\u001b[0m\u001b[0;34m\u001b[0m\u001b[0m\n\u001b[1;32m     33\u001b[0m     \u001b[0mt_diff_sign\u001b[0m \u001b[0;34m=\u001b[0m \u001b[0;34m(\u001b[0m\u001b[0mt_diff\u001b[0m\u001b[0;34m>=\u001b[0m\u001b[0;36m0\u001b[0m\u001b[0;34m)\u001b[0m\u001b[0;34m\u001b[0m\u001b[0;34m\u001b[0m\u001b[0m\n\u001b[0;32m---> 34\u001b[0;31m     \u001b[0;32mif\u001b[0m \u001b[0mlen\u001b[0m\u001b[0;34m(\u001b[0m\u001b[0mt_diff\u001b[0m\u001b[0;34m[\u001b[0m\u001b[0mt_diff_sign\u001b[0m\u001b[0;34m]\u001b[0m\u001b[0;34m)\u001b[0m\u001b[0;34m>\u001b[0m\u001b[0;36m0\u001b[0m\u001b[0;34m:\u001b[0m\u001b[0;34m\u001b[0m\u001b[0;34m\u001b[0m\u001b[0m\n\u001b[0m\u001b[1;32m     35\u001b[0m         \u001b[0midx\u001b[0m \u001b[0;34m=\u001b[0m \u001b[0mtorch\u001b[0m\u001b[0;34m.\u001b[0m\u001b[0margmin\u001b[0m\u001b[0;34m(\u001b[0m\u001b[0mt_diff\u001b[0m\u001b[0;34m[\u001b[0m\u001b[0mt_diff_sign\u001b[0m\u001b[0;34m]\u001b[0m\u001b[0;34m)\u001b[0m\u001b[0;34m\u001b[0m\u001b[0;34m\u001b[0m\u001b[0m\n\u001b[1;32m     36\u001b[0m         \u001b[0mt_cat\u001b[0m \u001b[0;34m=\u001b[0m \u001b[0mtorch\u001b[0m\u001b[0;34m.\u001b[0m\u001b[0mzeros\u001b[0m\u001b[0;34m(\u001b[0m\u001b[0mnbin\u001b[0m\u001b[0;34m)\u001b[0m\u001b[0;34m.\u001b[0m\u001b[0mto\u001b[0m\u001b[0;34m(\u001b[0m\u001b[0mt_\u001b[0m\u001b[0;34m.\u001b[0m\u001b[0mdevice\u001b[0m\u001b[0;34m)\u001b[0m\u001b[0;34m\u001b[0m\u001b[0;34m\u001b[0m\u001b[0m\n",
      "\u001b[0;31mKeyboardInterrupt\u001b[0m: "
     ]
    }
   ],
   "source": [
    "best_valid_e_loss = np.inf\n",
    "best_valid_NLL_loss = np.inf\n",
    "best_valid_CI = 0\n",
    "best_epoch = 0\n",
    "\n",
    "train_loss_hist = []\n",
    "train_loss_NLL_hist = []\n",
    "train_loss_est_hist = []\n",
    "train_lost_ctr_hist = []\n",
    "\n",
    "valid_loss_hist = []\n",
    "valid_loss_NLL_hist = []\n",
    "valid_loss_est_hist = []\n",
    "\n",
    "for epoch in range(1, epochs + 1):\n",
    "\n",
    "\n",
    "    train_loss = 0\n",
    "    train_ctr_loss = 0\n",
    "    train_NLL_loss, train_est_loss = 0, 0\n",
    "    \n",
    "    valid_e_loss = 0\n",
    "    valid_c_loss = 0\n",
    "    valid_NLL_loss, valid_est_loss = 0, 0\n",
    "\n",
    "    print('epoch'+str(epoch))\n",
    "    improved_str = \" \"\n",
    "    embedding.train()\n",
    "#     attention.train()\n",
    "    decoder.train()\n",
    "\n",
    "\n",
    "    for i, ((x1, y1, e1), (x2, y2, e2)) in enumerate(zip(pair1, pair2)):\n",
    "#         print(i)\n",
    "        # training encoder and decoder\n",
    "        \n",
    "        x = torch.cat([x1,x2]).to(device).float()\n",
    "        y = torch.cat([y1,y2]).to(device).float()\n",
    "        e = torch.cat([e1,e2]).to(device)\n",
    "                \n",
    "        if not ctr_learning:\n",
    "            ctr_wt = 0\n",
    "            \n",
    "        x_emb = embedding(x.float())\n",
    "#         z = attention(x_emb)\n",
    "        z, attn_score = attention(x_emb,x_emb,x_emb)\n",
    "\n",
    "        p_raw = decoder(z.float())\n",
    "        \n",
    "        loss_NLL = NLL_reg(p_raw, y, e, tt)\n",
    "        \n",
    "        # weighted average\n",
    "        t_wa_hat = wt_avg(p_raw, tt)\n",
    "        \n",
    "        eloss, closs = point_loss(t_wa_hat, y, e, loss_type)\n",
    "        loss_est = (closs + eloss)/len(e)\n",
    "    \n",
    "        surv_loss = loss_NLL + lambda_*loss_est\n",
    "    \n",
    "        # contrastive learning step\n",
    "        delete_loc = (y1==y2)+(1-e1)*(1-e2) + (1-e1)*e2*(y1 <= y2)+ e1*(1-e2)*(y1 >= y2)\n",
    "        keep_idx_1 = torch.where(delete_loc==0)[0]\n",
    "        keep_idx_2 = keep_idx_1+len(e1)\n",
    "\n",
    "        batch_label = (1*(y[keep_idx_1] > y[keep_idx_2])).to(device).squeeze().float()\n",
    "\n",
    "        batch_pair = torch.cat([z[keep_idx_1], z[keep_idx_2]],axis = 1).to(device).float()\n",
    "\n",
    "        pred_label = clf(batch_pair)\n",
    "        BCEloss = torch.nn.BCELoss()\n",
    "        contrastive_loss = BCEloss(pred_label.squeeze(), batch_label.float())\n",
    "\n",
    "        # update parameters\n",
    "        loss = surv_loss + ctr_wt*contrastive_loss\n",
    "        loss.backward()\n",
    "        \n",
    "        torch.nn.utils.clip_grad_norm_(embedding.parameters(), 1e-1)\n",
    "        torch.nn.utils.clip_grad_norm_(decoder.parameters(), 1e-1)\n",
    "        torch.nn.utils.clip_grad_norm_(clf.parameters(), 1e-1)\n",
    "        \n",
    "        train_loss += surv_loss.item()\n",
    "        train_NLL_loss += loss_NLL.item()\n",
    "        train_est_loss += loss_est.item()\n",
    "        train_ctr_loss += contrastive_loss.item()\n",
    "        \n",
    "        opt_emb.step()\n",
    "        opt_clf.step()\n",
    "        opt_dec.step()  \n",
    "        \n",
    "\n",
    "    \n",
    "    embedding.eval()\n",
    "    attention.eval()\n",
    "    decoder.eval()\n",
    "    \n",
    "    valid_e_loss = 0\n",
    "    valid_c_loss = 0\n",
    "    valid_pred_t, valid_e, valid_t = [],[],[]\n",
    "\n",
    "    for i, (x, y, e) in enumerate(v_pair1):\n",
    "        x= x.to(device).float()\n",
    "        y = y.to(device).float()\n",
    "        e = e.to(device)\n",
    "        \n",
    "        x_emb = embedding(x.float())\n",
    "#         z = attention(x_emb)\n",
    "        z, attn_score = attention(x_emb,x_emb,x_emb)\n",
    "\n",
    "        p_raw = decoder(z.float())\n",
    "        \n",
    "        loss_NLL = NLL_reg(p_raw, y, e, tt)\n",
    "        \n",
    "        # weighted average\n",
    "        t_wa_hat = wt_avg(p_raw, tt)\n",
    "        \n",
    "        eloss, closs = point_loss(t_wa_hat, y, e, loss_type)\n",
    "        loss_est = (closs + eloss)/len(e)\n",
    "    \n",
    "        loss = loss_NLL + lambda_*loss_est\n",
    "\n",
    "        valid_e_loss += eloss.item()\n",
    "        \n",
    "        valid_c_loss += closs.item()\n",
    "        \n",
    "        valid_NLL_loss += loss_NLL.item()\n",
    "        valid_est_loss += loss_est.item()\n",
    "        \n",
    "        valid_pred_t.append(t_wa_hat.squeeze())\n",
    "        valid_t.append(y.squeeze())\n",
    "        valid_e.append(e.squeeze())   \n",
    "        \n",
    "    # concatenate all the validation results\n",
    "    valid_e = torch.cat(valid_e)\n",
    "    valid_t = torch.cat(valid_t)\n",
    "    valid_pred_t = torch.cat(valid_pred_t)\n",
    "\n",
    "    valid_CI = get_CI_raw(valid_e, valid_t, valid_pred_t)[0]\n",
    "    train_loss_hist.append(train_loss/train_size)\n",
    "    train_loss_NLL_hist.append(train_NLL_loss/train_size)\n",
    "    train_loss_est_hist.append(train_est_loss/train_size)\n",
    "    train_lost_ctr_hist.append(train_ctr_loss/train_size)\n",
    "    \n",
    "    valid_loss_hist.append(valid_e_loss/val_size)\n",
    "    valid_loss_NLL_hist.append(valid_NLL_loss/val_size)\n",
    "    valid_loss_est_hist.append(valid_est_loss/val_size)\n",
    "    \n",
    "    save_model = 0\n",
    "    if (best_valid_e_loss > valid_e_loss):\n",
    "        save_model += 1\n",
    "    if (best_valid_NLL_loss > valid_NLL_loss):\n",
    "        save_model += 1\n",
    "    if (best_valid_CI < valid_CI):\n",
    "        save_model += 1\n",
    "        \n",
    "\n",
    "        \n",
    "    if epoch % 10 == 0:\n",
    "        subj = np.random.choice(len(e))\n",
    "        plt.figure(figsize=(12, 4))\n",
    "        plt.subplot(1, 2, 1)\n",
    "\n",
    "        sns.scatterplot(t_wa_hat[e==1].cpu().detach().numpy().squeeze(), y[e==1].cpu())\n",
    "        plt.plot(y[e==1].cpu(), y[e==1].cpu())\n",
    "        plt.xlabel('Predicted')\n",
    "        plt.ylabel('True Event')\n",
    "        \n",
    "        \n",
    "        subj = np.random.choice(len(e))\n",
    "        plt.subplot(1, 2, 2)\n",
    "\n",
    "        plt.axvline(y[subj],linestyle='--',color=emp_color,label='observed t_k')\n",
    "\n",
    "        sns.scatterplot(tt.cpu().detach().numpy(), p_raw[subj,:].cpu().detach().numpy(), label='Estimated', color=pred_color)\n",
    "        sample_x = x[subj,:].cpu().numpy()\n",
    "\n",
    "        true_T = single_subj_true_dist_cox_gompertz(sample_x, true_beta)['T']\n",
    "        sns.distplot(true_T, rug=True, hist=False, label=\"Empirical\", color=emp_color)\n",
    "        plt.xticks(np.arange(0, 100, step=5), np.arange(0, 100, step=5))  # Set label locations.\n",
    "\n",
    "        plt.title(r'$\\delta$='+str(e[subj].item()))\n",
    "        plt.show()\n",
    "\n",
    "    if save_model >1:\n",
    "        best_epoch = epoch\n",
    "        best_valid_e_loss = valid_e_loss\n",
    "        best_valid_NLL_loss = valid_NLL_loss\n",
    "        best_valid_CI = valid_CI\n",
    "        \n",
    "        torch.save(embedding.state_dict(), emb_path)\n",
    "#         torch.save(attention.state_dict(), att_path)\n",
    "        torch.save(decoder.state_dict(), dec_path)\n",
    "\n",
    "        improved_str = \"*\"\n",
    "    print('====> Train NLL: {:.3f} \\t Valid NLL: {:.3f} CI: {:.3f} event loss: {:.3f} \\t censoring loss : {:.3f} \\t Improved: {}'.format(train_NLL_loss/train_size, valid_NLL_loss/val_size, valid_CI, valid_e_loss/val_size,valid_c_loss/val_size,improved_str))\n",
    "\n",
    "    \n",
    "#     if ctr_learning and (epoch - best_epoch >=20):\n",
    "#         ctr_learning = False\n",
    "#         print('Contrastive learning stopped')\n",
    "    \n",
    "#     if not ctr_learning and (epoch - best_epoch >=50):\n",
    "#         print('Model stopped due to early stopping')\n",
    "#         break\n",
    "\n",
    "    if epoch - best_epoch >=20:\n",
    "        print('Model stopped due to early stopping')\n",
    "        break"
   ]
  },
  {
   "cell_type": "code",
   "execution_count": null,
   "metadata": {},
   "outputs": [],
   "source": [
    "plt.plot(train_loss_NLL_hist,label=\"train losses\")\n",
    "plt.plot(valid_loss_NLL_hist,label=\"valid losses\")\n",
    "plt.legend()\n"
   ]
  },
  {
   "cell_type": "code",
   "execution_count": null,
   "metadata": {},
   "outputs": [],
   "source": [
    "plt.plot(train_lost_ctr_hist,label=\"contrastive losses\")\n",
    "plt.legend()"
   ]
  },
  {
   "cell_type": "code",
   "execution_count": null,
   "metadata": {
    "scrolled": false
   },
   "outputs": [],
   "source": [
    "embedding.load_state_dict(torch.load(emb_path))\n",
    "# attention.load_state_dict(torch.load(att_path))\n",
    "\n",
    "decoder.load_state_dict(torch.load(dec_path))\n",
    "\n",
    "# for name, param in embedding.named_parameters():\n",
    "#     if param.requires_grad:\n",
    "#         print(name, param.data)"
   ]
  },
  {
   "cell_type": "code",
   "execution_count": null,
   "metadata": {
    "scrolled": false
   },
   "outputs": [],
   "source": [
    "# sns.barplot(np.arange(ncov),attention.weights.detach().cpu().numpy())\n",
    "# plt.title('Linear Attention Weights')"
   ]
  },
  {
   "cell_type": "code",
   "execution_count": null,
   "metadata": {},
   "outputs": [],
   "source": [
    "ax = sns.heatmap(embedding.x_emb_landmarks['AGE'].detach().cpu().numpy())\n",
    "plt.title('AGE embedding')"
   ]
  },
  {
   "cell_type": "code",
   "execution_count": null,
   "metadata": {},
   "outputs": [],
   "source": [
    "ax = sns.heatmap(embedding.x_emb_landmarks['RANDON'].detach().cpu().numpy())\n",
    "plt.title('RANDON embedding')"
   ]
  },
  {
   "cell_type": "code",
   "execution_count": null,
   "metadata": {
    "scrolled": true
   },
   "outputs": [],
   "source": [
    "ax = sns.heatmap(embedding.x_emb_levels['cat0'].detach().cpu().numpy())\n",
    "plt.title('CAT0 embedding')"
   ]
  },
  {
   "cell_type": "code",
   "execution_count": null,
   "metadata": {
    "scrolled": false
   },
   "outputs": [],
   "source": [
    "ax = sns.heatmap(embedding.x_emb_levels['cat1'].detach().cpu().numpy())\n",
    "plt.title('CAT1 embedding')"
   ]
  },
  {
   "cell_type": "code",
   "execution_count": null,
   "metadata": {},
   "outputs": [],
   "source": [
    "embedding.load_state_dict(torch.load(emb_path))\n",
    "decoder.load_state_dict(torch.load(dec_path))\n",
    "\n",
    "embedding.eval()\n",
    "decoder.eval()\n",
    "valid_e_loss = valid_c_loss= 0\n",
    "valid_pred_t = []\n",
    "valid_t = []\n",
    "valid_e = []\n",
    "for i, (x, y, e) in enumerate(v_pair1):\n",
    "    x= x.to(device).float()\n",
    "    y = y.to(device).float()\n",
    "    e = e.to(device)        \n",
    "    x_emb = embedding(x.float())\n",
    "    z, attn_score = attention(x_emb,x_emb,x_emb)\n",
    "\n",
    "    p_raw = decoder(z)\n",
    "\n",
    "    loss_NLL = NLL_reg(p_raw, y, e, tt)\n",
    "\n",
    "    # weighted average\n",
    "    t_wa_hat = wt_avg(p_raw, tt)\n",
    "\n",
    "    eloss, closs = point_loss(t_wa_hat, y, e, loss_type)\n",
    "    loss_est = closs + eloss\n",
    "\n",
    "    loss = loss_NLL + lambda_*loss_est\n",
    "    \n",
    "    valid_pred_t.append(t_wa_hat.squeeze())\n",
    "    valid_t.append(y.squeeze())\n",
    "    valid_e.append(e.squeeze())\n",
    "    valid_e_loss += eloss.item()\n",
    "\n",
    "    valid_c_loss += closs.item()\n",
    "\n",
    "print(valid_e_loss)\n"
   ]
  },
  {
   "cell_type": "code",
   "execution_count": null,
   "metadata": {},
   "outputs": [],
   "source": [
    "attn_score_avg = attn_score.mean(axis=0)\n",
    "ax = sns.heatmap(attn_score_avg.detach().cpu().numpy())\n",
    "plt.xticks_l = list(cov_list)\n",
    "plt.title('Attention Score')"
   ]
  },
  {
   "cell_type": "code",
   "execution_count": null,
   "metadata": {},
   "outputs": [],
   "source": []
  }
 ],
 "metadata": {
  "kernelspec": {
   "display_name": "ACSurv",
   "language": "python",
   "name": "acsurv"
  },
  "language_info": {
   "codemirror_mode": {
    "name": "ipython",
    "version": 3
   },
   "file_extension": ".py",
   "mimetype": "text/x-python",
   "name": "python",
   "nbconvert_exporter": "python",
   "pygments_lexer": "ipython3",
   "version": "3.8.8"
  }
 },
 "nbformat": 4,
 "nbformat_minor": 2
}
