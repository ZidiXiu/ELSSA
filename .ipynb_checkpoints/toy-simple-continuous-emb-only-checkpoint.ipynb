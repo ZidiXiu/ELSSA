{
 "cells": [
  {
   "cell_type": "code",
   "execution_count": 1,
   "metadata": {},
   "outputs": [
    {
     "name": "stdout",
     "output_type": "stream",
     "text": [
      "PyTorch version: 1.8.0\n"
     ]
    }
   ],
   "source": [
    "from __future__ import absolute_import, division, print_function\n",
    "\n",
    "import math\n",
    "import os\n",
    "\n",
    "import numpy as np\n",
    "import pandas\n",
    "\n",
    "import scipy\n",
    "import seaborn as sns\n",
    "\n",
    "from time import time,sleep\n",
    "\n",
    "import matplotlib.pyplot as plt\n",
    "%matplotlib inline\n",
    "import torch\n",
    "import torch.nn as nn\n",
    "import torch.nn.functional as F\n",
    "\n",
    "from pathlib import Path\n",
    "\n",
    "\n",
    "mypal = sns.color_palette('Set2')\n",
    "emp_color = mypal[0]\n",
    "pred_color = mypal[1]\n",
    "print (\"PyTorch version: \" + torch.__version__)\n"
   ]
  },
  {
   "cell_type": "code",
   "execution_count": 2,
   "metadata": {},
   "outputs": [],
   "source": [
    "from torch.utils.data import Dataset, DataLoader, Sampler\n",
    "# without transformation at the batch step\n",
    "class SimpleDataset(Dataset):\n",
    "    def __init__(self, x, y, e):\n",
    "        self.data = x\n",
    "        self.targets = y\n",
    "        self.label = e\n",
    "            \n",
    "    def __getitem__(self, index):\n",
    "        img = self.data[index]\n",
    "        target = self.targets[index]\n",
    "        label = self.label[index]\n",
    "        \n",
    "        return img, target, label\n",
    "        \n",
    "        \n",
    "    def __len__(self):\n",
    "        return len(self.data)\n",
    "    \n",
    "#     def get_mean_std(self):            \n",
    "#         mean = np.mean(self.data[:,self.covlist], axis = 0)\n",
    "#         std = np.std(self.data[:,self.covlist], axis = 0)\n",
    "# #         print(std)\n",
    "#         # set covariates with std =0 has std = mean\n",
    "#         std[std==0] = mean[std==0]+1e-3\n",
    "\n",
    "#         return mean, std"
   ]
  },
  {
   "cell_type": "code",
   "execution_count": 3,
   "metadata": {},
   "outputs": [],
   "source": [
    "class SimpleDataset_trans(Dataset):\n",
    "    def __init__(self, x, y, e, transform=False, covlist = None, mean=0, std = 1):\n",
    "        self.data = x\n",
    "        self.targets = y\n",
    "        self.label = e\n",
    "        self.transform = transform\n",
    "        self.covlist = covlist\n",
    "        if not self.covlist:\n",
    "            self.covlist = np.arange(self.data.shape[1])\n",
    "        \n",
    "        if self.transform:\n",
    "            self.mean, self.std = mean, std\n",
    "            \n",
    "    def __getitem__(self, index):\n",
    "        img = self.data[index]\n",
    "        target = self.targets[index]\n",
    "        label = self.label[index]\n",
    "        \n",
    "        if self.transform:\n",
    "            return (img[self.covlist]-self.mean)/self.std, target, label\n",
    "        else:\n",
    "            return img, target, label\n",
    "        \n",
    "        \n",
    "\n",
    "    def __len__(self):\n",
    "        return len(self.data)"
   ]
  },
  {
   "cell_type": "markdown",
   "metadata": {},
   "source": [
    "## Cox-gompertz linear setting\n",
    "\n",
    "Load framingham dataset"
   ]
  },
  {
   "cell_type": "code",
   "execution_count": 4,
   "metadata": {
    "scrolled": true
   },
   "outputs": [
    {
     "data": {
      "text/plain": [
       "1.0"
      ]
     },
     "execution_count": 4,
     "metadata": {},
     "output_type": "execute_result"
    }
   ],
   "source": [
    "from data.simulation import simulation_cox_weibull_all\n",
    "\n",
    "file_path = '/data/zidi/framingham/'\n",
    "result_path_root = '/data/zidi/ACSurv/results/toy'\n",
    "# file_path = '/Users/ZidiXiu/Dropbox/Research/framingham/data/'\n",
    "# result_path_root = \"/Users/ZidiXiu/Dropbox/Research/ContrastiveSurvival/results\"+'/toy'\n",
    "\n",
    "cut_bound = 6\n",
    "df= simulation_cox_weibull_all(n=20000, censor_bound=0)\n",
    "\n",
    "# change to non-ohe \n",
    "cat0_level = df['ohe'][0]\n",
    "cat1_level = df['ohe'][1]\n",
    "\n",
    "# cat0 = 0*df['x'][:,2] + 1*df['x'][:,3]+ 2*df['x'][:,4]+ 3*df['x'][:,5]\n",
    "cat0 = np.sum(np.array([level*df['x'][:, 3+level] for level in range(cat0_level)]),0).reshape(-1,1)\n",
    "cat1 = np.sum(np.array([level*df['x'][:, 3+cat0_level+level] for level in range(cat1_level)]),0).reshape(-1,1)\n",
    "\n",
    "\n",
    "df['x'] = np.concatenate((df['x'][:,df['cts_idx']], cat0, cat1), axis=1)\n",
    "nsamples, ncov= df['x'].shape\n",
    "\n",
    "cov_list = np.array(['AGE','RANDON', 'INTA', 'cat0','cat1'])\n",
    "cts_idx = df['cts_idx']\n",
    "cts_var = cov_list[cts_idx]\n",
    "cat_idx = np.setdiff1d(np.arange(ncov), cts_idx)\n",
    "cat_var = cov_list[cat_idx]\n",
    "\n",
    "np.mean(df['e'])"
   ]
  },
  {
   "cell_type": "code",
   "execution_count": 5,
   "metadata": {},
   "outputs": [
    {
     "name": "stderr",
     "output_type": "stream",
     "text": [
      "/data/zidi/ACSurv/workspace/lib/python3.8/site-packages/seaborn/_decorators.py:36: FutureWarning: Pass the following variable as a keyword arg: x. From version 0.12, the only valid positional argument will be `data`, and passing other arguments without an explicit keyword will result in an error or misinterpretation.\n",
      "  warnings.warn(\n"
     ]
    },
    {
     "data": {
      "text/plain": [
       "(<AxesSubplot:ylabel='count'>, array([3, 4]))"
      ]
     },
     "execution_count": 5,
     "metadata": {},
     "output_type": "execute_result"
    },
    {
     "data": {
      "image/png": "[encoded data removed]",
      "text/plain": [
       "<Figure size 432x288 with 1 Axes>"
      ]
     },
     "metadata": {
      "needs_background": "light"
     },
     "output_type": "display_data"
    }
   ],
   "source": [
    "sns.countplot(df['x'][:,-2]), cat_idx"
   ]
  },
  {
   "cell_type": "code",
   "execution_count": 6,
   "metadata": {},
   "outputs": [
    {
     "name": "stderr",
     "output_type": "stream",
     "text": [
      "/data/zidi/ACSurv/workspace/lib/python3.8/site-packages/seaborn/distributions.py:2557: FutureWarning: `distplot` is a deprecated function and will be removed in a future version. Please adapt your code to use either `displot` (a figure-level function with similar flexibility) or `histplot` (an axes-level function for histograms).\n",
      "  warnings.warn(msg, FutureWarning)\n"
     ]
    },
    {
     "data": {
      "text/plain": [
       "<AxesSubplot:ylabel='Density'>"
      ]
     },
     "execution_count": 6,
     "metadata": {},
     "output_type": "execute_result"
    },
    {
     "data": {
      "image/png": "[encoded data removed]",
      "text/plain": [
       "<Figure size 432x288 with 1 Axes>"
      ]
     },
     "metadata": {
      "needs_background": "light"
     },
     "output_type": "display_data"
    }
   ],
   "source": [
    "sns.distplot(df['T'])"
   ]
  },
  {
   "cell_type": "code",
   "execution_count": 7,
   "metadata": {},
   "outputs": [
    {
     "name": "stdout",
     "output_type": "stream",
     "text": [
      "observed fold:1.0\n",
      "observed fold:1.0\n"
     ]
    }
   ],
   "source": [
    "from data.utils import *\n",
    "nsamples, ncov= df['x'].shape\n",
    "np.random.seed(123)\n",
    "all_idx = np.arange(nsamples)\n",
    "all_idx = np.random.permutation(all_idx)\n",
    "train_idx = all_idx[:int(2*nsamples/3)]\n",
    "valid_idx = all_idx[int(2*nsamples/3):]\n",
    "\n",
    "train = formatted_data(df['x'], df['t'], df['e'], train_idx)\n",
    "valid = formatted_data(df['x'], df['t'], df['e'], valid_idx)\n",
    "\n",
    "del df"
   ]
  },
  {
   "cell_type": "markdown",
   "metadata": {},
   "source": [
    "### Embedding the covariates into $\\mathbb{R}^m$\n",
    "- for each continuous variable, first find $m$ landmarkers, then interpolate values in between\n",
    "- for each categorical variable, find the matched embedding vector with $m$ dimensions\n",
    "\n",
    "Define landmarkers for each continuous variable### Embedding the covariates into $\\mathbb{R}^m$"
   ]
  },
  {
   "cell_type": "code",
   "execution_count": 8,
   "metadata": {},
   "outputs": [],
   "source": [
    "def landmarks_init(dataset, m, cts_var=None, cts_idx = None, device='cpu'):\n",
    "    '''\n",
    "    continuous_idx: \n",
    "    \n",
    "    '''\n",
    "    if type(cts_var) == type(None):\n",
    "        cts_idx = np.arange(dataset['x'].shape[1])\n",
    "        cts_var = cts_idx\n",
    "    \n",
    "    # creat landmarks as traditional dictionary\n",
    "    x_landmarks = {}\n",
    "\n",
    "    [x_landmarks.update({var: torch.tensor(np.percentile(dataset['x'][:,c_idx], np.linspace(0,100,m))).to(device).contiguous()}) for c_idx, var in zip(cts_idx, cts_var)]\n",
    "\n",
    "    # save the initialized landmarks as a torch parameter dictionary\n",
    "    x_emb_landmarks = nn.ParameterDict({})\n",
    "    for var in cts_var:\n",
    "        m = len(x_landmarks[var])\n",
    "        x_emb_landmark = torch.eye(m)\n",
    "        new_dict = nn.ParameterDict({var:torch.nn.Parameter(x_emb_landmark)})\n",
    "        x_emb_landmarks.update(new_dict)\n",
    "        \n",
    "    return x_landmarks, x_emb_landmarks\n",
    "\n",
    "# x_landmarks, x_emb_landmarks = landmarks_init(train, m, continuous_variables)\n",
    "# x_landmarks, x_emb_landmarks"
   ]
  },
  {
   "cell_type": "code",
   "execution_count": 9,
   "metadata": {},
   "outputs": [],
   "source": [
    "# x_landmarks, x_emb_landmarks = landmarks_init(train, 10, cts_var, cts_idx, device='cuda')\n",
    "# x_landmarks, x_emb_landmarks"
   ]
  },
  {
   "cell_type": "code",
   "execution_count": 10,
   "metadata": {},
   "outputs": [],
   "source": [
    "# x_landmarks.keys(), x_emb_landmarks.keys()"
   ]
  },
  {
   "cell_type": "markdown",
   "metadata": {},
   "source": [
    "### Linear Interpolation for continuous variables\n",
    "\n",
    "$x_b \\le x < x_{b+1}$, $\\text{emb}(x) = \\text{emb}(x_b) + \\frac{\\text{emb}(x_{b+1}) - \\text{emb}(x_b)}{x_{b+1}-x_b}(x-x_{b})$"
   ]
  },
  {
   "cell_type": "code",
   "execution_count": 11,
   "metadata": {
    "scrolled": true
   },
   "outputs": [],
   "source": [
    "\n",
    "# def linear_interpolation_np(x, x_landmarks):\n",
    "#     # apply numpy package\n",
    "#     m = len(x_landmarks)\n",
    "#     x_emb_landmarks = np.eye(m)\n",
    "#     # returns index\n",
    "#     # a[i-1] < v <= a[i]\n",
    "#     indx = np.searchsorted(x_landmarks, x)\n",
    "#     # combine the first two indices, and the last two indices\n",
    "#     # to include the unobserved minimum and maximum value\n",
    "#     # combines [0,1], and [m-1, m]\n",
    "#     indx = np.where(indx==0, 1, indx)\n",
    "#     indx = np.where(indx==m, m-1, indx)\n",
    "\n",
    "#     # linear interpolation\n",
    "#     def helper(idx, x0):\n",
    "#         return x_emb_landmarks[idx-1] + (x0-x_landmarks[idx-1])*(x_emb_landmarks[idx] - x_emb_landmarks[idx-1])/(x_landmarks[idx]-x_landmarks[idx-1])\n",
    "    \n",
    "#     out = [helper(idx,x0) for idx, x0 in zip(indx, x)]\n",
    "#     print(np.vstack(out))\n",
    "\n",
    "\n",
    "def linear_interpolation_var(x, x_landmark, x_emb_landmark):\n",
    "    # written for torch\n",
    "    # returns index\n",
    "    # a[i-1] < v <= a[i]\n",
    "    indx = torch.searchsorted(x_landmark, x)\n",
    "    # combine the first two indices, and the last two indices\n",
    "    # to include the unobserved minimum and maximum value\n",
    "    # combines [0,1], and [m-1, m]\n",
    "    indx = torch.where(indx==0, 1, indx)\n",
    "    indx = torch.where(indx==m, m-1, indx)\n",
    "\n",
    "    # linear interpolation\n",
    "    def helper(idx, x0):\n",
    "        return x_emb_landmark[idx-1] + (x0-x_landmark[idx-1])*(x_emb_landmark[idx] - x_emb_landmark[idx-1])/(x_landmark[idx]-x_landmark[idx-1])\n",
    "    \n",
    "    out = [helper(idx,x0) for idx, x0 in zip(indx, x)]\n",
    "#     print(torch.vstack(out))\n",
    "    return torch.vstack(out)"
   ]
  },
  {
   "cell_type": "code",
   "execution_count": 12,
   "metadata": {},
   "outputs": [],
   "source": [
    "def cts_interpolation(x, x_landmarks, x_emb_landmarks, cts_var=None, cts_idx=None):\n",
    "    \n",
    "#     m = len(x_landmarks[0])\n",
    "    if type(cts_var) == type(None):\n",
    "        cts_var = x_landmarks.keys()\n",
    "    # find values variable by variable\n",
    "    res = []\n",
    "    for c_idx, var in zip(cts_idx, cts_var):\n",
    "        m = len(x_landmarks[var])\n",
    "        cur_emb = linear_interpolation_var(x[:,c_idx], x_landmarks[var], x_emb_landmarks[var])\n",
    "        # reshape to dimension [batch_size, 1, m]\n",
    "        res.append(cur_emb.view(-1,1,m))\n",
    "        \n",
    "    return torch.cat(res, 1)\n",
    "#     return torch.cat(res, 1)"
   ]
  },
  {
   "cell_type": "code",
   "execution_count": 13,
   "metadata": {},
   "outputs": [],
   "source": [
    "# cts_interpolation(torch.tensor(train['x'][:20]).float(), x_landmarks, x_emb_landmarks, cts_var, cts_idx, device)"
   ]
  },
  {
   "cell_type": "code",
   "execution_count": 14,
   "metadata": {},
   "outputs": [
    {
     "data": {
      "text/plain": [
       "'\\nTo handle missingness, indicating by a masking matrix\\n1 for observed, 0 for censored\\n\\nIf missing, no need to interpolation at this location\\n'"
      ]
     },
     "execution_count": 14,
     "metadata": {},
     "output_type": "execute_result"
    }
   ],
   "source": [
    "    '''\n",
    "    To handle missingness, indicating by a masking matrix\n",
    "    1 for observed, 0 for censored\n",
    "    \n",
    "    If missing, no need to interpolation at this location\n",
    "    '''\n",
    "\n",
    "# def cts_interpolation_mask(x, x_landmarks, x_emb_landmarks, continuous_variables=None, device='cpu'):\n",
    "#     '''\n",
    "#     To handle missingness, indicating by a masking matrix\n",
    "#     1 for observed, 0 for censored\n",
    "    \n",
    "#     To be completed\n",
    "#     '''\n",
    "#     m = len(x_landmarks[0])\n",
    "#     if type(continuous_variables) == type(None):\n",
    "#         continuous_variables = np.arange(len(x_landmarks))\n",
    "#     # find values variable by variable\n",
    "#     res = []\n",
    "#     for var in continuous_variables:\n",
    "#         cur_emb = linear_interpolation_var(x[:,var], x_landmarks[var], x_emb_landmarks[var], device=device)\n",
    "#         # reshape to dimension [batch_size, 1, m]\n",
    "#         res.append(cur_emb.view(-1,1,m))\n",
    "        \n",
    "#     return torch.cat(res, 1)\n",
    "# #     return torch.cat(res, 1)"
   ]
  },
  {
   "cell_type": "code",
   "execution_count": 15,
   "metadata": {},
   "outputs": [],
   "source": [
    "# x_cts_emb = cts_interpolation(torch.tensor(train['x'][:10]), x_landmarks, x_emb_landmarks, continuous_variables)\n",
    "# x_cts_emb"
   ]
  },
  {
   "cell_type": "markdown",
   "metadata": {},
   "source": [
    "### Embedding categorical variables\n",
    "\n",
    "Embed each level ($l$) of categorical variable, i.e., mapping each digit label to a length-m embedding vector, the $l$-th row of the embedding matrix."
   ]
  },
  {
   "cell_type": "code",
   "execution_count": 16,
   "metadata": {},
   "outputs": [],
   "source": [
    "# save variable name and levels as a dictionary\n",
    "# x_levels = {}\n",
    "# [x_levels.update({var:len(np.unique(df['x'][:,var]))}) for var in categorical_variables]\n",
    "\n",
    "def level_init(dataset, m, cat_var=None, cat_idx=None):\n",
    "#     if type(categorical_variables)==type(None):\n",
    "#         categorical_variables = np.arange(len(x_levels))\n",
    "    x_levels = {} \n",
    "    [x_levels.update({var:len(np.unique(dataset['x'][:,c_idx]))}) for c_idx, var in zip(cat_idx, cat_var)]\n",
    "    # save the initialized landmarks as a dictionary\n",
    "    x_emb_levels = nn.ParameterDict({})\n",
    "    for var in cat_var:\n",
    "        level = x_levels[var]\n",
    "        # randomly pick one position as 1\n",
    "        idx = np.random.choice(m)\n",
    "        x_emb_level = torch.zeros(level, m)\n",
    "#         x_emb_level = F.softmax(torch.rand(level, m),dim=-1)\n",
    "\n",
    "        for l in range(level):\n",
    "            idx = np.random.choice(m)\n",
    "            x_emb_level[l, idx] = 1.0\n",
    "    \n",
    "        new_dict = nn.ParameterDict({var:torch.nn.Parameter(x_emb_level)})\n",
    "        x_emb_levels.update(new_dict)\n",
    "    return x_levels, x_emb_levels"
   ]
  },
  {
   "cell_type": "code",
   "execution_count": 17,
   "metadata": {},
   "outputs": [],
   "source": [
    "# save variable name and levels as a dictionary\n",
    "# x_levels = {}\n",
    "# [x_levels.update({var:len(np.unique(df['x'][:,var]))}) for var in categorical_variables]\n",
    "\n",
    "# def level_init(dataset, m, cat_var=None, cat_idx=None):\n",
    "# #     if type(categorical_variables)==type(None):\n",
    "# #         categorical_variables = np.arange(len(x_levels))\n",
    "#     x_levels = {} \n",
    "#     [x_levels.update({var:len(np.unique(dataset['x'][:,c_idx]))}) for c_idx, var in zip(cat_idx, cat_var)]\n",
    "#     # save the initialized landmarks as a dictionary\n",
    "#     x_emb_levels = nn.ParameterDict({})\n",
    "#     for var in cat_var:\n",
    "#         level = x_levels[var]\n",
    "#         # randomly pick one position as 1\n",
    "#         idx = np.random.choice(m)\n",
    "#         x_emb_level = torch.nn.Embedding(level, m)\n",
    "    \n",
    "#         new_dict = nn.ParameterDict({var:x_emb_level})\n",
    "#         x_emb_levels.update(new_dict)\n",
    "#     return x_levels, x_emb_levels"
   ]
  },
  {
   "cell_type": "code",
   "execution_count": 18,
   "metadata": {},
   "outputs": [],
   "source": [
    "# x_levels, x_emb_levels = level_init(train, 10, cat_var, cat_idx)\n",
    "# x_levels, x_emb_levels"
   ]
  },
  {
   "cell_type": "code",
   "execution_count": 19,
   "metadata": {},
   "outputs": [],
   "source": [
    "def cat_interpolation(x, x_emb_levels, cat_var=None, cat_idx = None):\n",
    "    if type(cat_var) == type(None):\n",
    "        cat_var = x_emb_levels.keys()\n",
    "    # find values variable by variable\n",
    "    res = []\n",
    "    for c_idx, var in zip(cat_idx, cat_var):\n",
    "        cur_emb = x_emb_levels[var][x[:,c_idx].long()]\n",
    "        # reshape to dimension [batch_size, 1, m]\n",
    "        res.append(cur_emb.view(-1,1,m))\n",
    "        \n",
    "    return torch.cat(res, 1)\n",
    "    "
   ]
  },
  {
   "cell_type": "markdown",
   "metadata": {},
   "source": [
    "Linear interpolation batch by batch"
   ]
  },
  {
   "cell_type": "code",
   "execution_count": 20,
   "metadata": {},
   "outputs": [],
   "source": [
    "# m = 10\n",
    "# device='cpu'\n",
    "# # Initiate landmarks with trainable paramters\n",
    "# x_landmarks, x_emb_landmarks = landmarks_init(train, m, cts_var, cts_idx, device)\n",
    "# x_levels, x_emb_levels = level_init(train, m, cat_var, cat_idx, device)\n",
    "\n",
    "# \n",
    "# \n",
    "def cov_embedding(x, m, cts_var=None, cts_idx = None, x_landmarks=None, x_emb_landmarks=None,\n",
    "                  cat_var=[], cat_idx = [], x_levels=None, x_emb_levels=None):\n",
    "    '''\n",
    "    Do the transformation within each minibatch\n",
    "\n",
    "    m: length of the embedding vector for each covariates\n",
    "\n",
    "    cts_var: list of the names of continuous variables\n",
    "    cat_var: list of the names of categorical variables\n",
    "\n",
    "    x_landmarks: dictionary with continuous names as keys, and the percentile landmarks as items\n",
    "    x_emb_landmarks: dictionary with continuous names as keys, and the embedding landmarks as items\n",
    "\n",
    "    x_levels: dictionary with categorical names as keys, and the number of levels per covariate as items\n",
    "    x_emb_levels: dictionary with categorical names as keys, and the embedding vectors as items\n",
    "    '''\n",
    "    x_emb = []\n",
    "    var_list = []\n",
    "    if type(cts_var) != type(None):\n",
    "        x_emb.append(cts_interpolation(x, x_landmarks, x_emb_landmarks, cts_var, cts_idx))\n",
    "        var_list.extend(list(x_emb_landmarks.keys()))\n",
    "        \n",
    "    if len(cat_var) >0:\n",
    "        x_emb.append(cat_interpolation(x, x_emb_levels, cat_var, cat_idx))\n",
    "        var_list.extend(list(x_emb_levels.keys()))\n",
    "    \n",
    "    x_emb = torch.cat(x_emb, 1)\n",
    "#     cur_var_list = torch.cat(var_list)\n",
    "#     print(var_list)\n",
    "    return x_emb, var_list\n",
    "        "
   ]
  },
  {
   "cell_type": "code",
   "execution_count": 21,
   "metadata": {},
   "outputs": [],
   "source": [
    "# batch_emb, var_list = cov_embedding(torch.tensor(train['x'][:20]).float(), 10, cts_var, cts_idx, x_landmarks, x_emb_landmarks,\n",
    "#                                     cat_var, cat_idx, x_levels, x_emb_levels)\n",
    "# batch_emb.shape"
   ]
  },
  {
   "cell_type": "code",
   "execution_count": 22,
   "metadata": {},
   "outputs": [
    {
     "data": {
      "text/plain": [
       "2"
      ]
     },
     "execution_count": 22,
     "metadata": {},
     "output_type": "execute_result"
    }
   ],
   "source": [
    "len(cat_idx)"
   ]
  },
  {
   "cell_type": "code",
   "execution_count": 23,
   "metadata": {},
   "outputs": [],
   "source": [
    "class Embedding(nn.Module):\n",
    "    '''\n",
    "    create embedding paramters\n",
    "    '''\n",
    "    def __init__(self, dataset, cts_var, cts_idx, cat_var=[], cat_idx=[], dropout=0.0, m=10, device='cuda'):\n",
    "        super(Embedding, self).__init__()\n",
    "        self.m = m\n",
    "        self.cts_var, self.cts_idx, self.cat_var, self.cat_idx =  cts_var, cts_idx, cat_var, cat_idx\n",
    "        # Initiate landmarks with trainable paramters\n",
    "        self.x_landmarks, self.x_emb_landmarks = landmarks_init(dataset, m, cts_var, cts_idx, device)\n",
    "        if len(cat_idx) > 0:\n",
    "            self.x_levels, self.x_emb_levels = level_init(dataset, m, cat_var, cat_idx)\n",
    "        else:\n",
    "            self.x_levels, self.x_emb_levels = None, None\n",
    "        self.dropout = nn.Dropout(p=dropout)\n",
    "        \n",
    "    def forward(self, x, mask=None):\n",
    "        x_emb, var_list = cov_embedding(x.float(), self.m,\\\n",
    "                                        self.cts_var, self.cts_idx, self.x_landmarks, self.x_emb_landmarks,\\\n",
    "                                        self.cat_var, self.cat_idx, self.x_levels, self.x_emb_levels)\n",
    "        return self.dropout(x_emb)\n",
    "\n"
   ]
  },
  {
   "cell_type": "code",
   "execution_count": 24,
   "metadata": {},
   "outputs": [],
   "source": [
    "# class Embedding_simple(nn.Module):\n",
    "#     '''\n",
    "#     create embedding paramters\n",
    "#     '''\n",
    "#     def __init__(self):\n",
    "#         super(Embedding, self).__init__()\n",
    "#         self.embedding = torch.nn.Embedding\n",
    "#     def forward(self, x, mask=None):\n",
    "#         x_emb, var_list = cov_embedding(x.float(), self.m,\\\n",
    "#                                         self.cts_var, self.cts_idx, self.x_landmarks, self.x_emb_landmarks,\\\n",
    "#                                         self.cat_var, self.cat_idx, self.x_levels, self.x_emb_levels)\n",
    "#         return self.dropout(x_emb)\n",
    "\n"
   ]
  },
  {
   "cell_type": "code",
   "execution_count": 25,
   "metadata": {},
   "outputs": [],
   "source": [
    "\n",
    "class Linear(nn.Module):\n",
    "    '''\n",
    "    create linear combinations for different embedded vectors\n",
    "    '''\n",
    "    def __init__(self, dropout):\n",
    "        super(Linear, self).__init__()\n",
    "#         self.weights = torch.nn.Parameter(F.softmax(torch.rand(ncov), dim=-1))\n",
    "        self.flatten = nn.Flatten()\n",
    "        self.dropout = nn.Dropout(p=dropout)\n",
    "    def forward(self, x_emb):\n",
    "        # with shape [batch_size, ncov, m]\n",
    "#         x_emb = x_emb.permute(0,2,1)\n",
    "        # now it has shape [batch_size, m, ncov]\n",
    "        # comparing to an image, m is like the channel\n",
    "        return self.flatten(self.dropout(x_emb))\n",
    "        \n",
    "        "
   ]
  },
  {
   "cell_type": "code",
   "execution_count": 26,
   "metadata": {},
   "outputs": [],
   "source": [
    "import torch\n",
    "from torch import nn, optim\n",
    "import numpy as np\n",
    "\n",
    "# Type hinting\n",
    "from typing import Union, List, Optional, Any, Tuple\n",
    "from torch import FloatTensor, LongTensor\n",
    "\n",
    "    \n",
    "class DecMLP(nn.Module):\n",
    "    def __init__(self, input_size=2, output_size=2, h_dim=[32,32]):\n",
    "        super(DecMLP, self).__init__()\n",
    "        net = []\n",
    "        hs = [input_size] + h_dim + [output_size]\n",
    "        for h0, h1 in zip(hs, hs[1:]):\n",
    "            net.extend([\n",
    "                nn.Linear(h0, h1),\n",
    "                nn.ReLU(),\n",
    "            ])\n",
    "        net.pop()  # pop the last ReLU for the output layer\n",
    "        self.net = nn.Sequential(*net)\n",
    "#         self.out = torch.nn.Softmax(dim=1)\n",
    "        \n",
    "    def forward(self, x):\n",
    "        z = self.net(x)\n",
    "        # reshape to original shape?\n",
    "        return z\n",
    "    \n",
    "# class Embedding(nn.Module):\n",
    "#     def __init__(self, ncov, z_dim, h_dim=[32,32]):\n",
    "#         super(Embedding, self).__init__()\n",
    "#         self.enc = EncEmbedding(input_size=ncov, output_size=z_dim, h_dim=h_dim)\n",
    "#         self.dec = DecEmbdedding(input_size=z_dim, output_size=ncov, h_dim=h_dim)\n",
    "#     def forward(self, x, mask=True):\n",
    "#         z = self.enc(x)\n",
    "#         rec_x = self.dec(z)\n",
    "        \n",
    "#         return z, rec_x"
   ]
  },
  {
   "cell_type": "code",
   "execution_count": 27,
   "metadata": {},
   "outputs": [],
   "source": [
    "# # with transformation\n",
    "# ncov = train['x'].shape[1]\n",
    "# covList = np.arange(ncov)\n",
    "# mean = np.mean(train['x'], axis=0)\n",
    "# std = np.std(train['x'], axis=0)\n",
    "\n",
    "# trainData = SimpleDataset_trans(train['x'], train['t'], train['e'], transform=True, mean=mean, std = std)\n",
    "# pair1 = DataLoader(trainData, batch_size=500,shuffle=True)\n",
    "# pair2 = DataLoader(trainData, batch_size=500,shuffle=True)\n",
    "\n",
    "# validData = SimpleDataset_trans(valid['x'], valid['t'], valid['e'], transform=True, mean=mean, std = std)\n",
    "# v_pair1 = DataLoader(validData, batch_size=1000,shuffle=True)\n",
    "# # v_pair2 = DataLoader(validData, batch_size=500,shuffle=True)"
   ]
  },
  {
   "cell_type": "code",
   "execution_count": 28,
   "metadata": {},
   "outputs": [],
   "source": [
    "ncov = train['x'].shape[1]\n",
    "covList = np.arange(ncov)\n",
    "\n",
    "trainData = SimpleDataset(train['x'], train['t'], train['e'])\n",
    "pair1 = DataLoader(trainData, batch_size=500,shuffle=True)\n",
    "pair2 = DataLoader(trainData, batch_size=500,shuffle=True)\n",
    "\n",
    "validData = SimpleDataset(valid['x'], valid['t'], valid['e'])\n",
    "v_pair1 = DataLoader(validData, batch_size=1000,shuffle=True)\n",
    "# v_pair2 = DataLoader(validData, batch_size=500,shuffle=True)\n"
   ]
  },
  {
   "cell_type": "code",
   "execution_count": 29,
   "metadata": {},
   "outputs": [
    {
     "data": {
      "text/plain": [
       "'/data/zidi/ACSurv/results/toy'"
      ]
     },
     "execution_count": 29,
     "metadata": {},
     "output_type": "execute_result"
    }
   ],
   "source": [
    "result_path_root"
   ]
  },
  {
   "cell_type": "code",
   "execution_count": 30,
   "metadata": {
    "scrolled": true
   },
   "outputs": [
    {
     "name": "stdout",
     "output_type": "stream",
     "text": [
      "Embedding(\n",
      "  (x_emb_landmarks): ParameterDict(\n",
      "      (AGE): Parameter containing: [torch.cuda.FloatTensor of size 10x10 (GPU 1)]\n",
      "      (RANDON): Parameter containing: [torch.cuda.FloatTensor of size 10x10 (GPU 1)]\n",
      "      (INTA): Parameter containing: [torch.cuda.FloatTensor of size 10x10 (GPU 1)]\n",
      "  )\n",
      "  (x_emb_levels): ParameterDict(\n",
      "      (cat0): Parameter containing: [torch.cuda.FloatTensor of size 4x10 (GPU 1)]\n",
      "      (cat1): Parameter containing: [torch.cuda.FloatTensor of size 100x10 (GPU 1)]\n",
      "  )\n",
      "  (dropout): Dropout(p=0.0, inplace=False)\n",
      ") Linear(\n",
      "  (flatten): Flatten(start_dim=1, end_dim=-1)\n",
      "  (dropout): Dropout(p=0.2, inplace=False)\n",
      ") DecMLP(\n",
      "  (net): Sequential(\n",
      "    (0): Linear(in_features=50, out_features=128, bias=True)\n",
      "    (1): ReLU()\n",
      "    (2): Linear(in_features=128, out_features=128, bias=True)\n",
      "    (3): ReLU()\n",
      "    (4): Linear(in_features=128, out_features=1, bias=True)\n",
      "  )\n",
      ")\n"
     ]
    }
   ],
   "source": [
    "m=10\n",
    "zdim = m\n",
    "epochs = 1000\n",
    "device = 'cuda'\n",
    "model_name = 'emb_only'\n",
    "device = torch.device('cuda' if torch.cuda.is_available() else 'cpu')\n",
    "torch.cuda.set_device(1)\n",
    "\n",
    "\n",
    "result_path = result_path_root+'/saved_models/'\n",
    "Path(result_path).mkdir(parents=True, exist_ok=True)\n",
    "\n",
    "'''covariate embedding'''\n",
    "embedding = Embedding(train, cts_var, cts_idx, cat_var, cat_idx, m=m)\n",
    "\n",
    "'''attention network'''\n",
    "attention = Linear(dropout=0.2)\n",
    "'''decoding the embedded vectors'''\n",
    "decoder = DecMLP(input_size = zdim*ncov, output_size = 1, h_dim=[128,128])\n",
    "\n",
    "embedding.to(device)\n",
    "attention.to(device)\n",
    "decoder.to(device)\n",
    "\n",
    "# define optimizer\n",
    "opt_emb = optim.Adam(embedding.parameters(), lr=1e-3)\n",
    "opt_dec = optim.Adam(decoder.parameters(), lr=1e-4)\n",
    "\n",
    "emb_path = result_path+model_name+'_emb.pt'\n",
    "dec_path = result_path+model_name+'_dec.pt'\n",
    "\n",
    "print(embedding, attention, decoder)"
   ]
  },
  {
   "cell_type": "code",
   "execution_count": 31,
   "metadata": {
    "scrolled": true
   },
   "outputs": [
    {
     "data": {
      "text/plain": [
       "Text(0.5, 1.0, 'AGE embedding')"
      ]
     },
     "execution_count": 31,
     "metadata": {},
     "output_type": "execute_result"
    },
    {
     "data": {
      "image/png": "[encoded data removed]",
      "text/plain": [
       "<Figure size 432x288 with 2 Axes>"
      ]
     },
     "metadata": {
      "needs_background": "light"
     },
     "output_type": "display_data"
    }
   ],
   "source": [
    "ax = sns.heatmap(embedding.x_emb_landmarks['AGE'].detach().cpu().numpy())\n",
    "plt.title('AGE embedding')"
   ]
  },
  {
   "cell_type": "code",
   "execution_count": 32,
   "metadata": {},
   "outputs": [
    {
     "data": {
      "text/plain": [
       "Text(0.5, 1.0, 'RANDON embedding')"
      ]
     },
     "execution_count": 32,
     "metadata": {},
     "output_type": "execute_result"
    },
    {
     "data": {
      "image/png": "[encoded data removed]",
      "text/plain": [
       "<Figure size 432x288 with 2 Axes>"
      ]
     },
     "metadata": {
      "needs_background": "light"
     },
     "output_type": "display_data"
    }
   ],
   "source": [
    "ax = sns.heatmap(embedding.x_emb_landmarks['RANDON'].detach().cpu().numpy())\n",
    "plt.title('RANDON embedding')"
   ]
  },
  {
   "cell_type": "code",
   "execution_count": 33,
   "metadata": {
    "scrolled": false
   },
   "outputs": [
    {
     "data": {
      "text/plain": [
       "Text(0.5, 1.0, 'CAT0 embedding')"
      ]
     },
     "execution_count": 33,
     "metadata": {},
     "output_type": "execute_result"
    },
    {
     "data": {
      "image/png": "[encoded data removed]",
      "text/plain": [
       "<Figure size 432x288 with 2 Axes>"
      ]
     },
     "metadata": {
      "needs_background": "light"
     },
     "output_type": "display_data"
    }
   ],
   "source": [
    "ax = sns.heatmap(embedding.x_emb_levels['cat0'].detach().cpu().numpy())\n",
    "plt.title('CAT0 embedding')"
   ]
  },
  {
   "cell_type": "code",
   "execution_count": 34,
   "metadata": {
    "scrolled": false
   },
   "outputs": [
    {
     "data": {
      "text/plain": [
       "Text(0.5, 1.0, 'CAT1 embedding')"
      ]
     },
     "execution_count": 34,
     "metadata": {},
     "output_type": "execute_result"
    },
    {
     "data": {
      "image/png": "[encoded data removed]",
      "text/plain": [
       "<Figure size 432x288 with 2 Axes>"
      ]
     },
     "metadata": {
      "needs_background": "light"
     },
     "output_type": "display_data"
    }
   ],
   "source": [
    "ax = sns.heatmap(embedding.x_emb_levels['cat1'].detach().cpu().numpy())\n",
    "plt.title('CAT1 embedding')"
   ]
  },
  {
   "cell_type": "code",
   "execution_count": null,
   "metadata": {
    "scrolled": true
   },
   "outputs": [
    {
     "name": "stdout",
     "output_type": "stream",
     "text": [
      "epoch1\n"
     ]
    },
    {
     "name": "stderr",
     "output_type": "stream",
     "text": [
      "<ipython-input-11-8b2dc3ae2521>:26: UserWarning: input value tensor is non-contiguous, this will lower the performance due to extra data copy when converting non-contiguous tensor to contiguous, please use contiguous input value tensor if possible (Triggered internally at  /opt/conda/conda-bld/pytorch_1614378062065/work/aten/src/ATen/native/BucketizationUtils.h:20.)\n",
      "  indx = torch.searchsorted(x_landmark, x)\n"
     ]
    }
   ],
   "source": [
    "best_valid_loss = np.inf\n",
    "best_epoch = 0\n",
    "\n",
    "train_loss_hist = []\n",
    "valid_loss_hist = []\n",
    "for epoch in range(1, epochs + 1):\n",
    "\n",
    "\n",
    "    train_loss = 0\n",
    "    valid_e_loss = 0\n",
    "    valid_c_loss = 0\n",
    "\n",
    "    print('epoch'+str(epoch))\n",
    "    improved_str = \" \"\n",
    "    embedding.train()\n",
    "#     attention.train()\n",
    "    decoder.train()\n",
    "    for i, (x, y, e) in enumerate(pair1):\n",
    "        \n",
    "        x= x.to(device).float()\n",
    "        y = y.to(device).float()\n",
    "        e = e.to(device)\n",
    "        \n",
    "        x_emb = embedding(x.float())\n",
    "        z = attention(x_emb)\n",
    "        t_hat = decoder(z)\n",
    "        hinge_loss,_ = torch.min(torch.cat([t_hat-y.unsqueeze(1), torch.zeros_like(t_hat).to(device)], dim=1), 1, keepdim=True)\n",
    "        closs = ((1-e)*torch.abs(hinge_loss.squeeze())).sum()\n",
    "        eloss = (e*torch.pow((y-t_hat.squeeze()),2)).sum()\n",
    "        loss = closs + eloss\n",
    "    \n",
    "        \n",
    "#         y_loglikeli = -((p_raw*torch.tensor(y_cat)).sum(axis=1)+1e-4).log().mean()\n",
    "        \n",
    "        loss.backward()\n",
    "        \n",
    "        torch.nn.utils.clip_grad_norm_(embedding.parameters(), 1e-1)\n",
    "        torch.nn.utils.clip_grad_norm_(decoder.parameters(), 1e-1)\n",
    "\n",
    "        train_loss += loss.item()\n",
    "        \n",
    "        opt_emb.step()\n",
    "#         opt_att.step()\n",
    "        opt_dec.step()  \n",
    "        \n",
    "#     train_loss = train_loss/(i+1)     \n",
    "\n",
    "    \n",
    "    embedding.eval()\n",
    "#     attention.eval()\n",
    "    decoder.eval()\n",
    "    \n",
    "    valid_e_loss = 0\n",
    "    valid_c_loss = 0\n",
    "    for i, (x, y, e) in enumerate(v_pair1):\n",
    "        x= x.to(device).float()\n",
    "        y = y.to(device).float()\n",
    "        e = e.to(device)\n",
    "        \n",
    "        x_emb = embedding(x.float())\n",
    "        z = attention(x_emb)\n",
    "        t_hat = decoder(z)\n",
    "        hinge_loss,_ = torch.min(torch.cat([t_hat - y.unsqueeze(1), torch.zeros_like(t_hat).to(device)], dim=1), 1, keepdim=True)\n",
    "        closs = ((1-e)*torch.abs(hinge_loss.squeeze())).sum()\n",
    "        eloss = (e*torch.pow((y-t_hat.squeeze()),2)).sum()\n",
    "#         valid_loss_ = eloss.item()\n",
    "\n",
    "        valid_e_loss += eloss.item()\n",
    "        valid_c_loss += closs.item()\n",
    "\n",
    "\n",
    "\n",
    "#     valid_e_loss = valid_e_loss/(i+1)\n",
    "#     valid_c_loss = valid_c_loss/(i+1)\n",
    "    \n",
    "    train_loss_hist.append(train_loss)\n",
    "    valid_loss_hist.append(valid_e_loss)\n",
    "    \n",
    "    save_model = 0\n",
    "    if (best_valid_loss > valid_e_loss):\n",
    "        save_model += 1\n",
    "        \n",
    "    if epoch % 10 == 0:\n",
    "        subj = np.random.choice(len(e))\n",
    "        plt.figure()\n",
    "        \n",
    "        sns.scatterplot(t_hat[e==1].cpu().detach().numpy().squeeze(), y[e==1].cpu().detach().numpy().squeeze())\n",
    "        plt.plot(y[e==1].cpu().detach().numpy().squeeze(), y[e==1].cpu().detach().numpy().squeeze())\n",
    "        plt.xlabel('Predicted')\n",
    "        plt.ylabel('True Event')\n",
    "        \n",
    "        \n",
    "#         plt.axvline(y[subj],linestyle='--',color=emp_color,label='observed t_k')\n",
    "\n",
    "# #         sns.scatterplot(tt, p_raw[subj,:].detach().numpy(), label='Estimated', color=pred_color)\n",
    "#         true_T = single_patient_true_dist_cox_gompertz((x[subj,:]*std)+mean)['T']\n",
    "#         sns.distplot(true_T, rug=True, hist=False, label=\"Empirical\", color=emp_color)\n",
    "#         plt.xticks(np.arange(0, 100, step=5), np.arange(0, 100, step=5))  # Set label locations.\n",
    "#         plt.title(r'$\\delta$='+str(e[subj].item()))\n",
    "\n",
    "        plt.show()\n",
    "    if save_model >=1:\n",
    "        best_epoch = epoch\n",
    "        best_valid_loss = valid_e_loss\n",
    "        torch.save(embedding.state_dict(), emb_path)\n",
    "#         torch.save(attention.state_dict(), att_path)\n",
    "        torch.save(decoder.state_dict(), dec_path)\n",
    "\n",
    "        improved_str = \"*\"\n",
    "    print('====> Train NLL: {:.4f} \\t Valid event loss: {:.4f} \\t censoring loss : {:.4f} \\t Improved: {}'.format(train_loss, valid_e_loss,valid_c_loss,improved_str))\n",
    "\n",
    "    if epoch - best_epoch >=20:\n",
    "        print('Model stopped due to early stopping')\n",
    "        break"
   ]
  },
  {
   "cell_type": "code",
   "execution_count": null,
   "metadata": {},
   "outputs": [],
   "source": [
    "plt.plot(train_loss_hist,label=\"train losses\")\n",
    "plt.plot(valid_loss_hist,label=\"valid losses\")\n",
    "plt.legend()\n"
   ]
  },
  {
   "cell_type": "code",
   "execution_count": null,
   "metadata": {},
   "outputs": [],
   "source": [
    "embedding.load_state_dict(torch.load(emb_path))\n",
    "decoder.load_state_dict(torch.load(dec_path))\n",
    "\n",
    "for name, param in embedding.named_parameters():\n",
    "    if param.requires_grad:\n",
    "        print(name, param.data)"
   ]
  },
  {
   "cell_type": "code",
   "execution_count": null,
   "metadata": {},
   "outputs": [],
   "source": [
    "ax = sns.heatmap(embedding.x_emb_landmarks['AGE'].detach().cpu().numpy())\n",
    "plt.title('AGE embedding')"
   ]
  },
  {
   "cell_type": "code",
   "execution_count": null,
   "metadata": {},
   "outputs": [],
   "source": [
    "ax = sns.heatmap(embedding.x_emb_landmarks['RANDON'].detach().cpu().numpy())\n",
    "plt.title('RANDON embedding')"
   ]
  },
  {
   "cell_type": "code",
   "execution_count": null,
   "metadata": {
    "scrolled": true
   },
   "outputs": [],
   "source": [
    "ax = sns.heatmap(embedding.x_emb_levels['cat0'].detach().cpu().numpy())\n",
    "plt.title('CAT0 embedding')"
   ]
  },
  {
   "cell_type": "code",
   "execution_count": null,
   "metadata": {
    "scrolled": true
   },
   "outputs": [],
   "source": [
    "ax = sns.heatmap(embedding.x_emb_levels['cat1'].detach().cpu().numpy())\n",
    "plt.title('CAT1 embedding')"
   ]
  },
  {
   "cell_type": "code",
   "execution_count": null,
   "metadata": {},
   "outputs": [],
   "source": [
    "embedding.load_state_dict(torch.load(emb_path))\n",
    "decoder.load_state_dict(torch.load(dec_path))\n",
    "\n",
    "embedding.eval()\n",
    "decoder.eval()\n",
    "valid_e_loss = valid_c_loss= 0\n",
    "valid_pred_t = []\n",
    "valid_t = []\n",
    "valid_e = []\n",
    "for i, (x, y, e) in enumerate(v_pair1):\n",
    "    x= x.to(device).float()\n",
    "    y = y.to(device).float()\n",
    "    e = e.to(device)        \n",
    "    x_emb = embedding(x.float())\n",
    "    z = attention(x_emb)\n",
    "    t_hat = decoder(z)\n",
    "    hinge_loss,_ = torch.min(torch.cat([t_hat - y.unsqueeze(1), torch.zeros_like(t_hat).to(device)], dim=1), 1, keepdim=True)\n",
    "    closs = ((1-e)*torch.abs(hinge_loss.squeeze())).sum()\n",
    "    eloss = (e*torch.pow((y-t_hat.squeeze()),2)).sum()\n",
    "\n",
    "    valid_e_loss += eloss.item()\n",
    "\n",
    "    valid_c_loss += closs.item()\n",
    "    \n",
    "    valid_pred_t.append(t_hat.squeeze())\n",
    "    valid_t.append(y.squeeze())\n",
    "    valid_e.append(e.squeeze())\n",
    "\n",
    "print(valid_e_loss)\n"
   ]
  }
 ],
 "metadata": {
  "kernelspec": {
   "display_name": "myenv",
   "language": "python",
   "name": "myenv"
  },
  "language_info": {
   "codemirror_mode": {
    "name": "ipython",
    "version": 3
   },
   "file_extension": ".py",
   "mimetype": "text/x-python",
   "name": "python",
   "nbconvert_exporter": "python",
   "pygments_lexer": "ipython3",
   "version": "3.8.8"
  }
 },
 "nbformat": 4,
 "nbformat_minor": 2
}
