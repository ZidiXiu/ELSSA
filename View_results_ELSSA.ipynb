{
 "cells": [
  {
   "cell_type": "code",
   "execution_count": 1,
   "id": "c43c2923",
   "metadata": {},
   "outputs": [
    {
     "name": "stdout",
     "output_type": "stream",
     "text": [
      "PyTorch version: 1.8.1\n"
     ]
    }
   ],
   "source": [
    "from __future__ import absolute_import, division, print_function\n",
    "\n",
    "import math\n",
    "import os\n",
    "import pickle\n",
    "import numpy as np\n",
    "import pandas\n",
    "\n",
    "import scipy\n",
    "\n",
    "import seaborn as sns\n",
    "\n",
    "from time import time,sleep\n",
    "\n",
    "import matplotlib.pyplot as plt\n",
    "\n",
    "import torch\n",
    "import torch.nn as nn\n",
    "from torch import optim\n",
    "\n",
    "import torch.nn.functional as F\n",
    "from torch.utils.data import Dataset, DataLoader, Sampler\n",
    "\n",
    "\n",
    "from pathlib import Path\n",
    "\n",
    "import warnings\n",
    "warnings.filterwarnings('ignore')\n",
    "\n",
    "mypal = sns.color_palette('Set2')\n",
    "emp_color = mypal[0]\n",
    "pred_color = mypal[1]\n",
    "print (\"PyTorch version: \" + torch.__version__)\n",
    "\n",
    "\n",
    "\n",
    "# In[2]:\n",
    "\n",
    "\n",
    "from data.utils import SimpleDataset\n",
    "\n",
    "from utils.metrics import NLL_reg, point_loss, get_CI_raw, pair_Ctd_DLN\n",
    "from utils.trainer_helpers import batch_t_categorize, wt_avg, attention_mask\n",
    "\n",
    "\n",
    "# In[ ]:\n",
    "\n",
    "\n",
    "\n",
    "from data.dialysisData_mask import generate_data\n",
    "from data.utils import SimpleDataset, SimpleDataset_masked\n"
   ]
  },
  {
   "cell_type": "code",
   "execution_count": 2,
   "id": "d17d6e17",
   "metadata": {},
   "outputs": [],
   "source": [
    "# load networks\n",
    "\n",
    "import torch\n",
    "from torch import nn, optim\n",
    "\n",
    "import numpy as np\n",
    "\n",
    "# Type hinting\n",
    "from typing import Union, List, Optional, Any, Tuple\n",
    "from torch import FloatTensor, LongTensor\n",
    "\n",
    "\n",
    "\n",
    "# load embedding and attention networks\n",
    "from model.embedding import Embedding\n",
    "from model.attention import Attention, SelfAttention\n",
    "from model.SimpleNN import DecMLP_bin, SimpleMLP\n",
    "from model.ContrastiveLearning import FDV_CL\n"
   ]
  },
  {
   "cell_type": "code",
   "execution_count": 8,
   "id": "af05c05f",
   "metadata": {},
   "outputs": [],
   "source": [
    "import pickle\n",
    "\n",
    "\n",
    "file_path='/storage/zx35-dgim1/User_Projects/Pro00105834_Goldstein/AnalyticData'\n",
    "result_path_root = '/storage/zx35-dgim1/User_Projects/Pro00105834_Goldstein/Zidi/time2event/results/'\n",
    "model_name = 'ELSSA'\n",
    "\n",
    "re_eval = False\n",
    "args = pickle.load(open( result_path_root+model_name+\"/ELSSA_Dialysis_0_all_percentile_nbin_100_emb_32_enc_32_32_dec_32_32_ctWt_1_ptWt_0_args.pkl\", \"rb\" ))\n",
    "device_name = 1\n",
    "device = torch.device('cuda' if torch.cuda.is_available() else 'cpu')\n",
    "\n",
    "all_device = set(np.arange(torch.cuda.device_count()))\n",
    "all_device.remove(device_name)\n",
    "device_ids = [device_name]+list(all_device)\n",
    "torch.cuda.set_device(device_name)\n",
    "\n",
    "result_path = args.result_path_root+'/'+args.model_name+'/'\n",
    "\n",
    "# args.store_name = \n"
   ]
  },
  {
   "cell_type": "code",
   "execution_count": 3,
   "id": "0ca87aee",
   "metadata": {},
   "outputs": [
    {
     "name": "stdout",
     "output_type": "stream",
     "text": [
      "path:/storage/zx35-dgim1/User_Projects/Pro00105834_Goldstein/AnalyticData/03252021DCI/Interpolated/\n",
      "head of data:   Month  Encounters  prescribed_weight_Min  pre_weight_Min  post_weight_Min  \\\n",
      "0      6        13.0                   56.5            56.9             56.3   \n",
      "1      7        14.0                   56.5            59.8             57.5   \n",
      "2      8        13.0                   59.5            61.7             59.2   \n",
      "3      9        13.0                   59.5            60.2             59.0   \n",
      "4     10        13.0                   59.5            62.3             60.3   \n",
      "\n",
      "   interdial_weight_gain_Min  intradialytic_weight_loss_Min  \\\n",
      "0                        0.0                            0.1   \n",
      "1                        0.9                            0.4   \n",
      "2                        1.6                            1.7   \n",
      "3                       -0.1                            0.5   \n",
      "4                        0.0                            0.8   \n",
      "\n",
      "   pre_bp_sitting_diast_Min  pre_bp_sitting_syst_Min  \\\n",
      "0                      82.0                    142.0   \n",
      "1                      63.0                    119.0   \n",
      "2                      61.0                    136.0   \n",
      "3                      63.0                    121.0   \n",
      "4                      63.0                    126.0   \n",
      "\n",
      "   post_bp_sitting_diast_Min  ...  Cancer  AlcoholDependence  DrugDependence  \\\n",
      "0                       80.0  ...      No                 No              No   \n",
      "1                       59.0  ...      No                 No              No   \n",
      "2                       58.0  ...      No                 No              No   \n",
      "3                       55.0  ...      No                 No              No   \n",
      "4                       57.0  ...      No                 No              No   \n",
      "\n",
      "   Inavailable_ambulate  Inavailable_transfer  HeartDisease  Diabetes  PVD  \\\n",
      "0                    No                    No            No        No   No   \n",
      "1                    No                    No            No        No   No   \n",
      "2                    No                    No            No        No   No   \n",
      "3                    No                    No            No        No   No   \n",
      "4                    No                    No            No        No   No   \n",
      "\n",
      "   Medicare  EGHP  \n",
      "0         1     0  \n",
      "1         1     0  \n",
      "2         1     0  \n",
      "3         1     0  \n",
      "4         1     0  \n",
      "\n",
      "[5 rows x 85 columns], data shape:(1177603, 85)\n",
      "all_columns:['Month', 'Encounters', 'prescribed_weight_Min', 'pre_weight_Min', 'post_weight_Min', 'interdial_weight_gain_Min', 'intradialytic_weight_loss_Min', 'pre_bp_sitting_diast_Min', 'pre_bp_sitting_syst_Min', 'post_bp_sitting_diast_Min', 'post_bp_sitting_syst_Min', 'prescribed_weight_Mean', 'pre_weight_Mean', 'post_weight_Mean', 'interdial_weight_gain_Mean', 'intradialytic_weight_loss_Mean', 'pre_bp_sitting_diast_Mean', 'pre_bp_sitting_syst_Mean', 'post_bp_sitting_diast_Mean', 'post_bp_sitting_syst_Mean', 'prescribed_weight_Max', 'pre_weight_Max', 'post_weight_Max', 'interdial_weight_gain_Max', 'intradialytic_weight_loss_Max', 'pre_bp_sitting_diast_Max', 'pre_bp_sitting_syst_Max', 'post_bp_sitting_diast_Max', 'post_bp_sitting_syst_Max', 'prescribed_weight_StdDev', 'pre_weight_StdDev', 'post_weight_StdDev', 'interdial_weight_gain_StdDev', 'intradialytic_weight_lo_StdDev', 'pre_bp_sitting_diast_StdDev', 'pre_bp_sitting_syst_StdDev', 'post_bp_sitting_diast_StdDev', 'post_bp_sitting_syst_StdDev', 'access', 'Age', 'Time_since_firstSE', 'SERUM_UREA_NITROGENPRE_Mean', 'SERUM_UREA_NITROGENPOST_Mean', 'SERUM_FERRITIN_Mean', 'CREATININE_Mean', 'SERUM_SODIUM_Mean', 'SERUM_POTASSIUM_Mean', 'SERUM_CHLORIDE_Mean', 'SERUM_CO2_CONTENT_Mean', 'SERUM_CALCIUM_Mean', 'SERUM_PHOSPHORUS_Mean', 'SERUM_ALK_PHOSPHATASE_Mean', 'SERUM_GLUCOSE_Mean', 'ALT__SGPT___SERUM_Mean', 'SERUM_TOTAL_PROTEIN_Mean', 'SERUM_ALBUMIN__BCG__Mean', 'TRANSFERRIN_Mean', 'HEMOGLOBIN_Mean', 'HEMATOCRIT_Mean', 'WHITE_BLOOD_CELLS_Mean', 'PLATELET_COUNT_Mean', 'SERUM_IRON_Mean', 'MCV_Mean', 'MCHC_Mean', 'PERCENT_SATURATION_Mean', 'SERUM_TIBC_Mean', 'Sex', 'Race', 'Ethinicity', 'waitlisted', 'EPO', 'CVA_TIA', 'HypertensionHistory', 'COPD', 'CurrentSmoker', 'Cancer', 'AlcoholDependence', 'DrugDependence', 'Inavailable_ambulate', 'Inavailable_transfer', 'HeartDisease', 'Diabetes', 'PVD', 'Medicare', 'EGHP']\n",
      "train columns:['Month', 'Encounters', 'prescribed_weight_Min', 'pre_weight_Min', 'post_weight_Min', 'interdial_weight_gain_Min', 'intradialytic_weight_loss_Min', 'pre_bp_sitting_diast_Min', 'pre_bp_sitting_syst_Min', 'post_bp_sitting_diast_Min', 'post_bp_sitting_syst_Min', 'prescribed_weight_Mean', 'pre_weight_Mean', 'post_weight_Mean', 'interdial_weight_gain_Mean', 'intradialytic_weight_loss_Mean', 'pre_bp_sitting_diast_Mean', 'pre_bp_sitting_syst_Mean', 'post_bp_sitting_diast_Mean', 'post_bp_sitting_syst_Mean', 'prescribed_weight_Max', 'pre_weight_Max', 'post_weight_Max', 'interdial_weight_gain_Max', 'intradialytic_weight_loss_Max', 'pre_bp_sitting_diast_Max', 'pre_bp_sitting_syst_Max', 'post_bp_sitting_diast_Max', 'post_bp_sitting_syst_Max', 'prescribed_weight_StdDev', 'pre_weight_StdDev', 'post_weight_StdDev', 'interdial_weight_gain_StdDev', 'intradialytic_weight_lo_StdDev', 'pre_bp_sitting_diast_StdDev', 'pre_bp_sitting_syst_StdDev', 'post_bp_sitting_diast_StdDev', 'post_bp_sitting_syst_StdDev', 'access', 'Age', 'Time_since_firstSE', 'SERUM_UREA_NITROGENPRE_Mean', 'SERUM_UREA_NITROGENPOST_Mean', 'SERUM_FERRITIN_Mean', 'CREATININE_Mean', 'SERUM_SODIUM_Mean', 'SERUM_POTASSIUM_Mean', 'SERUM_CHLORIDE_Mean', 'SERUM_CO2_CONTENT_Mean', 'SERUM_CALCIUM_Mean', 'SERUM_PHOSPHORUS_Mean', 'SERUM_ALK_PHOSPHATASE_Mean', 'SERUM_GLUCOSE_Mean', 'ALT__SGPT___SERUM_Mean', 'SERUM_TOTAL_PROTEIN_Mean', 'SERUM_ALBUMIN__BCG__Mean', 'TRANSFERRIN_Mean', 'HEMOGLOBIN_Mean', 'HEMATOCRIT_Mean', 'WHITE_BLOOD_CELLS_Mean', 'PLATELET_COUNT_Mean', 'SERUM_IRON_Mean', 'MCV_Mean', 'MCHC_Mean', 'PERCENT_SATURATION_Mean', 'SERUM_TIBC_Mean', 'Sex', 'Race', 'Ethinicity', 'waitlisted', 'EPO', 'CVA_TIA', 'HypertensionHistory', 'COPD', 'CurrentSmoker', 'Cancer', 'AlcoholDependence', 'DrugDependence', 'Inavailable_ambulate', 'Inavailable_transfer', 'HeartDisease', 'Diabetes', 'PVD', 'Medicare', 'EGHP']\n",
      "x:[5.00000000e+00 1.30000000e+01 5.65000000e+01 5.69000000e+01\n",
      " 5.63000000e+01 0.00000000e+00 1.00000000e-01 8.20000000e+01\n",
      " 1.42000000e+02 8.00000000e+01 1.54000000e+02 5.65000000e+01\n",
      " 5.89846154e+01 5.72230769e+01 1.86153846e+00 1.76153846e+00\n",
      " 9.82307692e+01 1.64846154e+02 1.04076923e+02 1.82461538e+02\n",
      " 5.65000000e+01 6.14000000e+01 5.88000000e+01 4.10000000e+00\n",
      " 3.50000000e+00 1.21000000e+02 1.94000000e+02 1.19000000e+02\n",
      " 2.32000000e+02 0.00000000e+00 1.53397422e+00 7.59554525e-01\n",
      " 1.47791433e+00 1.11843526e+00 1.12483617e+01 1.39334499e+01\n",
      " 1.22301645e+01 2.17624117e+01 0.00000000e+00 2.30000000e+01\n",
      " 0.00000000e+00 7.80000000e+01 1.90000000e+01 4.50000000e+02\n",
      " 1.36000000e+01 1.45000000e+02 5.50000000e+00 1.00000000e+02\n",
      " 1.90000000e+01 7.70000000e+00 1.26000000e+01 8.50000000e+01\n",
      " 1.02000000e+02 8.00000000e+00 6.90000000e+00 4.30000000e+00\n",
      " 1.82000000e+02 1.28000000e+01 3.93000000e+01 8.79000000e+00\n",
      " 9.90000000e+01 4.70000000e+01 8.40000000e+01 3.26000000e+01\n",
      " 1.80000000e+01 2.60000000e+02 1.00000000e+00 5.00000000e+00\n",
      " 2.00000000e+00 0.00000000e+00 3.00000000e+00 1.00000000e+00\n",
      " 2.00000000e+00 1.00000000e+00 1.00000000e+00 1.00000000e+00\n",
      " 1.00000000e+00 1.00000000e+00 1.00000000e+00 1.00000000e+00\n",
      " 1.00000000e+00 1.00000000e+00 1.00000000e+00 1.00000000e+00\n",
      " 0.00000000e+00], t:3500, e:0, len:1177603\n",
      "x_shape:(1177603, 85)\n",
      "x_shape:(1177603, 85)\n",
      "observed fold:0.6677474528789713\n",
      "observed fold:0.6668861358200532\n",
      "observed death percent:0.6675297192687178\n"
     ]
    },
    {
     "data": {
      "text/plain": [
       "(5843.0, 5843.0, 0.0)"
      ]
     },
     "execution_count": 3,
     "metadata": {},
     "output_type": "execute_result"
    }
   ],
   "source": [
    "if re_eval:\n",
    "    train, valid, variable_info = generate_data(args.s)\n",
    "    train_size = train['x'].shape[0]\n",
    "    val_size = valid['x'].shape[0]\n",
    "\n",
    "\n",
    "    cov_list, cts_var, cts_idx, cat_var, cat_idx = variable_info['cov_list'], variable_info['cts_var'], variable_info['cts_idx'], variable_info['cat_var'], variable_info['cat_idx']\n",
    "\n",
    "    x_landmarks, x_levels = variable_info['x_landmarks'], variable_info['x_levels']\n",
    "\n",
    "\n",
    "    if args.event_based == 'True':\n",
    "        train_time = train['t'][train['e']==1]\n",
    "    else:\n",
    "        train_time = train['t']\n",
    "\n",
    "    if args.percentile == 'True':\n",
    "        '''based on each covariate percentile'''\n",
    "        t_landmarks = torch.tensor(np.percentile(train_time, np.linspace(0,100,args.s))).contiguous()\n",
    "        tt = np.percentile(train_time,np.linspace(0.,100.,args.nbin, endpoint=True))\n",
    "\n",
    "    else:\n",
    "        '''based on the each covariate range'''\n",
    "        t_landmarks = torch.tensor(np.linspace(np.min(train_time),np.max(train_time),args.s, endpoint=True)).contiguous()\n",
    "        tt = np.linspace(np.min(train_time),np.max(train_time),args.nbin, endpoint=True)\n",
    "\n",
    "\n",
    "\n",
    "    # based on whether we have censoring after the largest observed t\n",
    "    loss_of_info = np.mean(train['t']>np.max(train['t'][train['e']==1]))\n",
    "\n",
    "    # need to convert t to different size of bins\n",
    "    if loss_of_info > 0.0001:\n",
    "        nbin = nbin + 1\n",
    "        # add the largest observed censoring time inside\n",
    "        tt = np.append(tt,np.max(train['t']))\n",
    "    #     event_tt_prob = risk_t_bin_prob(train['t'], train['e'], tt)\n",
    "\n",
    "    ncov = train['x'].shape[1]\n",
    "    covList = np.arange(ncov)\n",
    "\n",
    "    del train\n",
    "\n",
    "    validData = SimpleDataset_masked(valid['x'], valid['t'], valid['e'], valid['missing_mask'])\n",
    "    v_pair1 = DataLoader(validData, batch_size=args.batch_size,shuffle=True, num_workers = args.num_workers)\n",
    "\n",
    "    # testData = SimpleDataset_masked(test['x'], test['t'], test['e'], test['missing_mask'])\n",
    "    # t_pair1 = DataLoader(testData, batch_size=1000,shuffle=True)\n",
    "\n",
    "    zdim = args.s\n",
    "    epochs = 1000\n",
    "\n",
    "    # bined time\n",
    "    tt = torch.tensor(tt).to(device)\n",
    "\n",
    "    result_path = args.result_path_root+'/'+args.model_name+'/'\n",
    "    plot_path = result_path + 'plot'\n",
    "    model_path = result_path +'saved_models/'\n",
    "\n",
    "    Path(result_path).mkdir(parents=True, exist_ok=True)\n",
    "    Path(model_path).mkdir(parents=True, exist_ok=True)\n",
    "    Path(plot_path).mkdir(parents=True, exist_ok=True)\n",
    "\n",
    "    pickle.dump( args, open( args.result_path_root+\"/\"+args.model_name+\"/\"+args.store_name+\"_args.pkl\", \"wb\" ) )\n",
    "\n",
    "\n",
    "    '''covariate embedding'''\n",
    "    embedding = Embedding(ncov, cts_var, cts_idx, cat_var, cat_idx, x_landmarks, x_levels, m=args.s)\n",
    "\n",
    "    '''attention network'''\n",
    "    # attention = LinearAtt(ncov=ncov, dropout=0.1)\n",
    "    attention = SelfAttention(dropout=0.1)\n",
    "\n",
    "    '''contrastive learning'''\n",
    "    # input is a batch of embedded x\n",
    "    clf = FDV_CL(m = args.s, ncov = ncov, t_landmarks = t_landmarks, h_dim=args.enc_dim)\n",
    "\n",
    "    '''decoding the embedded vectors'''\n",
    "    decoder = DecMLP_bin(input_size = zdim, output_size = args.nbin, h_dim=args.dec_dim)\n",
    "\n",
    "\n",
    "    emb_path = model_path+args.store_name+'_emb'+'.pt'\n",
    "    dec_path = model_path+args.store_name+'_dec'+'.pt'\n",
    "    att_path = model_path+args.store_name+'_att'+'.pt'\n",
    "    clf_path = model_path+args.store_name+'_clf'+'.pt'\n",
    "    \n",
    "    \n",
    "    print(embedding, attention, decoder)\n",
    "\n",
    "    del valid, validData\n",
    "\n",
    "    '''load trained model'''\n",
    "\n",
    "    embedding.load_state_dict(torch.load(emb_path))\n",
    "    clf.load_state_dict(torch.load(clf_path))\n",
    "    decoder.load_state_dict(torch.load(dec_path))\n",
    "    attention.load_state_dict(torch.load(att_path))\n",
    "\n",
    "    '''Multiple GPU'''\n",
    "\n",
    "    embedding.to(device)\n",
    "    clf.to(device)\n",
    "    attention.to(device)\n",
    "    decoder.to(device)\n",
    "\n",
    "    decoder = nn.DataParallel(decoder, device_ids=device_ids)\n",
    "    clf = nn.DataParallel(clf, device_ids=device_ids)\n",
    "    attention = nn.DataParallel(attention, device_ids=device_ids)\n",
    "\n"
   ]
  },
  {
   "cell_type": "code",
   "execution_count": 7,
   "id": "b50423ad",
   "metadata": {},
   "outputs": [
    {
     "name": "stdout",
     "output_type": "stream",
     "text": [
      "   iteration 0\n",
      "   iteration 1000\n",
      "   iteration 2000\n"
     ]
    }
   ],
   "source": [
    "if re_eval:\n",
    "    embedding.eval()\n",
    "    decoder.eval()\n",
    "    attention.eval()\n",
    "    clf.eval()\n",
    "\n",
    "    test_e_loss = test_c_loss= 0\n",
    "    test_pred_t = []\n",
    "    test_pred_raw = []\n",
    "    test_t = []\n",
    "    test_e = []\n",
    "    test_NLL = []\n",
    "    # test_x = []\n",
    "    for i, (x, y, e, mask) in enumerate(v_pair1):\n",
    "\n",
    "        if i%1000==0:\n",
    "            print('   iteration '+str(i))\n",
    "        x= x.to(device).float()\n",
    "        y = y.to(device).float()\n",
    "        e = e.to(device)\n",
    "        mask = mask\n",
    "\n",
    "        x_emb, var_list = embedding(x.float())\n",
    "        del x\n",
    "\n",
    "        # re-indexing mask\n",
    "        reindex = torch.tensor([np.where(cov_list==var)[0][0] for var in var_list])\n",
    "        mask_new = torch.index_select(mask, 1, reindex)\n",
    "        del mask\n",
    "        mask_attn = attention_mask(mask_new, ncov, p=0)\n",
    "        del mask_new\n",
    "        z, attn_score = attention(x_emb, mask = mask_attn)\n",
    "        del mask_attn\n",
    "\n",
    "        p_raw = decoder(clf.module.enc(z))\n",
    "\n",
    "        loss_NLL = NLL_reg(p_raw, y, e, tt, collapsed=False)\n",
    "\n",
    "        # weighted average\n",
    "        t_wa_hat = wt_avg(p_raw, tt)\n",
    "\n",
    "    #     test_x.append(x)\n",
    "        test_pred_raw.append(p_raw.detach().cpu())\n",
    "        test_pred_t.append(t_wa_hat.squeeze().detach().cpu())\n",
    "        test_t.append(y.squeeze().detach().cpu())\n",
    "        test_e.append(e.squeeze().detach().cpu())\n",
    "        test_NLL.append(loss_NLL.detach().cpu().squeeze())\n",
    "        \n",
    "        del loss_NLL, p_raw, t_wa_hat, z, x_emb\n",
    "\n",
    "\n",
    "\n",
    "    test_pred_raw = torch.cat(test_pred_raw)\n",
    "    test_e = torch.cat(test_e)\n",
    "    test_t = torch.cat(test_t)\n",
    "    test_pred_t = torch.cat(test_pred_t)\n",
    "    test_NLL = torch.cat(test_NLL)\n",
    "\n",
    "    import pickle\n",
    "\n",
    "    val_result = { \"t\": test_t, \"e\": test_e, \"pred_raw\": test_pred_raw, 'pred_t': test_pred_t, 'NLL': test_NLL ,'tt': tt.cpu()}\n",
    "    pickle.dump( val_result, open( result_path+args.store_name+\"_valid_result.pkl\", \"wb\" ) )\n",
    "\n"
   ]
  },
  {
   "cell_type": "code",
   "execution_count": 25,
   "id": "eb88477e",
   "metadata": {},
   "outputs": [],
   "source": [
    "if re_eval:\n",
    "\n",
    "    plt.figure()\n",
    "    attn_score_avg = attn_score.mean(axis=0)\n",
    "    ax = sns.heatmap(attn_score_avg.detach().cpu().numpy())\n",
    "    plt.xticks_l = list(cov_list)\n",
    "    plt.title('Attention Score')\n",
    "    plt.savefig(plot_path+'/'+model_name+'_attention_wt'+'.png')\n"
   ]
  },
  {
   "cell_type": "code",
   "execution_count": 16,
   "id": "97fdf3d2",
   "metadata": {},
   "outputs": [],
   "source": [
    "if not re_eval:\n",
    "    val_result = pickle.load(open( result_path+args.store_name+\"_valid_result.pkl\", \"rb\" ))\n",
    "    test_t, test_e, test_pred_raw, test_pred_t, test_NLL, tt = val_result['t'], val_result['e'], val_result['pred_raw'], val_result['pred_t'], val_result['NLL'], val_result['tt']\n"
   ]
  },
  {
   "cell_type": "code",
   "execution_count": 17,
   "id": "b6a684d9",
   "metadata": {},
   "outputs": [
    {
     "data": {
      "text/plain": [
       "{'NLL': [3.3194959386183274,\n",
       "  3.2606027540775258,\n",
       "  3.246816996624491,\n",
       "  3.2391487945332766,\n",
       "  3.2325713016924484,\n",
       "  3.2279734833798424,\n",
       "  3.223985827090332,\n",
       "  3.2205854850540097,\n",
       "  3.2170131418354275,\n",
       "  3.2141953006098274,\n",
       "  3.2119240405617346,\n",
       "  3.209495624922811,\n",
       "  3.2077955477726086,\n",
       "  3.2043264881474203],\n",
       " 'ctra': [-0.0013403984979386498,\n",
       "  -0.001799429156365893,\n",
       "  -0.0019099628751238248,\n",
       "  -0.00197041758166615,\n",
       "  -0.0020089567544866282,\n",
       "  -0.0020608098529544725,\n",
       "  -0.002109140888161987,\n",
       "  -0.002172767502581716,\n",
       "  -0.0022205909263203817,\n",
       "  -0.0022712927958969406,\n",
       "  -0.0023139516346761466,\n",
       "  -0.002357368860854071,\n",
       "  -0.0024003512770704493,\n",
       "  -0.0024268538496507036],\n",
       " 'est': [8191.139981150103,\n",
       "  7489.877718020682,\n",
       "  7373.756827545601,\n",
       "  7318.990349584797,\n",
       "  7273.992728178067,\n",
       "  7247.966735145543,\n",
       "  7231.561150182708,\n",
       "  7187.649249140714,\n",
       "  7162.748913834606,\n",
       "  7131.5788462905775,\n",
       "  7109.30425951031,\n",
       "  7086.735759672851,\n",
       "  7071.036724638064,\n",
       "  7019.98528605902]}"
      ]
     },
     "execution_count": 17,
     "metadata": {},
     "output_type": "execute_result"
    }
   ],
   "source": [
    "pickle.load(open( result_path+args.store_name+\"_train_hist.pkl\", \"rb\" ))"
   ]
  },
  {
   "cell_type": "code",
   "execution_count": 18,
   "id": "214af4bf",
   "metadata": {},
   "outputs": [
    {
     "data": {
      "text/plain": [
       "tensor(3.2196)"
      ]
     },
     "execution_count": 18,
     "metadata": {},
     "output_type": "execute_result"
    },
    {
     "data": {
      "text/plain": [
       "<Figure size 432x288 with 0 Axes>"
      ]
     },
     "metadata": {},
     "output_type": "display_data"
    },
    {
     "data": {
      "image/png": "[encoded data removed]",
      "text/plain": [
       "<Figure size 360x360 with 1 Axes>"
      ]
     },
     "metadata": {
      "needs_background": "light"
     },
     "output_type": "display_data"
    }
   ],
   "source": [
    "del val_result\n",
    "\n",
    "plot_path = result_path + 'plot'\n",
    "\n",
    "plt.figure()\n",
    "sns.displot(test_NLL.numpy()[test_e==1])\n",
    "\n",
    "plt.savefig(plot_path+'/'+args.store_name+'_e_likelihood'+'.png')\n",
    "test_NLL.mean()\n"
   ]
  },
  {
   "cell_type": "code",
   "execution_count": 19,
   "id": "431a86fe",
   "metadata": {},
   "outputs": [
    {
     "data": {
      "text/plain": [
       "tensor(3.2196)"
      ]
     },
     "execution_count": 19,
     "metadata": {},
     "output_type": "execute_result"
    },
    {
     "data": {
      "text/plain": [
       "<Figure size 432x288 with 0 Axes>"
      ]
     },
     "metadata": {},
     "output_type": "display_data"
    },
    {
     "data": {
      "image/png": "[encoded data removed]",
      "text/plain": [
       "<Figure size 360x360 with 1 Axes>"
      ]
     },
     "metadata": {
      "needs_background": "light"
     },
     "output_type": "display_data"
    }
   ],
   "source": [
    "plot_path = result_path + 'plot'\n",
    "\n",
    "plt.figure()\n",
    "sns.displot(test_NLL.numpy()[test_e==0])\n",
    "\n",
    "plt.savefig(plot_path+'/'+args.store_name+'_c_likelihood'+'.png')\n",
    "test_NLL.mean()"
   ]
  },
  {
   "cell_type": "code",
   "execution_count": 20,
   "id": "e4c91d9d",
   "metadata": {
    "scrolled": false
   },
   "outputs": [
    {
     "data": {
      "text/plain": [
       "0.71448"
      ]
     },
     "execution_count": 20,
     "metadata": {},
     "output_type": "execute_result"
    }
   ],
   "source": [
    "\n",
    "ACSurv_Ctd = [pair_Ctd_DLN(test_t.to('cpu'), test_e.to('cpu'), test_pred_raw.to('cpu'), tt.to('cpu')) for k in np.arange(50000)]\n",
    "np.mean(ACSurv_Ctd)\n"
   ]
  },
  {
   "cell_type": "code",
   "execution_count": 21,
   "id": "c489bbab",
   "metadata": {},
   "outputs": [],
   "source": [
    "np.random.seed(123)\n",
    "select_idx = np.random.choice(torch.where(test_e==1)[0], 500)"
   ]
  },
  {
   "cell_type": "code",
   "execution_count": 22,
   "id": "e07d1928",
   "metadata": {},
   "outputs": [
    {
     "ename": "NameError",
     "evalue": "name 'test_CI' is not defined",
     "output_type": "error",
     "traceback": [
      "\u001b[0;31m---------------------------------------------------------------------------\u001b[0m",
      "\u001b[0;31mNameError\u001b[0m                                 Traceback (most recent call last)",
      "\u001b[0;32m<ipython-input-22-bc2a962158fa>\u001b[0m in \u001b[0;36m<module>\u001b[0;34m\u001b[0m\n\u001b[1;32m      8\u001b[0m \u001b[0;31m# test_CI = get_CI_raw(test_e, test_t, test_pred_t)[0]\u001b[0m\u001b[0;34m\u001b[0m\u001b[0;34m\u001b[0m\u001b[0;34m\u001b[0m\u001b[0m\n\u001b[1;32m      9\u001b[0m \u001b[0;34m\u001b[0m\u001b[0m\n\u001b[0;32m---> 10\u001b[0;31m \u001b[0mplt\u001b[0m\u001b[0;34m.\u001b[0m\u001b[0mtitle\u001b[0m\u001b[0;34m(\u001b[0m\u001b[0mmodel_name\u001b[0m\u001b[0;34m+\u001b[0m\u001b[0;34m' with CI '\u001b[0m\u001b[0;34m+\u001b[0m\u001b[0mstr\u001b[0m\u001b[0;34m(\u001b[0m\u001b[0mround\u001b[0m\u001b[0;34m(\u001b[0m\u001b[0mtest_CI\u001b[0m\u001b[0;34m,\u001b[0m\u001b[0;36m3\u001b[0m\u001b[0;34m)\u001b[0m\u001b[0;34m)\u001b[0m\u001b[0;34m)\u001b[0m\u001b[0;34m\u001b[0m\u001b[0;34m\u001b[0m\u001b[0m\n\u001b[0m\u001b[1;32m     11\u001b[0m \u001b[0mplt\u001b[0m\u001b[0;34m.\u001b[0m\u001b[0mxlim\u001b[0m\u001b[0;34m(\u001b[0m\u001b[0mtt\u001b[0m\u001b[0;34m[\u001b[0m\u001b[0;36m0\u001b[0m\u001b[0;34m]\u001b[0m\u001b[0;34m,\u001b[0m\u001b[0mtt\u001b[0m\u001b[0;34m[\u001b[0m\u001b[0;36m50\u001b[0m\u001b[0;34m]\u001b[0m\u001b[0;34m)\u001b[0m\u001b[0;34m\u001b[0m\u001b[0;34m\u001b[0m\u001b[0m\n\u001b[1;32m     12\u001b[0m \u001b[0mplt\u001b[0m\u001b[0;34m.\u001b[0m\u001b[0mylim\u001b[0m\u001b[0;34m(\u001b[0m\u001b[0mtt\u001b[0m\u001b[0;34m[\u001b[0m\u001b[0;36m0\u001b[0m\u001b[0;34m]\u001b[0m\u001b[0;34m,\u001b[0m\u001b[0mtt\u001b[0m\u001b[0;34m[\u001b[0m\u001b[0;36m50\u001b[0m\u001b[0;34m]\u001b[0m\u001b[0;34m)\u001b[0m\u001b[0;34m\u001b[0m\u001b[0;34m\u001b[0m\u001b[0m\n",
      "\u001b[0;31mNameError\u001b[0m: name 'test_CI' is not defined"
     ]
    },
    {
     "data": {
      "image/png": "[encoded data removed]",
      "text/plain": [
       "<Figure size 432x288 with 1 Axes>"
      ]
     },
     "metadata": {
      "needs_background": "light"
     },
     "output_type": "display_data"
    }
   ],
   "source": [
    "plt.figure()\n",
    "\n",
    "sns.scatterplot(test_pred_t[select_idx].cpu().detach().numpy().squeeze(), test_t[select_idx].cpu())\n",
    "plt.plot(test_t[select_idx].cpu(), test_t[select_idx].cpu())\n",
    "plt.xlabel('Predicted')\n",
    "plt.ylabel('True Event')\n",
    "\n",
    "test_CI = get_CI_raw(test_e, test_t, test_pred_t)[0]\n",
    "\n",
    "plt.title(model_name+' with CI '+str(round(test_CI,3)))\n",
    "plt.xlim(tt[0],tt[50])\n",
    "plt.ylim(tt[0],tt[50])\n",
    "\n",
    "# plt.savefig(plot_path+'/'+args.store_name+'_prediction'+'.png')\n",
    "test_CI"
   ]
  },
  {
   "cell_type": "code",
   "execution_count": null,
   "id": "cb0c24a2",
   "metadata": {
    "scrolled": true
   },
   "outputs": [],
   "source": [
    "subj = 101\n",
    "\n",
    "t_hat, p_raw, true_t, event_type = test_pred_t[subj].squeeze().detach().cpu().item(), test_pred_raw[subj].detach().cpu().numpy(), test_t[subj].detach().cpu().item(), test_e[subj].detach().cpu().item()\n",
    "plt.axvline(true_t,linestyle='--',color=emp_color,label='observed t_k')\n",
    "plt.axvline(t_hat,linestyle='--',color=pred_color,label='predicted t_k')\n",
    "\n",
    "sns.scatterplot(tt.cpu().detach().numpy(), p_raw, label='Estimated', color=pred_color)\n",
    "\n",
    "# plt.xticks(tt.cpu()[list(range(0,args.nbin,20))+[-1]])  # Set label locations.\n",
    "plt.xticks(np.linspace(tt[0],tt[-1],10, endpoint=True))  # Set label locations.\n",
    "\n",
    "plt.title(r'$\\delta$='+str(event_type))\n",
    "# plt.savefig(plot_path+'/'+args.store_name+'_subj'+str(subj)+'.pdf')\n"
   ]
  },
  {
   "cell_type": "code",
   "execution_count": 23,
   "id": "e318cd85",
   "metadata": {},
   "outputs": [],
   "source": [
    "from utils.trainer_helpers import calculate_quantiles, get_median\n",
    "\n",
    "test_pred_median = get_median(test_pred_raw, tt, 0.5)\n",
    "test_med_CI = get_CI_raw(test_e, test_t, test_pred_median)[0]"
   ]
  },
  {
   "cell_type": "code",
   "execution_count": null,
   "id": "3a699b02",
   "metadata": {
    "scrolled": true
   },
   "outputs": [],
   "source": [
    "\n",
    "plt.figure()\n",
    "\n",
    "sns.scatterplot(test_pred_t[select_idx].cpu().detach().numpy().squeeze(), test_t[select_idx].cpu())\n",
    "plt.plot(test_t[select_idx].cpu(), test_t[select_idx].cpu())\n",
    "plt.xlabel('Predicted')\n",
    "plt.ylabel('True Event')\n",
    "\n",
    "# test_CI = get_CI_raw(test_e, test_t, test_pred_t)[0]\n",
    "\n",
    "plt.title(model_name+' with median CI '+str(round(test_med_CI,3)))\n",
    "\n",
    "plt.savefig(plot_path+'/'+args.store_name+'_med_prediction'+'.png')\n",
    "test_med_CI"
   ]
  },
  {
   "cell_type": "code",
   "execution_count": null,
   "id": "0499d33d",
   "metadata": {},
   "outputs": [],
   "source": [
    "def point_loss(t_hat, y, e, loss_type='MSE', return_sum = True):\n",
    "    # point estimation loss based on the predicted raw probabilities\n",
    "    hinge_loss,_ = torch.min(torch.cat([t_hat.unsqueeze(1)-y.unsqueeze(1), torch.zeros_like(t_hat.unsqueeze(1)).to(y.device)], dim=1), 1, keepdim=True)\n",
    "    \n",
    "    \n",
    "    if loss_type == 'MSE':\n",
    "        eloss = (e*torch.pow((y-t_hat.squeeze()),2)).sum()\n",
    "        closs = ((1-e)*torch.pow(hinge_loss.squeeze(),2)).sum()\n",
    "    elif loss_type == 'MAE':\n",
    "        eloss = (e*torch.abs(y-t_hat.squeeze())).sum()\n",
    "        closs = ((1-e)*torch.abs(hinge_loss.squeeze())).sum()\n",
    "    elif loss_type == 'RAE':\n",
    "        eloss = (e*torch.abs(y-t_hat.squeeze())/y.squeeze()).sum()\n",
    "        closs = ((1-e)*torch.abs(hinge_loss.squeeze())/y.squeeze()).sum()\n",
    "    \n",
    "    if return_sum:\n",
    "        \n",
    "        return eloss, closs\n",
    "    else:\n",
    "        len_e = len(e[e==1])\n",
    "        return eloss/len_e, closs/(len(e)-len_e)"
   ]
  },
  {
   "cell_type": "code",
   "execution_count": null,
   "id": "2fea92d7",
   "metadata": {},
   "outputs": [],
   "source": [
    "point_loss(test_pred_t, test_t, test_e, \"MSE\", return_sum = False)"
   ]
  },
  {
   "cell_type": "code",
   "execution_count": null,
   "id": "3990d902",
   "metadata": {},
   "outputs": [],
   "source": [
    "point_loss(test_pred_median, test_t, test_e, \"MSE\", return_sum = False)"
   ]
  },
  {
   "cell_type": "code",
   "execution_count": null,
   "id": "f70bd80f",
   "metadata": {},
   "outputs": [],
   "source": [
    "point_loss(test_pred_t, test_t, test_e, \"MAE\", return_sum = False)"
   ]
  },
  {
   "cell_type": "code",
   "execution_count": null,
   "id": "7deff7cf",
   "metadata": {},
   "outputs": [],
   "source": [
    "point_loss(test_pred_median, test_t, test_e, \"MAE\", return_sum = False)"
   ]
  },
  {
   "cell_type": "code",
   "execution_count": null,
   "id": "2bb5ac50",
   "metadata": {},
   "outputs": [],
   "source": [
    "point_loss(test_pred_t, test_t, test_e, \"RAE\", return_sum = False)"
   ]
  },
  {
   "cell_type": "code",
   "execution_count": null,
   "id": "a4e547d9",
   "metadata": {},
   "outputs": [],
   "source": [
    "point_loss(test_pred_median, test_t, test_e, \"RAE\", return_sum = False)"
   ]
  }
 ],
 "metadata": {
  "kernelspec": {
   "display_name": "ACSurv",
   "language": "python",
   "name": "acsurv"
  },
  "language_info": {
   "codemirror_mode": {
    "name": "ipython",
    "version": 3
   },
   "file_extension": ".py",
   "mimetype": "text/x-python",
   "name": "python",
   "nbconvert_exporter": "python",
   "pygments_lexer": "ipython3",
   "version": "3.8.10"
  }
 },
 "nbformat": 4,
 "nbformat_minor": 5
}
