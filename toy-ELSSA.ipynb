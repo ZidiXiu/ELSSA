{
 "cells": [
  {
   "cell_type": "markdown",
   "metadata": {},
   "source": [
    "Attention Layer with Contrastive Learning"
   ]
  },
  {
   "cell_type": "code",
   "execution_count": 1,
   "metadata": {},
   "outputs": [],
   "source": [
    "#https://github.com/Stonesjtu/Pytorch-NCE/blob/master/nce/nce_loss.py"
   ]
  },
  {
   "cell_type": "code",
   "execution_count": 2,
   "metadata": {},
   "outputs": [
    {
     "name": "stdout",
     "output_type": "stream",
     "text": [
      "PyTorch version: 1.8.0\n"
     ]
    }
   ],
   "source": [
    "from __future__ import absolute_import, division, print_function\n",
    "\n",
    "import math\n",
    "import os\n",
    "\n",
    "import numpy as np\n",
    "import pandas\n",
    "\n",
    "import scipy\n",
    "import seaborn as sns\n",
    "\n",
    "from time import time,sleep\n",
    "\n",
    "import matplotlib.pyplot as plt\n",
    "%matplotlib inline\n",
    "import torch\n",
    "import torch.nn as nn\n",
    "import torch.nn.functional as F\n",
    "\n",
    "from pathlib import Path\n",
    "\n",
    "import warnings\n",
    "warnings.filterwarnings('ignore')\n",
    "\n",
    "mypal = sns.color_palette('Set2')\n",
    "emp_color = mypal[0]\n",
    "pred_color = mypal[1]\n",
    "print (\"PyTorch version: \" + torch.__version__)\n"
   ]
  },
  {
   "cell_type": "code",
   "execution_count": 3,
   "metadata": {},
   "outputs": [],
   "source": [
    "from data.utils import SimpleDataset\n",
    "\n",
    "from utils.metrics import NLL_reg, point_loss, get_CI_raw\n",
    "from utils.trainer_helpers import batch_t_categorize, wt_avg\n",
    "\n"
   ]
  },
  {
   "cell_type": "markdown",
   "metadata": {},
   "source": [
    "## Cox-gompertz linear setting\n",
    "\n",
    "Load framingham dataset"
   ]
  },
  {
   "cell_type": "code",
   "execution_count": 4,
   "metadata": {
    "scrolled": true
   },
   "outputs": [
    {
     "data": {
      "text/plain": [
       "(4, 0.41815)"
      ]
     },
     "execution_count": 4,
     "metadata": {},
     "output_type": "execute_result"
    }
   ],
   "source": [
    "from data.simulation import simulation_cox_weibull_all, single_subj_true_dist_cox_gompertz\n",
    "\n",
    "file_path = '/data/zidi/framingham/'\n",
    "result_path_root = '/data/zidi/ACSurv/results/toy_bin/e40'\n",
    "# file_path = '/Users/ZidiXiu/Dropbox/Research/framingham/data/'\n",
    "# result_path_root = \"/Users/ZidiXiu/Dropbox/Research/ContrastiveSurvival/results\"+'/toy'\n",
    "\n",
    "cut_bound = 6\n",
    "df= simulation_cox_weibull_all(n=20000, censor_bound=68)\n",
    "\n",
    "# change to non-ohe \n",
    "cat0_level = df['ohe'][0]\n",
    "cat1_level = df['ohe'][1]\n",
    "\n",
    "# cat0 = 0*df['x'][:,2] + 1*df['x'][:,3]+ 2*df['x'][:,4]+ 3*df['x'][:,5]\n",
    "cat0 = np.sum(np.array([level*df['x'][:, 2+level] for level in range(cat0_level)]),0).reshape(-1,1)\n",
    "cat1 = np.sum(np.array([level*df['x'][:, 2+cat0_level+level] for level in range(cat1_level)]),0).reshape(-1,1)\n",
    "\n",
    "\n",
    "df['x'] = np.concatenate((df['x'][:,df['cts_idx']], cat0, cat1), axis=1)\n",
    "nsamples, ncov= df['x'].shape\n",
    "\n",
    "cov_list = np.array(['AGE','RANDON', 'cat0','cat1'])\n",
    "cts_idx = df['cts_idx']\n",
    "cts_var = cov_list[cts_idx]\n",
    "cat_idx = np.setdiff1d(np.arange(ncov), cts_idx)\n",
    "cat_var = cov_list[cat_idx]\n",
    "\n",
    "\n",
    "true_beta = df['coef']\n",
    "ncov, np.mean(df['e'])"
   ]
  },
  {
   "cell_type": "code",
   "execution_count": 5,
   "metadata": {},
   "outputs": [
    {
     "data": {
      "text/plain": [
       "<AxesSubplot:ylabel='Density'>"
      ]
     },
     "execution_count": 5,
     "metadata": {},
     "output_type": "execute_result"
    },
    {
     "data": {
      "image/png": "[encoded data removed]",
      "text/plain": [
       "<Figure size 432x288 with 1 Axes>"
      ]
     },
     "metadata": {
      "needs_background": "light"
     },
     "output_type": "display_data"
    }
   ],
   "source": [
    "sns.distplot(df['T'])"
   ]
  },
  {
   "cell_type": "code",
   "execution_count": 6,
   "metadata": {},
   "outputs": [
    {
     "name": "stdout",
     "output_type": "stream",
     "text": [
      "observed fold:0.4176854421360534\n",
      "observed fold:0.41907904604769763\n"
     ]
    }
   ],
   "source": [
    "from data.utils import *\n",
    "nsamples, ncov= df['x'].shape\n",
    "np.random.seed(123)\n",
    "all_idx = np.arange(nsamples)\n",
    "all_idx = np.random.permutation(all_idx)\n",
    "train_idx = all_idx[:int(2*nsamples/3)]\n",
    "valid_idx = all_idx[int(2*nsamples/3):]\n",
    "\n",
    "train = formatted_data(df['x'], df['t'], df['e'], train_idx)\n",
    "valid = formatted_data(df['x'], df['t'], df['e'], valid_idx)\n",
    "\n",
    "train_size = train['x'].shape[0]\n",
    "val_size = valid['x'].shape[0]\n",
    "\n",
    "del df"
   ]
  },
  {
   "cell_type": "code",
   "execution_count": 7,
   "metadata": {},
   "outputs": [
    {
     "data": {
      "text/plain": [
       "(array([5.56835773e-03, 6.30909232e-01, 1.20878117e+00, 1.89860159e+00,\n",
       "        2.48163218e+00, 3.20253833e+00, 3.79200266e+00, 4.35664143e+00,\n",
       "        4.95472852e+00, 5.62608850e+00, 6.19138416e+00, 6.66860660e+00,\n",
       "        7.29327437e+00, 7.90829941e+00, 8.48977402e+00, 9.08618901e+00,\n",
       "        9.68788148e+00, 1.02882362e+01, 1.08031260e+01, 1.13277381e+01,\n",
       "        1.18070378e+01, 1.23565697e+01, 1.28485766e+01, 1.34008280e+01,\n",
       "        1.39448214e+01, 1.45029414e+01, 1.49932712e+01, 1.55453049e+01,\n",
       "        1.61385214e+01, 1.66659473e+01, 1.71902247e+01, 1.77045729e+01,\n",
       "        1.82603937e+01, 1.87676739e+01, 1.92906125e+01, 1.98633438e+01,\n",
       "        2.03338726e+01, 2.08581072e+01, 2.12864561e+01, 2.18129434e+01,\n",
       "        2.22682393e+01, 2.27907670e+01, 2.32455488e+01, 2.36962493e+01,\n",
       "        2.41828335e+01, 2.46780311e+01, 2.51517542e+01, 2.56334022e+01,\n",
       "        2.61204538e+01, 2.65528660e+01, 2.70265423e+01, 2.74684735e+01,\n",
       "        2.79122101e+01, 2.83698329e+01, 2.87881066e+01, 2.92332595e+01,\n",
       "        2.97176603e+01, 3.02235881e+01, 3.06621000e+01, 3.11287960e+01,\n",
       "        3.15240337e+01, 3.20100990e+01, 3.24606833e+01, 3.29464622e+01,\n",
       "        3.33867668e+01, 3.38120579e+01, 3.42822272e+01, 3.47290442e+01,\n",
       "        3.51300441e+01, 3.56099552e+01, 3.60954444e+01, 3.65897339e+01,\n",
       "        3.70400733e+01, 3.75082125e+01, 3.80761056e+01, 3.85964645e+01,\n",
       "        3.90890586e+01, 3.96073151e+01, 4.01697289e+01, 4.06765557e+01,\n",
       "        4.12549196e+01, 4.18761258e+01, 4.24791616e+01, 4.30496735e+01,\n",
       "        4.37940558e+01, 4.44958687e+01, 4.51856166e+01, 4.58326578e+01,\n",
       "        4.65825821e+01, 4.73321890e+01, 4.81907758e+01, 4.88821871e+01,\n",
       "        4.98138629e+01, 5.08796955e+01, 5.20430532e+01, 5.36555834e+01,\n",
       "        5.53589795e+01, 5.77208524e+01, 6.38836556e+01, 6.80000000e+01,\n",
       "        6.80000000e+01]),\n",
       " 68.0,\n",
       " 67.58393031622197)"
      ]
     },
     "execution_count": 7,
     "metadata": {},
     "output_type": "execute_result"
    }
   ],
   "source": [
    "nbin=100\n",
    "m = 10\n",
    "train_time = train['t']\n",
    "percentile = True\n",
    "\n",
    "\n",
    "if percentile:\n",
    "    '''based on each covariate percentile'''\n",
    "    t_landmarks = torch.tensor(np.percentile(train_time, np.linspace(0,100,m))).contiguous()\n",
    "    tt = np.percentile(train_time,np.linspace(0.,100.,nbin, endpoint=True))\n",
    "else:\n",
    "    '''based on the each covariate range'''\n",
    "    t_landmarks = torch.tensor(np.linspace(np.min(train_time),np.max(train_time),m, endpoint=True)).contiguous()\n",
    "    tt = np.linspace(np.min(train_time),np.max(train_time),nbin, endpoint=True)\n",
    "\n",
    "\n",
    "            \n",
    "# based on whether we have censoring after the largest observed t\n",
    "loss_of_info = np.mean(train['t']>np.max(train['t'][train['e']==1]))\n",
    "\n",
    "# need to convert t to different size of bins\n",
    "if loss_of_info > 0.0001:\n",
    "    nbin = nbin + 1\n",
    "    # add the largest observed censoring time inside\n",
    "    tt = np.append(tt,np.max(train['t']))\n",
    "#     event_tt_prob = risk_t_bin_prob(train['t'], train['e'], tt)\n",
    "t_max = np.max(train['t'][train['e']==1])\n",
    "t_all_max = np.max(train['t'])\n",
    "tt, t_all_max, t_max"
   ]
  },
  {
   "cell_type": "code",
   "execution_count": 8,
   "metadata": {},
   "outputs": [
    {
     "data": {
      "text/plain": [
       "[<matplotlib.lines.Line2D at 0x7f120815f760>]"
      ]
     },
     "execution_count": 8,
     "metadata": {},
     "output_type": "execute_result"
    },
    {
     "data": {
      "image/png": "[encoded data removed]",
      "text/plain": [
       "<Figure size 432x288 with 1 Axes>"
      ]
     },
     "metadata": {
      "needs_background": "light"
     },
     "output_type": "display_data"
    }
   ],
   "source": [
    "sns.distplot(train['t'][train['e']==1])\n",
    "plt.plot(tt, np.zeros(len(tt)),'o')"
   ]
  },
  {
   "cell_type": "code",
   "execution_count": 9,
   "metadata": {},
   "outputs": [
    {
     "data": {
      "text/plain": [
       "tensor([5.5684e-03, 6.6686e+00, 1.2849e+01, 1.8768e+01, 2.4183e+01, 2.9233e+01,\n",
       "        3.4282e+01, 3.9607e+01, 4.6583e+01, 6.8000e+01], dtype=torch.float64)"
      ]
     },
     "execution_count": 9,
     "metadata": {},
     "output_type": "execute_result"
    }
   ],
   "source": [
    "t_landmarks"
   ]
  },
  {
   "cell_type": "markdown",
   "metadata": {},
   "source": [
    "### Embedding the covariates into $\\mathbb{R}^m$\n",
    "- for each continuous variable, first find $m$ landmarkers, then interpolate values in between\n",
    "- for each categorical variable, find the matched embedding vector with $m$ dimensions\n",
    "\n",
    "Define landmarkers for each continuous variable### Embedding the covariates into $\\mathbb{R}^m$"
   ]
  },
  {
   "cell_type": "code",
   "execution_count": 10,
   "metadata": {},
   "outputs": [],
   "source": [
    "# import torch\n",
    "# from torch import nn, optim\n",
    "# import numpy as np\n",
    "\n",
    "# # Type hinting\n",
    "# from typing import Union, List, Optional, Any, Tuple\n",
    "# from torch import FloatTensor, LongTensor\n",
    "\n",
    "\n",
    "# class SimpleMLP(nn.Module):\n",
    "#     def __init__(self, input_size=2, output_size=1, h_dim=[32,32]):\n",
    "#         super(SimpleMLP, self).__init__()\n",
    "#         net = []\n",
    "#         hs = [input_size] + h_dim + [output_size]\n",
    "#         for h0, h1 in zip(hs, hs[1:]):\n",
    "#             net.extend([\n",
    "#                 nn.Linear(h0, h1),\n",
    "#                 nn.ReLU(),\n",
    "#             ])\n",
    "#         net.pop()  # pop the last ReLU for the output layer\n",
    "#         self.net = nn.Sequential(*net)\n",
    "#         self.out = torch.nn.Sigmoid()\n",
    "        \n",
    "#     def forward(self, x):\n",
    "#         z = self.net(x)\n",
    "#         return self.out(z)\n",
    "    \n",
    "    \n",
    "# class FDV_Contrastive(nn.Module):\n",
    "#     def __init__(self, m, input_size=None, output_size=None, h_dim=[512,512], t_landmarks = None, train_time = None, percentile=False, tau = 1.0):\n",
    "#         super(FDV_Contrastive, self).__init__()\n",
    "#         # learnable temperature\n",
    "#         self.log_tau = torch.nn.Parameter(torch.Tensor([np.log(tau)]))\n",
    "#         self.criterion = torch.nn.CrossEntropyLoss(reduction='none')\n",
    "#         self.m = m\n",
    "#         self.time_landmark, self.time_emb_landmark = self.time_emb_init(t_landmarks, train_time, percentile)\n",
    "        \n",
    "#         if input_size == None:\n",
    "#             self.enc = nn.Identity()\n",
    "#         else:\n",
    "#             net = []\n",
    "#             hs = [input_size] + h_dim + [output_size]\n",
    "#             for h0, h1 in zip(hs, hs[1:]):\n",
    "#                 net.extend([\n",
    "#                     nn.Linear(h0, h1),\n",
    "#                     nn.ReLU(),\n",
    "#                 ])\n",
    "#             net.pop()  # pop the last ReLU for the output layer\n",
    "#             self.enc = nn.Sequential(*net)\n",
    "            \n",
    "        \n",
    "#     def forward(self, z, t, e):\n",
    "\n",
    "#         tau = torch.sqrt(torch.exp(self.log_tau))    \n",
    "#         device = z.device\n",
    "        \n",
    "#         batch_dim = z.size(0)\n",
    "#         # by dimension encoding\n",
    "#         # [batch_size, ncov*n_emb]\n",
    "#         hz = (self.norm(self.enc(z)))/tau\n",
    "#         # [batch_size, n_emb]\n",
    "#         hy = (self.linear_interpolation_time(t, e))/tau\n",
    "#         hy_new = torch.repeat_interleave(clf.linear_interpolation_time(y, e)/tau, torch.tensor(batch_dim*[4]).to(device), dim=0).view(-1,hz.size()[-1])\n",
    "#         del z, t, e, hy\n",
    "        \n",
    "#         # [batch_size, batch_size]\n",
    "#         similarity_matrix = hz @ hy_new.t()\n",
    "       \n",
    "#         del hz, hy_new\n",
    "#         pos_mask = torch.eye(batch_dim,dtype=torch.bool)\n",
    "        \n",
    "#         g = similarity_matrix[pos_mask].view(batch_dim,-1)\n",
    "#         g0 = similarity_matrix[~pos_mask].view(batch_dim,-1)\n",
    "            \n",
    "#         del pos_mask\n",
    "#         logits = g0 - g\n",
    "            \n",
    "#         slogits = torch.logsumexp(logits,1).view(-1,1)\n",
    "            \n",
    "#         labels = torch.tensor(range(batch_dim),dtype=torch.int64).to(device)\n",
    "#         dummy_ce = self.criterion(similarity_matrix,labels) - torch.log(torch.Tensor([batch_dim]).to(device))\n",
    "        \n",
    "#         del similarity_matrix\n",
    "#         dummy_ce = dummy_ce.view(-1,1)\n",
    "            \n",
    "#         output = dummy_ce.detach()+torch.exp(slogits-slogits.detach())-1\n",
    "        \n",
    "#         del dummy_ce\n",
    "#         output = torch.clamp(output,-5,15)\n",
    "        \n",
    "#         return output.mean()\n",
    "    \n",
    "    \n",
    "#     def linear_interpolation_time(self, batch_t, batch_e):\n",
    "#         '''\n",
    "#         Time embedding based on event type\n",
    "#         '''\n",
    "#         # written for torch\n",
    "#         # returns index\n",
    "#         # a[i-1] < v <= a[i]\n",
    "#         indx = torch.searchsorted(self.time_landmark.to(batch_t.device), batch_t)\n",
    "#         # combine the first two indices, and the last two indices\n",
    "#         # to include the unobserved minimum and maximum value\n",
    "#         # combines [0,1], and [m-1, m]\n",
    "#         indx = torch.where(indx==0, 1, indx)\n",
    "#         indx = torch.where(indx==self.m, self.m-1, indx)\n",
    "\n",
    "        \n",
    "# #         print(batch_t.size(), batch_e.size(), len(indx))\n",
    "        \n",
    "#         # for event\n",
    "#         coef = (self.time_emb_landmark[indx] - self.time_emb_landmark[indx-1])/(self.time_landmark[indx].to(batch_t.device) - self.time_landmark[indx-1].to(batch_t.device)).view(len(indx),1)\n",
    "# #         print(coef.size())\n",
    "#         out = self.time_emb_landmark[indx-1] + coef*(batch_t-self.time_landmark[indx-1].to(batch_t.device)).view(len(indx),1)    # linear interpolation\n",
    "\n",
    "#         # for censoring\n",
    "#         censor_mask = torch.vstack([(torch.cat((torch.zeros(idx), torch.ones(m-idx))).view(1, m))/(m-idx) for idx in indx.to('cpu')])\n",
    "#         out_censor = torch.matmul(censor_mask.to(batch_t.device), self.time_emb_landmark.T)\n",
    "        \n",
    "#         del censor_mask, coef\n",
    "\n",
    "#         return (out*batch_e.view(len(out),1) + out_censor*(1-batch_e).view(len(out),1)).float()\n",
    "    \n",
    "#     def time_emb_init(self, t_landmarks, train_time, percentile = True):\n",
    "#         '''\n",
    "#         embedding of time-to-event distribution \n",
    "\n",
    "#         '''\n",
    "\n",
    "#         if type(t_landmarks) == type(None):\n",
    "#             if percentile:\n",
    "#                 '''based on each covariate percentile'''\n",
    "#                 t_landmarks = torch.tensor(np.percentile(train_time, np.linspace(0,100,self.m))).contiguous()\n",
    "#             else:\n",
    "#                 '''based on the each covariate range'''\n",
    "#                 t_landmarks = torch.tensor(np.linspace(np.min(train_time),np.max(train_time),self.m, endpoint=True)).contiguous()\n",
    "\n",
    "#         # save the initialized landmarks as a torch parameter dictionary\n",
    "\n",
    "#         t_emb_landmarks = torch.eye(self.m)\n",
    "\n",
    "#         return t_landmarks, torch.nn.Parameter(t_emb_landmarks)    \n",
    "    \n",
    "#     def norm(self,z):\n",
    "#         return torch.nn.functional.normalize(z,dim=-1)"
   ]
  },
  {
   "cell_type": "code",
   "execution_count": 11,
   "metadata": {},
   "outputs": [],
   "source": [
    "ncov = train['x'].shape[1]\n",
    "covList = np.arange(ncov)\n",
    "\n",
    "trainData = SimpleDataset(train['x'], train['t'], train['e'])\n",
    "pair1 = DataLoader(trainData, batch_size=500,shuffle=True)\n",
    "# pair2 = DataLoader(trainData, batch_size=500,shuffle=True)\n",
    "\n",
    "validData = SimpleDataset(valid['x'], valid['t'], valid['e'])\n",
    "v_pair1 = DataLoader(validData, batch_size=1000,shuffle=True)\n",
    "# v_pair2 = DataLoader(validData, batch_size=500,shuffle=True)\n"
   ]
  },
  {
   "cell_type": "code",
   "execution_count": 12,
   "metadata": {},
   "outputs": [
    {
     "data": {
      "text/plain": [
       "'/data/zidi/ACSurv/results/toy_bin/e40'"
      ]
     },
     "execution_count": 12,
     "metadata": {},
     "output_type": "execute_result"
    }
   ],
   "source": [
    "result_path_root"
   ]
  },
  {
   "cell_type": "code",
   "execution_count": 13,
   "metadata": {
    "scrolled": true
   },
   "outputs": [
    {
     "name": "stdout",
     "output_type": "stream",
     "text": [
      "Embedding(\n",
      "  (x_emb_landmarks): ParameterDict(\n",
      "      (AGE): Parameter containing: [torch.cuda.FloatTensor of size 8x8 (GPU 1)]\n",
      "      (RANDON): Parameter containing: [torch.cuda.FloatTensor of size 8x8 (GPU 1)]\n",
      "  )\n",
      "  (x_emb_levels): ParameterDict(\n",
      "      (cat0): Parameter containing: [torch.cuda.FloatTensor of size 5x8 (GPU 1)]\n",
      "      (cat1): Parameter containing: [torch.cuda.FloatTensor of size 50x8 (GPU 1)]\n",
      "  )\n",
      "  (dropout): Dropout(p=0.0, inplace=False)\n",
      ") SelfAttention(\n",
      "  (flatten): Flatten(start_dim=1, end_dim=-1)\n",
      "  (dropout): Dropout(p=0.1, inplace=False)\n",
      ") FDV_CL(\n",
      "  (criterion): CrossEntropyLoss()\n",
      "  (enc): Identity()\n",
      ") DecMLP_bin(\n",
      "  (net): Sequential(\n",
      "    (0): Linear(in_features=32, out_features=512, bias=True)\n",
      "    (1): Dropout(p=0.1, inplace=False)\n",
      "    (2): ReLU()\n",
      "    (3): Linear(in_features=512, out_features=512, bias=True)\n",
      "    (4): Dropout(p=0.1, inplace=False)\n",
      "    (5): ReLU()\n",
      "    (6): Linear(in_features=512, out_features=101, bias=True)\n",
      "    (7): Dropout(p=0.1, inplace=False)\n",
      "  )\n",
      "  (out): Softmax(dim=1)\n",
      ")\n"
     ]
    }
   ],
   "source": [
    "from utils.trainer_helpers import batch_t_categorize, wt_avg, attention_mask\n",
    "from model.embedding import Embedding\n",
    "from model.attention import Attention, SelfAttention\n",
    "from model.ContrastiveLearning import FDV_CL\n",
    "from model.SimpleNN import *\n",
    "\n",
    "\n",
    "m=8\n",
    "zdim = m\n",
    "epochs = 1000\n",
    "device = 'cuda'\n",
    "model_name = 'AttCtra'\n",
    "device = torch.device('cuda' if torch.cuda.is_available() else 'cpu')\n",
    "torch.cuda.set_device(1)\n",
    "\n",
    "# point estimation loss function and weight\n",
    "loss_type='MSE'\n",
    "lambda_ = 0\n",
    "ctr_learning = True\n",
    "ctr_wt = 1\n",
    "# bined time\n",
    "tt = torch.tensor(tt).to(device)\n",
    "\n",
    "result_path = result_path_root+'/saved_models/'\n",
    "Path(result_path).mkdir(parents=True, exist_ok=True)\n",
    "\n",
    "'''covariate embedding'''\n",
    "embedding = Embedding(ncov, cts_var, cts_idx, cat_var, cat_idx, dataset=train, m=m)\n",
    "\n",
    "'''attention network'''\n",
    "# attention = LinearAtt(ncov=ncov, dropout=0.1)\n",
    "# attention = Attention(dropout=0.1)\n",
    "attention = SelfAttention(dropout=0.1)\n",
    "\n",
    "'''contrastive learning'''\n",
    "# input is pair of latent Z\n",
    "clf = FDV_CL(m = m, t_landmarks = t_landmarks, h_dim = [0], ncov=ncov)\n",
    "\n",
    "\n",
    "'''decoding the embedded vectors'''\n",
    "# decoder = DecMLP(input_size = zdim*ncov, output_size = 1, h_dim=[512, 512])\n",
    "decoder = DecMLP_bin(input_size = zdim*ncov, output_size = nbin, h_dim=[512,512])\n",
    "\n",
    "# emb = torch.nn.DataParallel(embedding, device_ids=[0, 1])\n",
    "# dec = torch.nn.DataParallel(decoder, device_ids=[0, 1])\n",
    "# att = torch.nn.DataParallel(attention, device_ids=[0, 1])\n",
    "# ctra = torch.nn.DataParallel(clf, device_ids=[0, 1])\n",
    "\n",
    "# enc = clf.enc\n",
    "embedding.to(device)\n",
    "clf.to(device)\n",
    "# attention.to(device)\n",
    "decoder.to(device)\n",
    "\n",
    "# define optimizer\n",
    "opt_emb = optim.Adam(embedding.parameters(), lr=1e-3)\n",
    "opt_dec = optim.Adam(decoder.parameters(), lr=1e-4)\n",
    "opt_clf = optim.Adam(clf.parameters(), lr=1e-4)\n",
    "\n",
    "# opt_att = optim.Adam(attention.parameters(), lr=1e-4)\n",
    "\n",
    "emb_path = result_path+model_name+'_emb_'+str(ctr_wt)+'.pt'\n",
    "dec_path = result_path+model_name+'_dec_'+str(ctr_wt)+'.pt'\n",
    "\n",
    "clf_path = result_path+model_name+'_clf_'+str(ctr_wt)+'.pt'\n",
    "\n",
    "# att_path = result_path+model_name+'_att.pt'\n",
    "print(embedding, attention, clf, decoder)"
   ]
  },
  {
   "cell_type": "code",
   "execution_count": 14,
   "metadata": {},
   "outputs": [],
   "source": [
    "for i, (x, y, e) in enumerate(pair1):\n",
    "    x = x.to(device).float()\n",
    "    y = y.to(device).float()\n",
    "    e = e.to(device)\n",
    "    break"
   ]
  },
  {
   "cell_type": "markdown",
   "metadata": {},
   "source": [
    "### NEED TO FIGURE THIS SIMILARITY MEASURE HERE!!!"
   ]
  },
  {
   "cell_type": "code",
   "execution_count": 15,
   "metadata": {
    "scrolled": true
   },
   "outputs": [
    {
     "name": "stdout",
     "output_type": "stream",
     "text": [
      "epoch1\n"
     ]
    },
    {
     "ename": "RuntimeError",
     "evalue": "CUDA error: device-side assert triggered",
     "output_type": "error",
     "traceback": [
      "\u001b[0;31m---------------------------------------------------------------------------\u001b[0m",
      "\u001b[0;31mRuntimeError\u001b[0m                              Traceback (most recent call last)",
      "\u001b[0;32m<ipython-input-15-d7313e0c6e18>\u001b[0m in \u001b[0;36m<module>\u001b[0;34m\u001b[0m\n\u001b[1;32m     45\u001b[0m         \u001b[0mz\u001b[0m\u001b[0;34m,\u001b[0m \u001b[0mattn_score\u001b[0m \u001b[0;34m=\u001b[0m \u001b[0mattention\u001b[0m\u001b[0;34m(\u001b[0m\u001b[0mx_emb\u001b[0m\u001b[0;34m)\u001b[0m\u001b[0;34m\u001b[0m\u001b[0;34m\u001b[0m\u001b[0m\n\u001b[1;32m     46\u001b[0m \u001b[0;31m#         z, attn_score = attention(x_emb,x_emb,x_emb)\u001b[0m\u001b[0;34m\u001b[0m\u001b[0;34m\u001b[0m\u001b[0;34m\u001b[0m\u001b[0m\n\u001b[0;32m---> 47\u001b[0;31m         \u001b[0mloss_infoNCE\u001b[0m \u001b[0;34m=\u001b[0m \u001b[0mclf\u001b[0m\u001b[0;34m(\u001b[0m\u001b[0mz\u001b[0m\u001b[0;34m,\u001b[0m \u001b[0my\u001b[0m\u001b[0;34m,\u001b[0m \u001b[0me\u001b[0m\u001b[0;34m)\u001b[0m\u001b[0;34m.\u001b[0m\u001b[0mmean\u001b[0m\u001b[0;34m(\u001b[0m\u001b[0;34m)\u001b[0m\u001b[0;34m\u001b[0m\u001b[0;34m\u001b[0m\u001b[0m\n\u001b[0m\u001b[1;32m     48\u001b[0m \u001b[0;34m\u001b[0m\u001b[0m\n\u001b[1;32m     49\u001b[0m         \u001b[0mp_raw\u001b[0m \u001b[0;34m=\u001b[0m \u001b[0mdecoder\u001b[0m\u001b[0;34m(\u001b[0m\u001b[0mclf\u001b[0m\u001b[0;34m.\u001b[0m\u001b[0menc\u001b[0m\u001b[0;34m(\u001b[0m\u001b[0mz\u001b[0m\u001b[0;34m)\u001b[0m\u001b[0;34m)\u001b[0m\u001b[0;34m\u001b[0m\u001b[0;34m\u001b[0m\u001b[0m\n",
      "\u001b[0;32m/data/zidi/ACSurv/workspace/lib/python3.8/site-packages/torch/nn/modules/module.py\u001b[0m in \u001b[0;36m_call_impl\u001b[0;34m(self, *input, **kwargs)\u001b[0m\n\u001b[1;32m    887\u001b[0m             \u001b[0mresult\u001b[0m \u001b[0;34m=\u001b[0m \u001b[0mself\u001b[0m\u001b[0;34m.\u001b[0m\u001b[0m_slow_forward\u001b[0m\u001b[0;34m(\u001b[0m\u001b[0;34m*\u001b[0m\u001b[0minput\u001b[0m\u001b[0;34m,\u001b[0m \u001b[0;34m**\u001b[0m\u001b[0mkwargs\u001b[0m\u001b[0;34m)\u001b[0m\u001b[0;34m\u001b[0m\u001b[0;34m\u001b[0m\u001b[0m\n\u001b[1;32m    888\u001b[0m         \u001b[0;32melse\u001b[0m\u001b[0;34m:\u001b[0m\u001b[0;34m\u001b[0m\u001b[0;34m\u001b[0m\u001b[0m\n\u001b[0;32m--> 889\u001b[0;31m             \u001b[0mresult\u001b[0m \u001b[0;34m=\u001b[0m \u001b[0mself\u001b[0m\u001b[0;34m.\u001b[0m\u001b[0mforward\u001b[0m\u001b[0;34m(\u001b[0m\u001b[0;34m*\u001b[0m\u001b[0minput\u001b[0m\u001b[0;34m,\u001b[0m \u001b[0;34m**\u001b[0m\u001b[0mkwargs\u001b[0m\u001b[0;34m)\u001b[0m\u001b[0;34m\u001b[0m\u001b[0;34m\u001b[0m\u001b[0m\n\u001b[0m\u001b[1;32m    890\u001b[0m         for hook in itertools.chain(\n\u001b[1;32m    891\u001b[0m                 \u001b[0m_global_forward_hooks\u001b[0m\u001b[0;34m.\u001b[0m\u001b[0mvalues\u001b[0m\u001b[0;34m(\u001b[0m\u001b[0;34m)\u001b[0m\u001b[0;34m,\u001b[0m\u001b[0;34m\u001b[0m\u001b[0;34m\u001b[0m\u001b[0m\n",
      "\u001b[0;32m/data/zidi/ACSurv/ELSSA/model/ContrastiveLearning.py\u001b[0m in \u001b[0;36mforward\u001b[0;34m(self, z, t, e)\u001b[0m\n\u001b[1;32m     43\u001b[0m \u001b[0;34m\u001b[0m\u001b[0m\n\u001b[1;32m     44\u001b[0m         \u001b[0;31m# [batch_size, n_emb]\u001b[0m\u001b[0;34m\u001b[0m\u001b[0;34m\u001b[0m\u001b[0;34m\u001b[0m\u001b[0m\n\u001b[0;32m---> 45\u001b[0;31m         \u001b[0mhy\u001b[0m \u001b[0;34m=\u001b[0m \u001b[0mself\u001b[0m\u001b[0;34m.\u001b[0m\u001b[0mnorm\u001b[0m\u001b[0;34m(\u001b[0m\u001b[0;34m(\u001b[0m\u001b[0mself\u001b[0m\u001b[0;34m.\u001b[0m\u001b[0mlinear_interpolation_time\u001b[0m\u001b[0;34m(\u001b[0m\u001b[0mt\u001b[0m\u001b[0;34m,\u001b[0m \u001b[0me\u001b[0m\u001b[0;34m)\u001b[0m\u001b[0;34m)\u001b[0m\u001b[0;34m)\u001b[0m\u001b[0;34m/\u001b[0m\u001b[0mtau\u001b[0m\u001b[0;34m\u001b[0m\u001b[0;34m\u001b[0m\u001b[0m\n\u001b[0m\u001b[1;32m     46\u001b[0m \u001b[0;34m\u001b[0m\u001b[0m\n\u001b[1;32m     47\u001b[0m \u001b[0;31m#         hy_new = torch.repeat_interleave(self.linear_interpolation_time(t, e)/tau, torch.tensor(batch_dim*[self.ncov]).to(device), dim=0).view(-1,hz.size()[-1])\u001b[0m\u001b[0;34m\u001b[0m\u001b[0;34m\u001b[0m\u001b[0;34m\u001b[0m\u001b[0m\n",
      "\u001b[0;32m/data/zidi/ACSurv/ELSSA/model/ContrastiveLearning.py\u001b[0m in \u001b[0;36mlinear_interpolation_time\u001b[0;34m(self, batch_t, batch_e)\u001b[0m\n\u001b[1;32m     95\u001b[0m \u001b[0;34m\u001b[0m\u001b[0m\n\u001b[1;32m     96\u001b[0m         \u001b[0;31m# for event\u001b[0m\u001b[0;34m\u001b[0m\u001b[0;34m\u001b[0m\u001b[0;34m\u001b[0m\u001b[0m\n\u001b[0;32m---> 97\u001b[0;31m         \u001b[0mcoef\u001b[0m \u001b[0;34m=\u001b[0m \u001b[0;34m(\u001b[0m\u001b[0mself\u001b[0m\u001b[0;34m.\u001b[0m\u001b[0mtime_emb_landmark\u001b[0m\u001b[0;34m[\u001b[0m\u001b[0mindx\u001b[0m\u001b[0;34m]\u001b[0m \u001b[0;34m-\u001b[0m \u001b[0mself\u001b[0m\u001b[0;34m.\u001b[0m\u001b[0mtime_emb_landmark\u001b[0m\u001b[0;34m[\u001b[0m\u001b[0mindx\u001b[0m\u001b[0;34m-\u001b[0m\u001b[0;36m1\u001b[0m\u001b[0;34m]\u001b[0m\u001b[0;34m)\u001b[0m\u001b[0;34m/\u001b[0m\u001b[0;34m(\u001b[0m\u001b[0mself\u001b[0m\u001b[0;34m.\u001b[0m\u001b[0mtime_landmark\u001b[0m\u001b[0;34m[\u001b[0m\u001b[0mindx\u001b[0m\u001b[0;34m]\u001b[0m\u001b[0;34m.\u001b[0m\u001b[0mto\u001b[0m\u001b[0;34m(\u001b[0m\u001b[0mbatch_t\u001b[0m\u001b[0;34m.\u001b[0m\u001b[0mdevice\u001b[0m\u001b[0;34m)\u001b[0m \u001b[0;34m-\u001b[0m \u001b[0mself\u001b[0m\u001b[0;34m.\u001b[0m\u001b[0mtime_landmark\u001b[0m\u001b[0;34m[\u001b[0m\u001b[0mindx\u001b[0m\u001b[0;34m-\u001b[0m\u001b[0;36m1\u001b[0m\u001b[0;34m]\u001b[0m\u001b[0;34m.\u001b[0m\u001b[0mto\u001b[0m\u001b[0;34m(\u001b[0m\u001b[0mbatch_t\u001b[0m\u001b[0;34m.\u001b[0m\u001b[0mdevice\u001b[0m\u001b[0;34m)\u001b[0m\u001b[0;34m)\u001b[0m\u001b[0;34m.\u001b[0m\u001b[0mview\u001b[0m\u001b[0;34m(\u001b[0m\u001b[0mlen\u001b[0m\u001b[0;34m(\u001b[0m\u001b[0mindx\u001b[0m\u001b[0;34m)\u001b[0m\u001b[0;34m,\u001b[0m\u001b[0;36m1\u001b[0m\u001b[0;34m)\u001b[0m\u001b[0;34m\u001b[0m\u001b[0;34m\u001b[0m\u001b[0m\n\u001b[0m\u001b[1;32m     98\u001b[0m \u001b[0;31m#         print(coef.size())\u001b[0m\u001b[0;34m\u001b[0m\u001b[0;34m\u001b[0m\u001b[0;34m\u001b[0m\u001b[0m\n\u001b[1;32m     99\u001b[0m         \u001b[0mout\u001b[0m \u001b[0;34m=\u001b[0m \u001b[0mself\u001b[0m\u001b[0;34m.\u001b[0m\u001b[0mtime_emb_landmark\u001b[0m\u001b[0;34m[\u001b[0m\u001b[0mindx\u001b[0m\u001b[0;34m-\u001b[0m\u001b[0;36m1\u001b[0m\u001b[0;34m]\u001b[0m \u001b[0;34m+\u001b[0m \u001b[0mcoef\u001b[0m\u001b[0;34m*\u001b[0m\u001b[0;34m(\u001b[0m\u001b[0mbatch_t\u001b[0m\u001b[0;34m-\u001b[0m\u001b[0mself\u001b[0m\u001b[0;34m.\u001b[0m\u001b[0mtime_landmark\u001b[0m\u001b[0;34m[\u001b[0m\u001b[0mindx\u001b[0m\u001b[0;34m-\u001b[0m\u001b[0;36m1\u001b[0m\u001b[0;34m]\u001b[0m\u001b[0;34m.\u001b[0m\u001b[0mto\u001b[0m\u001b[0;34m(\u001b[0m\u001b[0mbatch_t\u001b[0m\u001b[0;34m.\u001b[0m\u001b[0mdevice\u001b[0m\u001b[0;34m)\u001b[0m\u001b[0;34m)\u001b[0m\u001b[0;34m.\u001b[0m\u001b[0mview\u001b[0m\u001b[0;34m(\u001b[0m\u001b[0mlen\u001b[0m\u001b[0;34m(\u001b[0m\u001b[0mindx\u001b[0m\u001b[0;34m)\u001b[0m\u001b[0;34m,\u001b[0m\u001b[0;36m1\u001b[0m\u001b[0;34m)\u001b[0m    \u001b[0;31m# linear interpolation\u001b[0m\u001b[0;34m\u001b[0m\u001b[0;34m\u001b[0m\u001b[0m\n",
      "\u001b[0;31mRuntimeError\u001b[0m: CUDA error: device-side assert triggered"
     ]
    }
   ],
   "source": [
    "best_valid_e_loss = np.inf\n",
    "best_valid_NLL_loss = np.inf\n",
    "best_valid_CI = 0\n",
    "best_epoch = 0\n",
    "\n",
    "train_loss_hist = []\n",
    "train_loss_NLL_hist = []\n",
    "train_loss_est_hist = []\n",
    "train_lost_ctr_hist = []\n",
    "\n",
    "valid_loss_hist = []\n",
    "valid_loss_NLL_hist = []\n",
    "valid_loss_est_hist = []\n",
    "\n",
    "for epoch in range(1, epochs + 1):\n",
    "\n",
    "\n",
    "    train_loss = 0\n",
    "    train_ctr_loss = 0\n",
    "    train_NLL_loss, train_est_loss = 0, 0\n",
    "    \n",
    "    valid_e_loss = 0\n",
    "    valid_c_loss = 0\n",
    "    valid_NLL_loss, valid_est_loss = 0, 0\n",
    "\n",
    "    print('epoch'+str(epoch))\n",
    "    improved_str = \" \"\n",
    "    embedding.train()\n",
    "#     attention.train()\n",
    "    decoder.train()\n",
    "\n",
    "\n",
    "    for i, (x, y, e) in enumerate(pair1):\n",
    "#         print(i)\n",
    "        # training encoder and decoder\n",
    "        \n",
    "        x = x.to(device).float()\n",
    "        y = y.to(device).float()\n",
    "        e = e.to(device)\n",
    "                \n",
    "        if not ctr_learning:\n",
    "            ctr_wt = 0\n",
    "            \n",
    "        x_emb, var_list = embedding(x.float())\n",
    "        z, attn_score = attention(x_emb)\n",
    "#         z, attn_score = attention(x_emb,x_emb,x_emb)\n",
    "        loss_infoNCE = clf(z, y, e).mean()\n",
    "        \n",
    "        p_raw = decoder(clf.enc(z))\n",
    "        \n",
    "        loss_NLL = NLL_reg(p_raw, y, e, tt)\n",
    "        \n",
    "        # weighted average\n",
    "        t_wa_hat = wt_avg(p_raw, tt)\n",
    "        \n",
    "        eloss, closs = point_loss(t_wa_hat, y, e, loss_type)\n",
    "        loss_est = (closs + eloss)/len(e)\n",
    "    \n",
    "        surv_loss = loss_NLL + lambda_*loss_est\n",
    "    \n",
    "        # update parameters\n",
    "        loss = surv_loss + ctr_wt*loss_infoNCE\n",
    "        loss.backward()\n",
    "        \n",
    "        torch.nn.utils.clip_grad_norm_(embedding.parameters(), 1e-1)\n",
    "        torch.nn.utils.clip_grad_norm_(decoder.parameters(), 1e-1)\n",
    "        torch.nn.utils.clip_grad_norm_(clf.parameters(), 1e-1)\n",
    "        \n",
    "        train_loss += surv_loss.item()\n",
    "        train_NLL_loss += loss_NLL.item()\n",
    "        train_est_loss += loss_est.item()\n",
    "        train_ctr_loss += loss_infoNCE.item()\n",
    "        \n",
    "        opt_emb.step()\n",
    "        opt_clf.step()\n",
    "        opt_dec.step()  \n",
    "        \n",
    "\n",
    "    \n",
    "    embedding.eval()\n",
    "    attention.eval()\n",
    "    clf.eval()\n",
    "    decoder.eval()\n",
    "    \n",
    "    valid_e_loss = 0\n",
    "    valid_c_loss = 0\n",
    "    valid_pred_t, valid_e, valid_t = [],[],[]\n",
    "\n",
    "    for i, (x, y, e) in enumerate(v_pair1):\n",
    "        x= x.to(device).float()\n",
    "        y = y.to(device).float()\n",
    "        e = e.to(device)\n",
    "        \n",
    "        x_emb, var_list = embedding(x.float())\n",
    "        z, attn_score = attention(x_emb)\n",
    "#         z, attn_score = attention(x_emb,x_emb,x_emb)\n",
    "        loss_infoNCE = clf(z, y, e).mean()\n",
    "        p_raw = decoder(clf.enc(z.float()))\n",
    "        \n",
    "        loss_NLL = NLL_reg(p_raw, y, e, tt)\n",
    "        \n",
    "        # weighted average\n",
    "        t_wa_hat = wt_avg(p_raw, tt)\n",
    "        \n",
    "        eloss, closs = point_loss(t_wa_hat, y, e, loss_type)\n",
    "        loss_est = (closs + eloss)/len(e)\n",
    "    \n",
    "        loss = loss_NLL + lambda_*loss_est\n",
    "\n",
    "        valid_e_loss += eloss.item()\n",
    "        \n",
    "        valid_c_loss += closs.item()\n",
    "        \n",
    "        valid_NLL_loss += loss_NLL.item()\n",
    "        valid_est_loss += loss_est.item()\n",
    "        \n",
    "        valid_pred_t.append(t_wa_hat.squeeze().detach().cpu())\n",
    "        valid_t.append(y.squeeze().detach().cpu())\n",
    "        valid_e.append(e.squeeze().detach().cpu())   \n",
    "        \n",
    "    # concatenate all the validation results\n",
    "    valid_e = torch.cat(valid_e)\n",
    "    valid_t = torch.cat(valid_t)\n",
    "    valid_pred_t = torch.cat(valid_pred_t)\n",
    "\n",
    "    valid_CI = get_CI_raw(valid_e, valid_t, valid_pred_t, torch_object=True)[0]\n",
    "    train_loss_hist.append(train_loss/train_size)\n",
    "    train_loss_NLL_hist.append(train_NLL_loss/train_size)\n",
    "    train_loss_est_hist.append(train_est_loss/train_size)\n",
    "    train_lost_ctr_hist.append(train_ctr_loss/train_size)\n",
    "    \n",
    "    valid_loss_hist.append(valid_e_loss/val_size)\n",
    "    valid_loss_NLL_hist.append(valid_NLL_loss/val_size)\n",
    "    valid_loss_est_hist.append(valid_est_loss/val_size)\n",
    "    \n",
    "    save_model = 0\n",
    "    if (best_valid_e_loss > valid_e_loss):\n",
    "        save_model += 1\n",
    "    if (best_valid_NLL_loss > valid_NLL_loss):\n",
    "        save_model += 1\n",
    "    if (best_valid_CI < valid_CI):\n",
    "        save_model += 1\n",
    "        \n",
    "\n",
    "        \n",
    "    if epoch % 10 == 0:\n",
    "        subj = np.random.choice(len(e))\n",
    "        plt.figure(figsize=(12, 4))\n",
    "        plt.subplot(1, 2, 1)\n",
    "\n",
    "        sns.scatterplot(t_wa_hat[e==1].cpu().detach().numpy().squeeze(), y[e==1].cpu())\n",
    "        plt.plot(y[e==1].cpu(), y[e==1].cpu())\n",
    "        plt.xlabel('Predicted')\n",
    "        plt.ylabel('True Event')\n",
    "        \n",
    "        \n",
    "        subj = np.random.choice(len(e))\n",
    "        plt.subplot(1, 2, 2)\n",
    "\n",
    "        plt.axvline(y[subj],linestyle='--',color=emp_color,label='observed t_k')\n",
    "\n",
    "        sns.scatterplot(tt.cpu().detach().numpy(), p_raw[subj,:].cpu().detach().numpy(), label='Estimated', color=pred_color)\n",
    "        sample_x = x[subj,:].cpu().numpy()\n",
    "\n",
    "        true_T = single_subj_true_dist_cox_gompertz(sample_x, true_beta)['T']\n",
    "        sns.distplot(true_T, rug=True, hist=False, label=\"Empirical\", color=emp_color)\n",
    "        plt.xticks(np.arange(0, 100, step=5), np.arange(0, 100, step=5))  # Set label locations.\n",
    "\n",
    "        plt.title(r'$\\delta$='+str(e[subj].item()))\n",
    "        plt.show()\n",
    "\n",
    "    if save_model >1:\n",
    "        best_epoch = epoch\n",
    "        best_valid_e_loss = valid_e_loss\n",
    "        best_valid_NLL_loss = valid_NLL_loss\n",
    "        best_valid_CI = valid_CI\n",
    "        \n",
    "        torch.save(embedding.state_dict(), emb_path)\n",
    "        torch.save(clf.state_dict(), clf_path)\n",
    "        torch.save(decoder.state_dict(), dec_path)\n",
    "\n",
    "        improved_str = \"*\"\n",
    "    print('====> Train NLL: {:.3f} \\t Valid NLL: {:.3f} CI: {:.3f} event loss: {:.3f} \\t censoring loss : {:.3f} \\t Improved: {}'.format(train_NLL_loss/train_size, valid_NLL_loss/val_size, valid_CI, valid_e_loss/val_size,valid_c_loss/val_size,improved_str))\n",
    "\n",
    "    \n",
    "#     if ctr_learning and (epoch - best_epoch >=20):\n",
    "#         ctr_learning = False\n",
    "#         print('Contrastive learning stopped')\n",
    "    \n",
    "#     if not ctr_learning and (epoch - best_epoch >=50):\n",
    "#         print('Model stopped due to early stopping')\n",
    "#         break\n",
    "\n",
    "    if epoch - best_epoch >=20:\n",
    "        print('Model stopped due to early stopping')\n",
    "        break"
   ]
  },
  {
   "cell_type": "code",
   "execution_count": null,
   "metadata": {},
   "outputs": [],
   "source": [
    "plt.plot(train_loss_NLL_hist,label=\"train losses\")\n",
    "plt.plot(valid_loss_NLL_hist,label=\"valid losses\")\n",
    "plt.legend()\n"
   ]
  },
  {
   "cell_type": "code",
   "execution_count": null,
   "metadata": {},
   "outputs": [],
   "source": [
    "plt.plot(train_lost_ctr_hist,label=\"contrastive losses\")\n",
    "plt.legend()"
   ]
  },
  {
   "cell_type": "code",
   "execution_count": null,
   "metadata": {
    "scrolled": false
   },
   "outputs": [],
   "source": [
    "embedding.load_state_dict(torch.load(emb_path))\n",
    "clf.load_state_dict(torch.load(clf_path))\n",
    "\n",
    "decoder.load_state_dict(torch.load(dec_path))\n",
    "\n",
    "# for name, param in embedding.named_parameters():\n",
    "#     if param.requires_grad:\n",
    "#         print(name, param.data)"
   ]
  },
  {
   "cell_type": "code",
   "execution_count": null,
   "metadata": {
    "scrolled": false
   },
   "outputs": [],
   "source": [
    "# sns.barplot(np.arange(ncov),attention.weights.detach().cpu().numpy())\n",
    "# plt.title('Linear Attention Weights')"
   ]
  },
  {
   "cell_type": "code",
   "execution_count": null,
   "metadata": {},
   "outputs": [],
   "source": [
    "ax = sns.heatmap(embedding.x_emb_landmarks['AGE'].detach().cpu().numpy())\n",
    "plt.title('AGE embedding')"
   ]
  },
  {
   "cell_type": "code",
   "execution_count": null,
   "metadata": {},
   "outputs": [],
   "source": [
    "ax = sns.heatmap(embedding.x_emb_landmarks['RANDON'].detach().cpu().numpy())\n",
    "plt.title('RANDON embedding')"
   ]
  },
  {
   "cell_type": "code",
   "execution_count": null,
   "metadata": {
    "scrolled": true
   },
   "outputs": [],
   "source": [
    "ax = sns.heatmap(embedding.x_emb_levels['cat0'].detach().cpu().numpy())\n",
    "plt.title('CAT0 embedding')"
   ]
  },
  {
   "cell_type": "code",
   "execution_count": null,
   "metadata": {
    "scrolled": false
   },
   "outputs": [],
   "source": [
    "ax = sns.heatmap(embedding.x_emb_levels['cat1'].detach().cpu().numpy())\n",
    "plt.title('CAT1 embedding')"
   ]
  },
  {
   "cell_type": "code",
   "execution_count": null,
   "metadata": {},
   "outputs": [],
   "source": [
    "embedding.load_state_dict(torch.load(emb_path))\n",
    "clf.load_state_dict(torch.load(clf_path))\n",
    "\n",
    "decoder.load_state_dict(torch.load(dec_path))\n",
    "\n",
    "embedding.eval()\n",
    "decoder.eval()\n",
    "valid_e_loss = valid_c_loss= 0\n",
    "valid_pred_t = []\n",
    "valid_t = []\n",
    "valid_e = []\n",
    "for i, (x, y, e) in enumerate(v_pair1):\n",
    "    x= x.to(device).float()\n",
    "    y = y.to(device).float()\n",
    "    e = e.to(device)        \n",
    "    x_emb, var_list = embedding(x.float())\n",
    "#     z, attn_score = attention(x_emb,x_emb,x_emb)\n",
    "    z, attn_score = attention(x_emb)\n",
    "\n",
    "    p_raw = decoder(clf.enc(z))\n",
    "\n",
    "    loss_NLL = NLL_reg(p_raw, y, e, tt)\n",
    "\n",
    "    # weighted average\n",
    "    t_wa_hat = wt_avg(p_raw, tt)\n",
    "\n",
    "    eloss, closs = point_loss(t_wa_hat, y, e, loss_type)\n",
    "    loss_est = closs + eloss\n",
    "\n",
    "    loss = loss_NLL + lambda_*loss_est\n",
    "    \n",
    "    valid_pred_t.append(t_wa_hat.squeeze())\n",
    "    valid_t.append(y.squeeze())\n",
    "    valid_e.append(e.squeeze())\n",
    "    valid_e_loss += eloss.item()\n",
    "\n",
    "    valid_c_loss += closs.item()\n",
    "\n",
    "print(valid_e_loss)\n"
   ]
  },
  {
   "cell_type": "code",
   "execution_count": null,
   "metadata": {},
   "outputs": [],
   "source": [
    "attn_score_avg = attn_score.mean(axis=0)\n",
    "ax = sns.heatmap(attn_score_avg.detach().cpu().numpy())\n",
    "plt.xticks_l = list(cov_list)\n",
    "plt.title('Attention Score')"
   ]
  },
  {
   "cell_type": "code",
   "execution_count": null,
   "metadata": {},
   "outputs": [],
   "source": []
  }
 ],
 "metadata": {
  "kernelspec": {
   "display_name": "ACSurv",
   "language": "python",
   "name": "acsurv"
  },
  "language_info": {
   "codemirror_mode": {
    "name": "ipython",
    "version": 3
   },
   "file_extension": ".py",
   "mimetype": "text/x-python",
   "name": "python",
   "nbconvert_exporter": "python",
   "pygments_lexer": "ipython3",
   "version": "3.8.8"
  }
 },
 "nbformat": 4,
 "nbformat_minor": 2
}
